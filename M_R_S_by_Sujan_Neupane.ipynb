{
 "cells": [
  {
   "cell_type": "markdown",
   "metadata": {
    "id": "xpJELFY0qnT_"
   },
   "source": [
    "# Content Based Simple Movie Recommendation System"
   ]
  },
  {
   "cell_type": "code",
   "execution_count": 1,
   "metadata": {
    "id": "sj7zQd6Ol4Cp"
   },
   "outputs": [],
   "source": [
    "# Importing the dependancies\n",
    "import numpy as np\n",
    "import pandas as pd\n",
    "from sklearn.feature_extraction.text import CountVectorizer\n",
    "from sklearn.metrics.pairwise import cosine_similarity\n",
    "import os\n",
    "import opendatasets as od"
   ]
  },
  {
   "cell_type": "code",
   "execution_count": 2,
   "metadata": {
    "id": "gy1iAfDcm8rU"
   },
   "outputs": [],
   "source": [
    "# Loading our csv file into pandas dataframe\n",
    "df = pd.read_csv('movies.csv')"
   ]
  },
  {
   "cell_type": "code",
   "execution_count": 3,
   "metadata": {
    "id": "JNa6BE2mnEaV"
   },
   "outputs": [],
   "source": [
    "# Dropping duplicates from our original dataframes\n",
    "df.drop_duplicates(inplace = True)"
   ]
  },
  {
   "cell_type": "code",
   "execution_count": 4,
   "metadata": {},
   "outputs": [
    {
     "data": {
      "text/html": [
       "<div>\n",
       "<style scoped>\n",
       "    .dataframe tbody tr th:only-of-type {\n",
       "        vertical-align: middle;\n",
       "    }\n",
       "\n",
       "    .dataframe tbody tr th {\n",
       "        vertical-align: top;\n",
       "    }\n",
       "\n",
       "    .dataframe thead th {\n",
       "        text-align: right;\n",
       "    }\n",
       "</style>\n",
       "<table border=\"1\" class=\"dataframe\">\n",
       "  <thead>\n",
       "    <tr style=\"text-align: right;\">\n",
       "      <th></th>\n",
       "      <th>index</th>\n",
       "      <th>budget</th>\n",
       "      <th>genres</th>\n",
       "      <th>homepage</th>\n",
       "      <th>id</th>\n",
       "      <th>keywords</th>\n",
       "      <th>original_language</th>\n",
       "      <th>original_title</th>\n",
       "      <th>overview</th>\n",
       "      <th>popularity</th>\n",
       "      <th>...</th>\n",
       "      <th>runtime</th>\n",
       "      <th>spoken_languages</th>\n",
       "      <th>status</th>\n",
       "      <th>tagline</th>\n",
       "      <th>title</th>\n",
       "      <th>vote_average</th>\n",
       "      <th>vote_count</th>\n",
       "      <th>cast</th>\n",
       "      <th>crew</th>\n",
       "      <th>director</th>\n",
       "    </tr>\n",
       "  </thead>\n",
       "  <tbody>\n",
       "    <tr>\n",
       "      <th>0</th>\n",
       "      <td>0</td>\n",
       "      <td>237000000</td>\n",
       "      <td>Action Adventure Fantasy Science Fiction</td>\n",
       "      <td>http://www.avatarmovie.com/</td>\n",
       "      <td>19995</td>\n",
       "      <td>culture clash future space war space colony so...</td>\n",
       "      <td>en</td>\n",
       "      <td>Avatar</td>\n",
       "      <td>In the 22nd century, a paraplegic Marine is di...</td>\n",
       "      <td>150.437577</td>\n",
       "      <td>...</td>\n",
       "      <td>162.0</td>\n",
       "      <td>[{\"iso_639_1\": \"en\", \"name\": \"English\"}, {\"iso...</td>\n",
       "      <td>Released</td>\n",
       "      <td>Enter the World of Pandora.</td>\n",
       "      <td>Avatar</td>\n",
       "      <td>7.2</td>\n",
       "      <td>11800</td>\n",
       "      <td>Sam Worthington Zoe Saldana Sigourney Weaver S...</td>\n",
       "      <td>[{'name': 'Stephen E. Rivkin', 'gender': 0, 'd...</td>\n",
       "      <td>James Cameron</td>\n",
       "    </tr>\n",
       "  </tbody>\n",
       "</table>\n",
       "<p>1 rows × 24 columns</p>\n",
       "</div>"
      ],
      "text/plain": [
       "   index     budget                                    genres  \\\n",
       "0      0  237000000  Action Adventure Fantasy Science Fiction   \n",
       "\n",
       "                      homepage     id  \\\n",
       "0  http://www.avatarmovie.com/  19995   \n",
       "\n",
       "                                            keywords original_language  \\\n",
       "0  culture clash future space war space colony so...                en   \n",
       "\n",
       "  original_title                                           overview  \\\n",
       "0         Avatar  In the 22nd century, a paraplegic Marine is di...   \n",
       "\n",
       "   popularity  ... runtime                                   spoken_languages  \\\n",
       "0  150.437577  ...   162.0  [{\"iso_639_1\": \"en\", \"name\": \"English\"}, {\"iso...   \n",
       "\n",
       "     status                      tagline   title vote_average vote_count  \\\n",
       "0  Released  Enter the World of Pandora.  Avatar          7.2      11800   \n",
       "\n",
       "                                                cast  \\\n",
       "0  Sam Worthington Zoe Saldana Sigourney Weaver S...   \n",
       "\n",
       "                                                crew       director  \n",
       "0  [{'name': 'Stephen E. Rivkin', 'gender': 0, 'd...  James Cameron  \n",
       "\n",
       "[1 rows x 24 columns]"
      ]
     },
     "execution_count": 4,
     "metadata": {},
     "output_type": "execute_result"
    }
   ],
   "source": [
    "df[df.title == 'Avatar']"
   ]
  },
  {
   "cell_type": "code",
   "execution_count": 55,
   "metadata": {
    "colab": {
     "base_uri": "https://localhost:8080/"
    },
    "id": "1lsss8B0nYRd",
    "outputId": "02f3616b-21c5-405e-d471-998cff3e6d20"
   },
   "outputs": [
    {
     "data": {
      "text/plain": [
       "Index(['index', 'budget', 'genres', 'homepage', 'id', 'keywords',\n",
       "       'original_language', 'original_title', 'overview', 'popularity',\n",
       "       'production_companies', 'production_countries', 'release_date',\n",
       "       'revenue', 'runtime', 'spoken_languages', 'status', 'tagline', 'title',\n",
       "       'vote_average', 'vote_count', 'cast', 'crew', 'director'],\n",
       "      dtype='object')"
      ]
     },
     "execution_count": 55,
     "metadata": {},
     "output_type": "execute_result"
    }
   ],
   "source": [
    "df.columns"
   ]
  },
  {
   "cell_type": "code",
   "execution_count": 56,
   "metadata": {
    "colab": {
     "base_uri": "https://localhost:8080/"
    },
    "id": "Sc-Mqr8gnY_9",
    "outputId": "2ef9456e-6dad-46d8-aed0-d83b973f6145"
   },
   "outputs": [
    {
     "data": {
      "text/plain": [
       "(4803, 24)"
      ]
     },
     "execution_count": 56,
     "metadata": {},
     "output_type": "execute_result"
    }
   ],
   "source": [
    "df.shape"
   ]
  },
  {
   "cell_type": "code",
   "execution_count": 57,
   "metadata": {
    "colab": {
     "base_uri": "https://localhost:8080/",
     "height": 348
    },
    "id": "ubwODGQ6nhqN",
    "outputId": "033f3000-0e80-4ab5-ce4c-bf7fa0c2463e"
   },
   "outputs": [
    {
     "data": {
      "text/html": [
       "<div>\n",
       "<style scoped>\n",
       "    .dataframe tbody tr th:only-of-type {\n",
       "        vertical-align: middle;\n",
       "    }\n",
       "\n",
       "    .dataframe tbody tr th {\n",
       "        vertical-align: top;\n",
       "    }\n",
       "\n",
       "    .dataframe thead th {\n",
       "        text-align: right;\n",
       "    }\n",
       "</style>\n",
       "<table border=\"1\" class=\"dataframe\">\n",
       "  <thead>\n",
       "    <tr style=\"text-align: right;\">\n",
       "      <th></th>\n",
       "      <th>index</th>\n",
       "      <th>budget</th>\n",
       "      <th>genres</th>\n",
       "      <th>homepage</th>\n",
       "      <th>id</th>\n",
       "      <th>keywords</th>\n",
       "      <th>original_language</th>\n",
       "      <th>original_title</th>\n",
       "      <th>overview</th>\n",
       "      <th>popularity</th>\n",
       "      <th>...</th>\n",
       "      <th>runtime</th>\n",
       "      <th>spoken_languages</th>\n",
       "      <th>status</th>\n",
       "      <th>tagline</th>\n",
       "      <th>title</th>\n",
       "      <th>vote_average</th>\n",
       "      <th>vote_count</th>\n",
       "      <th>cast</th>\n",
       "      <th>crew</th>\n",
       "      <th>director</th>\n",
       "    </tr>\n",
       "  </thead>\n",
       "  <tbody>\n",
       "    <tr>\n",
       "      <th>0</th>\n",
       "      <td>0</td>\n",
       "      <td>237000000</td>\n",
       "      <td>Action Adventure Fantasy Science Fiction</td>\n",
       "      <td>http://www.avatarmovie.com/</td>\n",
       "      <td>19995</td>\n",
       "      <td>culture clash future space war space colony so...</td>\n",
       "      <td>en</td>\n",
       "      <td>Avatar</td>\n",
       "      <td>In the 22nd century, a paraplegic Marine is di...</td>\n",
       "      <td>150.437577</td>\n",
       "      <td>...</td>\n",
       "      <td>162.0</td>\n",
       "      <td>[{\"iso_639_1\": \"en\", \"name\": \"English\"}, {\"iso...</td>\n",
       "      <td>Released</td>\n",
       "      <td>Enter the World of Pandora.</td>\n",
       "      <td>Avatar</td>\n",
       "      <td>7.2</td>\n",
       "      <td>11800</td>\n",
       "      <td>Sam Worthington Zoe Saldana Sigourney Weaver S...</td>\n",
       "      <td>[{'name': 'Stephen E. Rivkin', 'gender': 0, 'd...</td>\n",
       "      <td>James Cameron</td>\n",
       "    </tr>\n",
       "    <tr>\n",
       "      <th>1</th>\n",
       "      <td>1</td>\n",
       "      <td>300000000</td>\n",
       "      <td>Adventure Fantasy Action</td>\n",
       "      <td>http://disney.go.com/disneypictures/pirates/</td>\n",
       "      <td>285</td>\n",
       "      <td>ocean drug abuse exotic island east india trad...</td>\n",
       "      <td>en</td>\n",
       "      <td>Pirates of the Caribbean: At World's End</td>\n",
       "      <td>Captain Barbossa, long believed to be dead, ha...</td>\n",
       "      <td>139.082615</td>\n",
       "      <td>...</td>\n",
       "      <td>169.0</td>\n",
       "      <td>[{\"iso_639_1\": \"en\", \"name\": \"English\"}]</td>\n",
       "      <td>Released</td>\n",
       "      <td>At the end of the world, the adventure begins.</td>\n",
       "      <td>Pirates of the Caribbean: At World's End</td>\n",
       "      <td>6.9</td>\n",
       "      <td>4500</td>\n",
       "      <td>Johnny Depp Orlando Bloom Keira Knightley Stel...</td>\n",
       "      <td>[{'name': 'Dariusz Wolski', 'gender': 2, 'depa...</td>\n",
       "      <td>Gore Verbinski</td>\n",
       "    </tr>\n",
       "  </tbody>\n",
       "</table>\n",
       "<p>2 rows × 24 columns</p>\n",
       "</div>"
      ],
      "text/plain": [
       "   index     budget                                    genres  \\\n",
       "0      0  237000000  Action Adventure Fantasy Science Fiction   \n",
       "1      1  300000000                  Adventure Fantasy Action   \n",
       "\n",
       "                                       homepage     id  \\\n",
       "0                   http://www.avatarmovie.com/  19995   \n",
       "1  http://disney.go.com/disneypictures/pirates/    285   \n",
       "\n",
       "                                            keywords original_language  \\\n",
       "0  culture clash future space war space colony so...                en   \n",
       "1  ocean drug abuse exotic island east india trad...                en   \n",
       "\n",
       "                             original_title  \\\n",
       "0                                    Avatar   \n",
       "1  Pirates of the Caribbean: At World's End   \n",
       "\n",
       "                                            overview  popularity  ... runtime  \\\n",
       "0  In the 22nd century, a paraplegic Marine is di...  150.437577  ...   162.0   \n",
       "1  Captain Barbossa, long believed to be dead, ha...  139.082615  ...   169.0   \n",
       "\n",
       "                                    spoken_languages    status  \\\n",
       "0  [{\"iso_639_1\": \"en\", \"name\": \"English\"}, {\"iso...  Released   \n",
       "1           [{\"iso_639_1\": \"en\", \"name\": \"English\"}]  Released   \n",
       "\n",
       "                                          tagline  \\\n",
       "0                     Enter the World of Pandora.   \n",
       "1  At the end of the world, the adventure begins.   \n",
       "\n",
       "                                      title vote_average vote_count  \\\n",
       "0                                    Avatar          7.2      11800   \n",
       "1  Pirates of the Caribbean: At World's End          6.9       4500   \n",
       "\n",
       "                                                cast  \\\n",
       "0  Sam Worthington Zoe Saldana Sigourney Weaver S...   \n",
       "1  Johnny Depp Orlando Bloom Keira Knightley Stel...   \n",
       "\n",
       "                                                crew        director  \n",
       "0  [{'name': 'Stephen E. Rivkin', 'gender': 0, 'd...   James Cameron  \n",
       "1  [{'name': 'Dariusz Wolski', 'gender': 2, 'depa...  Gore Verbinski  \n",
       "\n",
       "[2 rows x 24 columns]"
      ]
     },
     "execution_count": 57,
     "metadata": {},
     "output_type": "execute_result"
    }
   ],
   "source": [
    "df.head(2)"
   ]
  },
  {
   "cell_type": "code",
   "execution_count": 58,
   "metadata": {
    "id": "HxT2Ai7onlUG"
   },
   "outputs": [],
   "source": [
    "# The following features will be used, and their values will be fed to CountVectorizer to build a vocabulary for movies\n",
    "selected_features = ['genres','keywords','cast','director']"
   ]
  },
  {
   "cell_type": "code",
   "execution_count": 59,
   "metadata": {
    "id": "QSuHEvKyomFK"
   },
   "outputs": [],
   "source": [
    "# Filling the null values for the selected features\n",
    "for i in selected_features:\n",
    "    df[i].fillna('', inplace = True)"
   ]
  },
  {
   "cell_type": "code",
   "execution_count": 60,
   "metadata": {
    "colab": {
     "base_uri": "https://localhost:8080/"
    },
    "id": "aZk0Hsi0pKnE",
    "outputId": "61db70bc-55f5-4776-be25-460c831c13a5"
   },
   "outputs": [
    {
     "data": {
      "text/plain": [
       "genres      0\n",
       "keywords    0\n",
       "cast        0\n",
       "director    0\n",
       "dtype: int64"
      ]
     },
     "execution_count": 60,
     "metadata": {},
     "output_type": "execute_result"
    }
   ],
   "source": [
    "df[selected_features].isnull().sum()"
   ]
  },
  {
   "cell_type": "code",
   "execution_count": 61,
   "metadata": {
    "id": "P5WNnpE0pOY-"
   },
   "outputs": [],
   "source": [
    "# Combining all values of selected features from the df dataframes into a single series\n",
    "combined_features = df[selected_features[0]]+\" \"+df[selected_features[1]]+\" \"+df[selected_features[2]]+\" \"+df[selected_features[3]] # +\" \"+df[selected_features[4]]+\" \"+df[selected_features[5]]"
   ]
  },
  {
   "cell_type": "code",
   "execution_count": 62,
   "metadata": {},
   "outputs": [
    {
     "data": {
      "text/plain": [
       "pandas.core.series.Series"
      ]
     },
     "execution_count": 62,
     "metadata": {},
     "output_type": "execute_result"
    }
   ],
   "source": [
    "type(combined_features)"
   ]
  },
  {
   "cell_type": "code",
   "execution_count": 63,
   "metadata": {
    "id": "Gyp-3CzgrPcO"
   },
   "outputs": [],
   "source": [
    "# Converting entire series into lowercase\n",
    "combined_features = combined_features.str.lower()"
   ]
  },
  {
   "cell_type": "code",
   "execution_count": 64,
   "metadata": {
    "colab": {
     "base_uri": "https://localhost:8080/"
    },
    "id": "Lz7CrHBxprMu",
    "outputId": "1191e587-3251-4012-afa7-3cff4a20c01a"
   },
   "outputs": [
    {
     "name": "stdout",
     "output_type": "stream",
     "text": [
      "0       action adventure fantasy science fiction cultu...\n",
      "1       adventure fantasy action ocean drug abuse exot...\n",
      "2       action adventure crime spy based on novel secr...\n",
      "3       action crime drama thriller dc comics crime fi...\n",
      "4       action adventure science fiction based on nove...\n",
      "                              ...                        \n",
      "4798    action crime thriller united states\\u2013mexic...\n",
      "4799    comedy romance  edward burns kerry bish\\u00e9 ...\n",
      "4800    comedy drama romance tv movie date love at fir...\n",
      "4801      daniel henney eliza coupe bill paxton alan r...\n",
      "4802    documentary obsession camcorder crush dream gi...\n",
      "Length: 4803, dtype: object\n"
     ]
    }
   ],
   "source": [
    "print(combined_features)"
   ]
  },
  {
   "cell_type": "code",
   "execution_count": 65,
   "metadata": {
    "id": "9-RmHa3epsst"
   },
   "outputs": [],
   "source": [
    "# Importing count Vectorizer\n",
    "vect = CountVectorizer()"
   ]
  },
  {
   "cell_type": "code",
   "execution_count": 66,
   "metadata": {
    "id": "wiiFUymsqBRd"
   },
   "outputs": [],
   "source": [
    "# Learning the vocabulary of the series, and converting the vocab into a sparse matrix\n",
    "feature_vectors = vect.fit_transform(combined_features)"
   ]
  },
  {
   "cell_type": "code",
   "execution_count": 67,
   "metadata": {},
   "outputs": [
    {
     "data": {
      "text/plain": [
       "<4803x14845 sparse matrix of type '<class 'numpy.int64'>'\n",
       "\twith 97547 stored elements in Compressed Sparse Row format>"
      ]
     },
     "execution_count": 67,
     "metadata": {},
     "output_type": "execute_result"
    }
   ],
   "source": [
    "feature_vectors"
   ]
  },
  {
   "cell_type": "code",
   "execution_count": 68,
   "metadata": {
    "colab": {
     "base_uri": "https://localhost:8080/"
    },
    "id": "6hZ3ZUazqMvO",
    "outputId": "d10960d0-c6c6-4ea9-bc20-8ad86d994311"
   },
   "outputs": [
    {
     "data": {
      "text/plain": [
       "array([[0, 0, 0, ..., 0, 0, 0],\n",
       "       [0, 0, 0, ..., 0, 0, 0],\n",
       "       [0, 0, 0, ..., 0, 0, 0],\n",
       "       ...,\n",
       "       [0, 0, 0, ..., 0, 0, 0],\n",
       "       [0, 0, 0, ..., 0, 0, 0],\n",
       "       [0, 0, 0, ..., 0, 0, 0]], dtype=int64)"
      ]
     },
     "execution_count": 68,
     "metadata": {},
     "output_type": "execute_result"
    }
   ],
   "source": [
    "# convert sparse matrix to a dense matrix\n",
    "feature_vectors.toarray()"
   ]
  },
  {
   "cell_type": "markdown",
   "metadata": {
    "id": "nElbwhD4qVpo"
   },
   "source": [
    "<b> Using the Cosine Similarity"
   ]
  },
  {
   "cell_type": "code",
   "execution_count": 69,
   "metadata": {
    "id": "kZn1jxU-qO6-"
   },
   "outputs": [],
   "source": [
    "# This function measures the similarities of 4803 movies with each other resulting the resultant dimension being 4903*4803\n",
    "similarity = cosine_similarity(feature_vectors)"
   ]
  },
  {
   "cell_type": "code",
   "execution_count": 70,
   "metadata": {
    "colab": {
     "base_uri": "https://localhost:8080/"
    },
    "id": "FIKWvg4cqddO",
    "outputId": "dd83bed6-ed5d-4194-ba0a-249c21c7fccd"
   },
   "outputs": [
    {
     "data": {
      "text/plain": [
       "array([[1.        , 0.10540926, 0.12038585, ..., 0.        , 0.        ,\n",
       "        0.        ],\n",
       "       [0.10540926, 1.        , 0.0761387 , ..., 0.03651484, 0.        ,\n",
       "        0.        ],\n",
       "       [0.12038585, 0.0761387 , 1.        , ..., 0.        , 0.11145564,\n",
       "        0.        ],\n",
       "       ...,\n",
       "       [0.        , 0.03651484, 0.        , ..., 1.        , 0.        ,\n",
       "        0.04264014],\n",
       "       [0.        , 0.        , 0.11145564, ..., 0.        , 1.        ,\n",
       "        0.        ],\n",
       "       [0.        , 0.        , 0.        , ..., 0.04264014, 0.        ,\n",
       "        1.        ]])"
      ]
     },
     "execution_count": 70,
     "metadata": {},
     "output_type": "execute_result"
    }
   ],
   "source": [
    "similarity"
   ]
  },
  {
   "cell_type": "code",
   "execution_count": 71,
   "metadata": {
    "colab": {
     "base_uri": "https://localhost:8080/"
    },
    "id": "jwQdWE8NqfL9",
    "outputId": "9e93b770-3cfe-470e-e3df-d603b8cfc68f"
   },
   "outputs": [
    {
     "data": {
      "text/plain": [
       "(4803, 4803)"
      ]
     },
     "execution_count": 71,
     "metadata": {},
     "output_type": "execute_result"
    }
   ],
   "source": [
    "similarity.shape"
   ]
  },
  {
   "cell_type": "markdown",
   "metadata": {
    "id": "_wIKFuTlqysL"
   },
   "source": [
    "# Developing the System"
   ]
  },
  {
   "cell_type": "code",
   "execution_count": 72,
   "metadata": {
    "colab": {
     "base_uri": "https://localhost:8080/"
    },
    "id": "mHiDWgEMqjs9",
    "outputId": "1f6ad78d-cbdd-42d9-82b6-7e06ff494dc0"
   },
   "outputs": [
    {
     "name": "stdout",
     "output_type": "stream",
     "text": [
      "Enter the Name of your Favourite Movie: the godfather\n"
     ]
    }
   ],
   "source": [
    "# Getting the User's Favourite Movie\n",
    "movie = input(\"Enter the Name of your Favourite Movie: \")"
   ]
  },
  {
   "cell_type": "code",
   "execution_count": 73,
   "metadata": {
    "id": "CO54ULsvq_O2"
   },
   "outputs": [],
   "source": [
    "# Converting user's input into lowercase\n",
    "movie = movie.lower()"
   ]
  },
  {
   "cell_type": "code",
   "execution_count": 74,
   "metadata": {
    "id": "g4clnsqmrZY-"
   },
   "outputs": [],
   "source": [
    "# Accessing all movies from the dataframe\n",
    "all_movies = df['title'].tolist()"
   ]
  },
  {
   "cell_type": "code",
   "execution_count": 75,
   "metadata": {
    "id": "S2JdS4cYsXSd"
   },
   "outputs": [],
   "source": [
    "all_movies = [x.lower() for x in all_movies]"
   ]
  },
  {
   "cell_type": "code",
   "execution_count": 76,
   "metadata": {
    "colab": {
     "base_uri": "https://localhost:8080/"
    },
    "id": "TSKWwjEMsg8O",
    "outputId": "3933c2ef-50a2-4f5b-80a8-e669b928217d"
   },
   "outputs": [
    {
     "data": {
      "text/plain": [
       "['avatar',\n",
       " \"pirates of the caribbean: at world's end\",\n",
       " 'spectre',\n",
       " 'the dark knight rises',\n",
       " 'john carter',\n",
       " 'spider-man 3',\n",
       " 'tangled',\n",
       " 'avengers: age of ultron',\n",
       " 'harry potter and the half-blood prince',\n",
       " 'batman v superman: dawn of justice',\n",
       " 'superman returns',\n",
       " 'quantum of solace',\n",
       " \"pirates of the caribbean: dead man's chest\",\n",
       " 'the lone ranger',\n",
       " 'man of steel',\n",
       " 'the chronicles of narnia: prince caspian',\n",
       " 'the avengers',\n",
       " 'pirates of the caribbean: on stranger tides',\n",
       " 'men in black 3',\n",
       " 'the hobbit: the battle of the five armies',\n",
       " 'the amazing spider-man',\n",
       " 'robin hood',\n",
       " 'the hobbit: the desolation of smaug',\n",
       " 'the golden compass',\n",
       " 'king kong',\n",
       " 'titanic',\n",
       " 'captain america: civil war',\n",
       " 'battleship',\n",
       " 'jurassic world',\n",
       " 'skyfall',\n",
       " 'spider-man 2',\n",
       " 'iron man 3',\n",
       " 'alice in wonderland',\n",
       " 'x-men: the last stand',\n",
       " 'monsters university',\n",
       " 'transformers: revenge of the fallen',\n",
       " 'transformers: age of extinction',\n",
       " 'oz: the great and powerful',\n",
       " 'the amazing spider-man 2',\n",
       " 'tron: legacy',\n",
       " 'cars 2',\n",
       " 'green lantern',\n",
       " 'toy story 3',\n",
       " 'terminator salvation',\n",
       " 'furious 7',\n",
       " 'world war z',\n",
       " 'x-men: days of future past',\n",
       " 'star trek into darkness',\n",
       " 'jack the giant slayer',\n",
       " 'the great gatsby',\n",
       " 'prince of persia: the sands of time',\n",
       " 'pacific rim',\n",
       " 'transformers: dark of the moon',\n",
       " 'indiana jones and the kingdom of the crystal skull',\n",
       " 'the good dinosaur',\n",
       " 'brave',\n",
       " 'star trek beyond',\n",
       " 'wall·e',\n",
       " 'rush hour 3',\n",
       " '2012',\n",
       " 'a christmas carol',\n",
       " 'jupiter ascending',\n",
       " 'the legend of tarzan',\n",
       " 'the chronicles of narnia: the lion, the witch and the wardrobe',\n",
       " 'x-men: apocalypse',\n",
       " 'the dark knight',\n",
       " 'up',\n",
       " 'monsters vs aliens',\n",
       " 'iron man',\n",
       " 'hugo',\n",
       " 'wild wild west',\n",
       " 'the mummy: tomb of the dragon emperor',\n",
       " 'suicide squad',\n",
       " 'evan almighty',\n",
       " 'edge of tomorrow',\n",
       " 'waterworld',\n",
       " 'g.i. joe: the rise of cobra',\n",
       " 'inside out',\n",
       " 'the jungle book',\n",
       " 'iron man 2',\n",
       " 'snow white and the huntsman',\n",
       " 'maleficent',\n",
       " 'dawn of the planet of the apes',\n",
       " 'the lovers',\n",
       " '47 ronin',\n",
       " 'captain america: the winter soldier',\n",
       " 'shrek forever after',\n",
       " 'tomorrowland',\n",
       " 'big hero 6',\n",
       " 'wreck-it ralph',\n",
       " 'the polar express',\n",
       " 'independence day: resurgence',\n",
       " 'how to train your dragon',\n",
       " 'terminator 3: rise of the machines',\n",
       " 'guardians of the galaxy',\n",
       " 'interstellar',\n",
       " 'inception',\n",
       " 'shin godzilla',\n",
       " 'the hobbit: an unexpected journey',\n",
       " 'the fast and the furious',\n",
       " 'the curious case of benjamin button',\n",
       " 'x-men: first class',\n",
       " 'the hunger games: mockingjay - part 2',\n",
       " \"the sorcerer's apprentice\",\n",
       " 'poseidon',\n",
       " 'alice through the looking glass',\n",
       " 'shrek the third',\n",
       " 'warcraft',\n",
       " 'terminator genisys',\n",
       " 'the chronicles of narnia: the voyage of the dawn treader',\n",
       " 'pearl harbor',\n",
       " 'transformers',\n",
       " 'alexander',\n",
       " 'harry potter and the order of the phoenix',\n",
       " 'harry potter and the goblet of fire',\n",
       " 'hancock',\n",
       " 'i am legend',\n",
       " 'charlie and the chocolate factory',\n",
       " 'ratatouille',\n",
       " 'batman begins',\n",
       " 'madagascar: escape 2 africa',\n",
       " 'night at the museum: battle of the smithsonian',\n",
       " 'x-men origins: wolverine',\n",
       " 'the matrix revolutions',\n",
       " 'frozen',\n",
       " 'the matrix reloaded',\n",
       " 'thor: the dark world',\n",
       " 'mad max: fury road',\n",
       " 'angels & demons',\n",
       " 'thor',\n",
       " 'bolt',\n",
       " 'g-force',\n",
       " 'wrath of the titans',\n",
       " 'dark shadows',\n",
       " 'mission: impossible - rogue nation',\n",
       " 'the wolfman',\n",
       " 'bee movie',\n",
       " 'kung fu panda 2',\n",
       " 'the last airbender',\n",
       " 'mission: impossible iii',\n",
       " 'white house down',\n",
       " 'mars needs moms',\n",
       " 'flushed away',\n",
       " 'pan',\n",
       " 'mr. peabody & sherman',\n",
       " 'troy',\n",
       " \"madagascar 3: europe's most wanted\",\n",
       " 'die another day',\n",
       " 'ghostbusters',\n",
       " 'armageddon',\n",
       " 'men in black ii',\n",
       " 'beowulf',\n",
       " 'kung fu panda 3',\n",
       " 'mission: impossible - ghost protocol',\n",
       " 'rise of the guardians',\n",
       " 'fun with dick and jane',\n",
       " 'the last samurai',\n",
       " 'exodus: gods and kings',\n",
       " 'star trek',\n",
       " 'spider-man',\n",
       " 'how to train your dragon 2',\n",
       " 'gods of egypt',\n",
       " 'stealth',\n",
       " 'watchmen',\n",
       " 'lethal weapon 4',\n",
       " 'hulk',\n",
       " 'g.i. joe: retaliation',\n",
       " 'sahara',\n",
       " 'final fantasy: the spirits within',\n",
       " 'captain america: the first avenger',\n",
       " 'the world is not enough',\n",
       " 'master and commander: the far side of the world',\n",
       " 'the twilight saga: breaking dawn - part 2',\n",
       " 'happy feet two',\n",
       " 'the incredible hulk',\n",
       " 'the bfg',\n",
       " 'the revenant',\n",
       " 'turbo',\n",
       " 'rango',\n",
       " 'penguins of madagascar',\n",
       " 'the bourne ultimatum',\n",
       " 'kung fu panda',\n",
       " 'ant-man',\n",
       " 'the hunger games: catching fire',\n",
       " 'home',\n",
       " 'war of the worlds',\n",
       " 'bad boys ii',\n",
       " 'puss in boots',\n",
       " 'salt',\n",
       " 'noah',\n",
       " 'the adventures of tintin',\n",
       " 'harry potter and the prisoner of azkaban',\n",
       " 'australia',\n",
       " 'after earth',\n",
       " 'dinosaur',\n",
       " 'night at the museum: secret of the tomb',\n",
       " 'megamind',\n",
       " \"harry potter and the philosopher's stone\",\n",
       " 'r.i.p.d.',\n",
       " 'pirates of the caribbean: the curse of the black pearl',\n",
       " 'the hunger games: mockingjay - part 1',\n",
       " 'the da vinci code',\n",
       " 'rio 2',\n",
       " 'x2',\n",
       " 'fast five',\n",
       " 'sherlock holmes: a game of shadows',\n",
       " 'clash of the titans',\n",
       " 'total recall',\n",
       " 'the 13th warrior',\n",
       " 'the bourne legacy',\n",
       " 'batman & robin',\n",
       " 'how the grinch stole christmas',\n",
       " 'the day after tomorrow',\n",
       " 'mission: impossible ii',\n",
       " 'the perfect storm',\n",
       " 'fantastic 4: rise of the silver surfer',\n",
       " 'life of pi',\n",
       " 'ghost rider',\n",
       " 'jason bourne',\n",
       " \"charlie's angels: full throttle\",\n",
       " 'prometheus',\n",
       " 'stuart little 2',\n",
       " 'elysium',\n",
       " 'the chronicles of riddick',\n",
       " 'robocop',\n",
       " 'speed racer',\n",
       " 'how do you know',\n",
       " 'knight and day',\n",
       " 'oblivion',\n",
       " 'star wars: episode iii - revenge of the sith',\n",
       " 'star wars: episode ii - attack of the clones',\n",
       " 'monsters, inc.',\n",
       " 'the wolverine',\n",
       " 'star wars: episode i - the phantom menace',\n",
       " 'the croods',\n",
       " 'asterix at the olympic games',\n",
       " 'windtalkers',\n",
       " \"the huntsman: winter's war\",\n",
       " 'teenage mutant ninja turtles',\n",
       " 'gravity',\n",
       " \"dante's peak\",\n",
       " 'teenage mutant ninja turtles: out of the shadows',\n",
       " 'fantastic four',\n",
       " 'night at the museum',\n",
       " 'san andreas',\n",
       " 'tomorrow never dies',\n",
       " 'the patriot',\n",
       " \"ocean's twelve\",\n",
       " 'mr. & mrs. smith',\n",
       " 'insurgent',\n",
       " 'the aviator',\n",
       " \"gulliver's travels\",\n",
       " 'the green hornet',\n",
       " '300: rise of an empire',\n",
       " 'the smurfs',\n",
       " 'home on the range',\n",
       " 'allegiant',\n",
       " 'real steel',\n",
       " 'the smurfs 2',\n",
       " 'speed 2: cruise control',\n",
       " \"ender's game\",\n",
       " 'live free or die hard',\n",
       " 'the lord of the rings: the fellowship of the ring',\n",
       " 'around the world in 80 days',\n",
       " 'ali',\n",
       " 'the cat in the hat',\n",
       " 'i, robot',\n",
       " 'kingdom of heaven',\n",
       " 'stuart little',\n",
       " 'the princess and the frog',\n",
       " 'the martian',\n",
       " 'the island',\n",
       " 'town & country',\n",
       " 'gone in sixty seconds',\n",
       " 'gladiator',\n",
       " 'minority report',\n",
       " 'harry potter and the chamber of secrets',\n",
       " 'casino royale',\n",
       " 'planet of the apes',\n",
       " 'terminator 2: judgment day',\n",
       " 'public enemies',\n",
       " 'american gangster',\n",
       " 'true lies',\n",
       " 'the taking of pelham 1 2 3',\n",
       " 'little fockers',\n",
       " 'the other guys',\n",
       " 'eraser',\n",
       " 'django unchained',\n",
       " 'the hunchback of notre dame',\n",
       " \"the emperor's new groove\",\n",
       " 'the expendables 2',\n",
       " 'national treasure',\n",
       " 'eragon',\n",
       " 'where the wild things are',\n",
       " 'epic',\n",
       " 'the tourist',\n",
       " 'end of days',\n",
       " 'blood diamond',\n",
       " 'the wolf of wall street',\n",
       " 'batman forever',\n",
       " 'starship troopers',\n",
       " 'cloud atlas',\n",
       " \"legend of the guardians: the owls of ga'hoole\",\n",
       " 'catwoman',\n",
       " 'hercules',\n",
       " 'treasure planet',\n",
       " 'land of the lost',\n",
       " 'the expendables 3',\n",
       " 'point break',\n",
       " 'son of the mask',\n",
       " 'in the heart of the sea',\n",
       " 'the adventures of pluto nash',\n",
       " 'green zone',\n",
       " 'the peanuts movie',\n",
       " 'the spanish prisoner',\n",
       " 'the mummy returns',\n",
       " 'gangs of new york',\n",
       " 'the flowers of war',\n",
       " \"surf's up\",\n",
       " 'the stepford wives',\n",
       " 'black hawk down',\n",
       " 'the campaign',\n",
       " 'the fifth element',\n",
       " 'sex and the city 2',\n",
       " 'the road to el dorado',\n",
       " 'ice age: continental drift',\n",
       " 'cinderella',\n",
       " 'the lovely bones',\n",
       " 'finding nemo',\n",
       " 'the lord of the rings: the return of the king',\n",
       " 'the lord of the rings: the two towers',\n",
       " 'seventh son',\n",
       " 'lara croft: tomb raider',\n",
       " 'transcendence',\n",
       " 'jurassic park iii',\n",
       " 'rise of the planet of the apes',\n",
       " 'the spiderwick chronicles',\n",
       " 'a good day to die hard',\n",
       " 'the alamo',\n",
       " 'the incredibles',\n",
       " 'cutthroat island',\n",
       " 'percy jackson & the olympians: the lightning thief',\n",
       " 'men in black',\n",
       " 'toy story 2',\n",
       " 'unstoppable',\n",
       " 'rush hour 2',\n",
       " 'what lies beneath',\n",
       " 'cloudy with a chance of meatballs',\n",
       " 'ice age: dawn of the dinosaurs',\n",
       " 'the secret life of walter mitty',\n",
       " \"charlie's angels\",\n",
       " 'the departed',\n",
       " 'mulan',\n",
       " 'tropic thunder',\n",
       " 'the girl with the dragon tattoo',\n",
       " 'die hard: with a vengeance',\n",
       " 'sherlock holmes',\n",
       " 'ben-hur',\n",
       " 'atlantis: the lost empire',\n",
       " 'alvin and the chipmunks: the road chip',\n",
       " 'valkyrie',\n",
       " \"you don't mess with the zohan\",\n",
       " 'pixels',\n",
       " 'a.i. artificial intelligence',\n",
       " 'the haunted mansion',\n",
       " 'contact',\n",
       " 'hollow man',\n",
       " 'the interpreter',\n",
       " 'percy jackson: sea of monsters',\n",
       " 'lara croft tomb raider: the cradle of life',\n",
       " 'now you see me 2',\n",
       " 'the saint',\n",
       " 'spy game',\n",
       " 'mission to mars',\n",
       " 'rio',\n",
       " 'bicentennial man',\n",
       " 'volcano',\n",
       " \"the devil's own\",\n",
       " 'k-19: the widowmaker',\n",
       " 'conan the barbarian',\n",
       " 'cinderella man',\n",
       " 'the nutcracker: the untold story',\n",
       " 'seabiscuit',\n",
       " 'twister',\n",
       " 'cast away',\n",
       " 'happy feet',\n",
       " 'the bourne supremacy',\n",
       " 'air force one',\n",
       " \"ocean's eleven\",\n",
       " 'the three musketeers',\n",
       " 'hotel transylvania',\n",
       " 'enchanted',\n",
       " 'safe house',\n",
       " '102 dalmatians',\n",
       " 'tower heist',\n",
       " 'the holiday',\n",
       " 'enemy of the state',\n",
       " \"it's complicated\",\n",
       " \"ocean's thirteen\",\n",
       " 'open season',\n",
       " 'divergent',\n",
       " 'enemy at the gates',\n",
       " 'the rundown',\n",
       " 'last action hero',\n",
       " 'memoirs of a geisha',\n",
       " 'the fast and the furious: tokyo drift',\n",
       " 'arthur christmas',\n",
       " 'meet joe black',\n",
       " 'collateral damage',\n",
       " 'all that jazz',\n",
       " 'mirror mirror',\n",
       " 'scott pilgrim vs. the world',\n",
       " 'the core',\n",
       " 'nutty professor ii: the klumps',\n",
       " 'scooby-doo',\n",
       " 'dredd',\n",
       " 'click',\n",
       " 'creepshow',\n",
       " 'cats & dogs 2 : the revenge of kitty galore',\n",
       " 'jumper',\n",
       " 'hellboy ii: the golden army',\n",
       " 'zodiac',\n",
       " 'the 6th day',\n",
       " 'bruce almighty',\n",
       " 'the expendables',\n",
       " 'mission: impossible',\n",
       " 'the hunger games',\n",
       " 'the hangover part ii',\n",
       " 'batman returns',\n",
       " 'over the hedge',\n",
       " 'lilo & stitch',\n",
       " \"charlotte's web\",\n",
       " 'deep impact',\n",
       " 'red 2',\n",
       " 'the longest yard',\n",
       " 'alvin and the chipmunks: chipwrecked',\n",
       " 'grown ups 2',\n",
       " 'get smart',\n",
       " \"something's gotta give\",\n",
       " 'shutter island',\n",
       " 'four christmases',\n",
       " 'robots',\n",
       " 'face/off',\n",
       " 'bedtime stories',\n",
       " 'road to perdition',\n",
       " 'just go with it',\n",
       " 'con air',\n",
       " 'eagle eye',\n",
       " 'cold mountain',\n",
       " 'the book of eli',\n",
       " 'flubber',\n",
       " 'the haunting',\n",
       " 'space jam',\n",
       " 'the pink panther',\n",
       " 'the day the earth stood still',\n",
       " 'conspiracy theory',\n",
       " 'fury',\n",
       " 'six days seven nights',\n",
       " 'yogi bear',\n",
       " 'spirit: stallion of the cimarron',\n",
       " 'zookeeper',\n",
       " 'lost in space',\n",
       " 'the manchurian candidate',\n",
       " 'déjà vu',\n",
       " 'hotel transylvania 2',\n",
       " 'fantasia 2000',\n",
       " 'the time machine',\n",
       " 'mighty joe young',\n",
       " 'swordfish',\n",
       " 'the legend of zorro',\n",
       " 'what dreams may come',\n",
       " 'little nicky',\n",
       " 'the brothers grimm',\n",
       " 'mars attacks!',\n",
       " 'evolution',\n",
       " 'the edge',\n",
       " 'surrogates',\n",
       " 'thirteen days',\n",
       " 'daylight',\n",
       " 'walking with dinosaurs',\n",
       " 'battlefield earth',\n",
       " 'looney tunes: back in action',\n",
       " 'nine',\n",
       " 'timeline',\n",
       " 'the postman',\n",
       " 'babe: pig in the city',\n",
       " 'the last witch hunter',\n",
       " 'red planet',\n",
       " 'arthur and the invisibles',\n",
       " 'oceans',\n",
       " 'a sound of thunder',\n",
       " 'pompeii',\n",
       " 'top cat begins',\n",
       " 'a beautiful mind',\n",
       " 'the lion king',\n",
       " 'journey 2: the mysterious island',\n",
       " 'cloudy with a chance of meatballs 2',\n",
       " 'red dragon',\n",
       " 'hidalgo',\n",
       " 'jack and jill',\n",
       " '2 fast 2 furious',\n",
       " 'the little prince',\n",
       " 'the invasion',\n",
       " 'the adventures of rocky & bullwinkle',\n",
       " 'the secret life of pets',\n",
       " 'the league of extraordinary gentlemen',\n",
       " 'despicable me 2',\n",
       " 'independence day',\n",
       " 'the lost world: jurassic park',\n",
       " 'madagascar',\n",
       " 'children of men',\n",
       " 'x-men',\n",
       " 'wanted',\n",
       " 'the rock',\n",
       " 'ice age: the meltdown',\n",
       " '50 first dates',\n",
       " 'hairspray',\n",
       " 'exorcist: the beginning',\n",
       " 'inspector gadget',\n",
       " 'now you see me',\n",
       " 'grown ups',\n",
       " 'the terminal',\n",
       " 'hotel for dogs',\n",
       " 'vertical limit',\n",
       " \"charlie wilson's war\",\n",
       " 'shark tale',\n",
       " 'dreamgirls',\n",
       " 'be cool',\n",
       " 'munich',\n",
       " 'tears of the sun',\n",
       " 'killers',\n",
       " 'the man from u.n.c.l.e.',\n",
       " 'spanglish',\n",
       " 'monster house',\n",
       " 'bandits',\n",
       " 'first knight',\n",
       " 'anna and the king',\n",
       " 'immortals',\n",
       " 'hostage',\n",
       " 'titan a.e.',\n",
       " 'hollywood homicide',\n",
       " 'soldier',\n",
       " 'carriers',\n",
       " 'monkeybone',\n",
       " 'flight of the phoenix',\n",
       " 'unbreakable',\n",
       " 'minions',\n",
       " 'sucker punch',\n",
       " 'snake eyes',\n",
       " 'sphere',\n",
       " 'the angry birds movie',\n",
       " \"fool's gold\",\n",
       " 'funny people',\n",
       " 'the kingdom',\n",
       " 'talladega nights: the ballad of ricky bobby',\n",
       " 'dr. dolittle 2',\n",
       " 'braveheart',\n",
       " 'jarhead',\n",
       " 'the simpsons movie',\n",
       " 'the majestic',\n",
       " 'driven',\n",
       " 'two brothers',\n",
       " 'the village',\n",
       " 'doctor dolittle',\n",
       " 'signs',\n",
       " 'shrek 2',\n",
       " 'cars',\n",
       " 'runaway bride',\n",
       " 'xxx',\n",
       " 'the spongebob movie: sponge out of water',\n",
       " 'ransom',\n",
       " 'inglourious basterds',\n",
       " 'hook',\n",
       " 'die hard 2',\n",
       " 's.w.a.t.',\n",
       " 'vanilla sky',\n",
       " 'lady in the water',\n",
       " 'avp: alien vs. predator',\n",
       " 'alvin and the chipmunks: the squeakquel',\n",
       " 'we were soldiers',\n",
       " 'olympus has fallen',\n",
       " 'star trek: insurrection',\n",
       " 'battle: los angeles',\n",
       " 'big fish',\n",
       " 'wolf',\n",
       " 'war horse',\n",
       " 'the monuments men',\n",
       " 'the abyss',\n",
       " 'wall street: money never sleeps',\n",
       " 'dracula untold',\n",
       " 'the siege',\n",
       " 'stardust',\n",
       " 'seven years in tibet',\n",
       " 'the dilemma',\n",
       " 'bad company',\n",
       " 'doom',\n",
       " 'i spy',\n",
       " 'underworld: awakening',\n",
       " 'rock of ages',\n",
       " \"hart's war\",\n",
       " 'killer elite',\n",
       " 'rollerball',\n",
       " 'ballistic: ecks vs. sever',\n",
       " 'hard rain',\n",
       " 'osmosis jones',\n",
       " \"legends of oz: dorothy's return\",\n",
       " 'blackhat',\n",
       " 'sky captain and the world of tomorrow',\n",
       " 'basic instinct 2',\n",
       " 'escape plan',\n",
       " 'the legend of hercules',\n",
       " 'the sum of all fears',\n",
       " 'the twilight saga: eclipse',\n",
       " 'the score',\n",
       " 'despicable me',\n",
       " 'money train',\n",
       " 'ted 2',\n",
       " 'agora',\n",
       " 'mystery men',\n",
       " 'hall pass',\n",
       " 'the insider',\n",
       " 'the finest hours',\n",
       " 'body of lies',\n",
       " 'dinner for schmucks',\n",
       " 'abraham lincoln: vampire hunter',\n",
       " 'entrapment',\n",
       " 'the x files',\n",
       " 'the last legion',\n",
       " 'saving private ryan',\n",
       " 'need for speed',\n",
       " 'what women want',\n",
       " 'ice age',\n",
       " 'dreamcatcher',\n",
       " 'lincoln',\n",
       " 'the matrix',\n",
       " 'apollo 13',\n",
       " 'the santa clause 2',\n",
       " 'les misérables',\n",
       " \"you've got mail\",\n",
       " 'step brothers',\n",
       " 'the mask of zorro',\n",
       " 'due date',\n",
       " 'unbroken',\n",
       " 'space cowboys',\n",
       " 'cliffhanger',\n",
       " 'broken arrow',\n",
       " 'the kid',\n",
       " 'world trade center',\n",
       " 'mona lisa smile',\n",
       " 'the dictator',\n",
       " 'eyes wide shut',\n",
       " 'annie',\n",
       " 'focus',\n",
       " 'this means war',\n",
       " 'blade: trinity',\n",
       " 'red dawn',\n",
       " 'primary colors',\n",
       " 'resident evil: retribution',\n",
       " 'death race',\n",
       " 'the long kiss goodnight',\n",
       " 'proof of life',\n",
       " 'zathura: a space adventure',\n",
       " 'fight club',\n",
       " 'we are marshall',\n",
       " 'hudson hawk',\n",
       " 'lucky numbers',\n",
       " 'i, frankenstein',\n",
       " 'oliver twist',\n",
       " 'elektra',\n",
       " 'sin city: a dame to kill for',\n",
       " 'random hearts',\n",
       " 'everest',\n",
       " 'perfume: the story of a murderer',\n",
       " 'austin powers in goldmember',\n",
       " 'astro boy',\n",
       " 'jurassic park',\n",
       " 'wyatt earp',\n",
       " 'clear and present danger',\n",
       " 'dragon blade',\n",
       " 'little man',\n",
       " 'u-571',\n",
       " 'the american president',\n",
       " 'the love guru',\n",
       " '3000 miles to graceland',\n",
       " 'the hateful eight',\n",
       " 'blades of glory',\n",
       " 'hop',\n",
       " '300',\n",
       " 'meet the fockers',\n",
       " 'marley & me',\n",
       " 'the green mile',\n",
       " 'wild hogs',\n",
       " 'chicken little',\n",
       " 'gone girl',\n",
       " 'the bourne identity',\n",
       " 'goldeneye',\n",
       " \"the general's daughter\",\n",
       " 'the truman show',\n",
       " 'the prince of egypt',\n",
       " 'daddy day care',\n",
       " '2 guns',\n",
       " 'cats & dogs',\n",
       " 'the italian job',\n",
       " 'two weeks notice',\n",
       " 'antz',\n",
       " 'couples retreat',\n",
       " 'days of thunder',\n",
       " 'cheaper by the dozen 2',\n",
       " 'maze runner: the scorch trials',\n",
       " 'eat pray love',\n",
       " 'the family man',\n",
       " 'red',\n",
       " 'any given sunday',\n",
       " 'the horse whisperer',\n",
       " 'collateral',\n",
       " 'the scorpion king',\n",
       " 'ladder 49',\n",
       " 'jack reacher',\n",
       " 'deep blue sea',\n",
       " 'this is it',\n",
       " 'contagion',\n",
       " 'kangaroo jack',\n",
       " 'coraline',\n",
       " 'the happening',\n",
       " 'man on fire',\n",
       " 'the shaggy dog',\n",
       " 'starsky & hutch',\n",
       " 'jingle all the way',\n",
       " 'hellboy',\n",
       " 'a civil action',\n",
       " 'paranorman',\n",
       " 'the jackal',\n",
       " 'paycheck',\n",
       " 'up close & personal',\n",
       " 'the tale of despereaux',\n",
       " 'the tuxedo',\n",
       " 'under siege 2: dark territory',\n",
       " 'jack ryan: shadow recruit',\n",
       " 'joy',\n",
       " 'london has fallen',\n",
       " 'alien: resurrection',\n",
       " 'shooter',\n",
       " 'the boxtrolls',\n",
       " 'practical magic',\n",
       " 'the lego movie',\n",
       " 'miss congeniality 2: armed and fabulous',\n",
       " 'reign of fire',\n",
       " 'gangster squad',\n",
       " 'year one',\n",
       " 'invictus',\n",
       " 'state of play',\n",
       " 'duplicity',\n",
       " 'my favorite martian',\n",
       " 'the sentinel',\n",
       " 'planet 51',\n",
       " 'star trek: nemesis',\n",
       " 'intolerable cruelty',\n",
       " 'trouble with the curve',\n",
       " 'edge of darkness',\n",
       " 'the relic',\n",
       " 'analyze that',\n",
       " 'righteous kill',\n",
       " 'mercury rising',\n",
       " 'the soloist',\n",
       " 'the legend of bagger vance',\n",
       " 'almost famous',\n",
       " 'garfield: a tail of two kitties',\n",
       " 'xxx: state of the union',\n",
       " 'priest',\n",
       " 'sinbad: legend of the seven seas',\n",
       " 'event horizon',\n",
       " 'dragonfly',\n",
       " 'the black dahlia',\n",
       " 'flyboys',\n",
       " 'the last castle',\n",
       " 'supernova',\n",
       " \"winter's tale\",\n",
       " 'the mortal instruments: city of bones',\n",
       " 'meet dave',\n",
       " 'dark water',\n",
       " 'edtv',\n",
       " 'inkheart',\n",
       " 'the spirit',\n",
       " 'mortdecai',\n",
       " 'in the name of the king: a dungeon siege tale',\n",
       " 'beyond borders',\n",
       " 'the monkey king 2',\n",
       " 'the great raid',\n",
       " 'deadpool',\n",
       " 'holy man',\n",
       " 'american sniper',\n",
       " 'goosebumps',\n",
       " 'just like heaven',\n",
       " 'the flintstones in viva rock vegas',\n",
       " 'rambo iii',\n",
       " 'leatherheads',\n",
       " 'the ridiculous 6',\n",
       " 'did you hear about the morgans?',\n",
       " 'the internship',\n",
       " 'resident evil: afterlife',\n",
       " 'red tails',\n",
       " \"the devil's advocate\",\n",
       " \"that's my boy\",\n",
       " 'dragonheart',\n",
       " 'after the sunset',\n",
       " 'ghost rider: spirit of vengeance',\n",
       " \"captain corelli's mandolin\",\n",
       " 'the pacifier',\n",
       " 'walking tall',\n",
       " 'forrest gump',\n",
       " 'alvin and the chipmunks',\n",
       " 'meet the parents',\n",
       " 'pocahontas',\n",
       " 'superman',\n",
       " 'the nutty professor',\n",
       " 'hitch',\n",
       " 'george of the jungle',\n",
       " 'american wedding',\n",
       " 'captain phillips',\n",
       " 'date night',\n",
       " 'casper',\n",
       " 'the equalizer',\n",
       " 'maid in manhattan',\n",
       " 'crimson tide',\n",
       " 'the pursuit of happyness',\n",
       " 'flightplan',\n",
       " 'disclosure',\n",
       " 'city of angels',\n",
       " 'kill bill: vol. 1',\n",
       " 'bowfinger',\n",
       " 'kill bill: vol. 2',\n",
       " 'tango & cash',\n",
       " 'death becomes her',\n",
       " 'shanghai noon',\n",
       " 'executive decision',\n",
       " \"mr. popper's penguins\",\n",
       " 'the forbidden kingdom',\n",
       " 'free birds',\n",
       " 'alien³',\n",
       " 'evita',\n",
       " 'ronin',\n",
       " 'the ghost and the darkness',\n",
       " 'paddington',\n",
       " 'the watch',\n",
       " 'the hunted',\n",
       " 'instinct',\n",
       " 'stuck on you',\n",
       " 'semi-pro',\n",
       " 'the pirates! in an adventure with scientists!',\n",
       " 'changeling',\n",
       " 'chain reaction',\n",
       " 'the fan',\n",
       " 'the phantom of the opera',\n",
       " 'elizabeth: the golden age',\n",
       " 'æon flux',\n",
       " 'gods and generals',\n",
       " 'turbulence',\n",
       " 'imagine that',\n",
       " 'muppets most wanted',\n",
       " 'thunderbirds',\n",
       " 'burlesque',\n",
       " 'a very long engagement',\n",
       " 'lolita',\n",
       " 'd-tox',\n",
       " 'blade ii',\n",
       " 'seven pounds',\n",
       " 'bullet to the head',\n",
       " 'the godfather: part iii',\n",
       " 'elizabethtown',\n",
       " 'you, me and dupree',\n",
       " 'superman ii',\n",
       " 'gigli',\n",
       " \"all the king's men\",\n",
       " 'shaft',\n",
       " 'anastasia',\n",
       " 'moulin rouge!',\n",
       " 'domestic disturbance',\n",
       " 'black mass',\n",
       " 'flags of our fathers',\n",
       " 'law abiding citizen',\n",
       " 'grindhouse',\n",
       " 'beloved',\n",
       " 'lucky you',\n",
       " 'catch me if you can',\n",
       " 'zero dark thirty',\n",
       " 'the break-up',\n",
       " 'mamma mia!',\n",
       " \"valentine's day\",\n",
       " 'the dukes of hazzard',\n",
       " 'the thin red line',\n",
       " 'the change-up',\n",
       " 'man on the moon',\n",
       " 'casino',\n",
       " 'from paris with love',\n",
       " 'bulletproof monk',\n",
       " 'me, myself & irene',\n",
       " 'barnyard',\n",
       " 'deck the halls',\n",
       " 'the twilight saga: new moon',\n",
       " 'shrek',\n",
       " 'the adjustment bureau',\n",
       " 'robin hood: prince of thieves',\n",
       " 'jerry maguire',\n",
       " 'ted',\n",
       " 'as good as it gets',\n",
       " 'patch adams',\n",
       " 'anchorman 2: the legend continues',\n",
       " 'mr. deeds',\n",
       " 'super 8',\n",
       " 'erin brockovich',\n",
       " 'how to lose a guy in 10 days',\n",
       " '22 jump street',\n",
       " 'interview with the vampire',\n",
       " 'yes man',\n",
       " 'central intelligence',\n",
       " 'stepmom',\n",
       " \"daddy's home\",\n",
       " 'into the woods',\n",
       " 'inside man',\n",
       " 'payback',\n",
       " 'congo',\n",
       " 'we bought a zoo',\n",
       " 'knowing',\n",
       " 'failure to launch',\n",
       " 'the ring two',\n",
       " 'crazy, stupid, love.',\n",
       " 'garfield',\n",
       " 'christmas with the kranks',\n",
       " 'moneyball',\n",
       " 'outbreak',\n",
       " 'non-stop',\n",
       " 'race to witch mountain',\n",
       " 'v for vendetta',\n",
       " 'shanghai knights',\n",
       " 'curious george',\n",
       " 'herbie fully loaded',\n",
       " \"don't say a word\",\n",
       " 'hansel & gretel: witch hunters',\n",
       " 'unfaithful',\n",
       " 'i am number four',\n",
       " 'syriana',\n",
       " '13 hours: the secret soldiers of benghazi',\n",
       " 'the book of life',\n",
       " 'firewall',\n",
       " 'absolute power',\n",
       " 'g.i. jane',\n",
       " 'the game',\n",
       " 'silent hill',\n",
       " 'the replacements',\n",
       " 'american reunion',\n",
       " 'the negotiator',\n",
       " 'into the storm',\n",
       " 'beverly hills cop iii',\n",
       " 'gremlins 2: the new batch',\n",
       " 'the judge',\n",
       " 'the peacemaker',\n",
       " 'resident evil: apocalypse',\n",
       " 'bridget jones: the edge of reason',\n",
       " 'out of time',\n",
       " 'on deadly ground',\n",
       " 'the adventures of sharkboy and lavagirl',\n",
       " 'the beach',\n",
       " 'raising helen',\n",
       " 'ninja assassin',\n",
       " 'for love of the game',\n",
       " 'striptease',\n",
       " 'marmaduke',\n",
       " 'hereafter',\n",
       " 'murder by numbers',\n",
       " 'assassins',\n",
       " 'hannibal rising',\n",
       " 'the story of us',\n",
       " 'the host',\n",
       " 'basic',\n",
       " 'blood work',\n",
       " 'the international',\n",
       " 'escape from l.a.',\n",
       " 'the iron giant',\n",
       " 'the life aquatic with steve zissou',\n",
       " 'free state of jones',\n",
       " 'the life of david gale',\n",
       " 'man of the house',\n",
       " 'run all night',\n",
       " 'eastern promises',\n",
       " 'into the blue',\n",
       " 'the messenger: the story of joan of arc',\n",
       " 'your highness',\n",
       " 'dream house',\n",
       " 'mad city',\n",
       " \"baby's day out\",\n",
       " 'the scarlet letter',\n",
       " 'fair game',\n",
       " 'domino',\n",
       " 'jade',\n",
       " 'gamer',\n",
       " 'beautiful creatures',\n",
       " 'death to smoochy',\n",
       " 'zoolander 2',\n",
       " 'the big bounce',\n",
       " 'what planet are you from?',\n",
       " ...]"
      ]
     },
     "execution_count": 76,
     "metadata": {},
     "output_type": "execute_result"
    }
   ],
   "source": [
    "all_movies"
   ]
  },
  {
   "cell_type": "code",
   "execution_count": 77,
   "metadata": {
    "id": "Mvxiv-1Irvmn"
   },
   "outputs": [],
   "source": [
    "import difflib"
   ]
  },
  {
   "cell_type": "markdown",
   "metadata": {
    "id": "E2-wgTxRrxRt"
   },
   "source": [
    "This module provides classes and functions for comparing sequences. It can be used for example, for comparing files, and can produce information about file differences in various formats, including HTML and context and unified diffs."
   ]
  },
  {
   "cell_type": "code",
   "execution_count": 78,
   "metadata": {
    "colab": {
     "base_uri": "https://localhost:8080/"
    },
    "id": "dJ1tekytraMV",
    "outputId": "ba94cc29-0f31-4ec4-d44a-1243ed378363"
   },
   "outputs": [
    {
     "data": {
      "text/plain": [
       "['the godfather', 'the last godfather', 'the others']"
      ]
     },
     "execution_count": 78,
     "metadata": {},
     "output_type": "execute_result"
    }
   ],
   "source": [
    "detecting_similar_movies = difflib.get_close_matches(movie,all_movies)\n",
    "detecting_similar_movies"
   ]
  },
  {
   "cell_type": "code",
   "execution_count": 79,
   "metadata": {
    "colab": {
     "base_uri": "https://localhost:8080/",
     "height": 35
    },
    "id": "EXG-pEBVuJqX",
    "outputId": "0230bc24-9f0f-4d15-c781-f4daba7b2b3c"
   },
   "outputs": [
    {
     "data": {
      "text/plain": [
       "'the godfather'"
      ]
     },
     "execution_count": 79,
     "metadata": {},
     "output_type": "execute_result"
    }
   ],
   "source": [
    "detecting_similar_movies[0]"
   ]
  },
  {
   "cell_type": "code",
   "execution_count": 80,
   "metadata": {
    "id": "J1fw0lf5uZlV"
   },
   "outputs": [],
   "source": [
    "df['title'] = df.title.str.lower()"
   ]
  },
  {
   "cell_type": "code",
   "execution_count": 81,
   "metadata": {
    "colab": {
     "base_uri": "https://localhost:8080/"
    },
    "id": "LhYy93CTtNh2",
    "outputId": "cc02aee7-d03f-40c6-9b28-7b5edd8b1b6c"
   },
   "outputs": [
    {
     "data": {
      "text/plain": [
       "3337"
      ]
     },
     "execution_count": 81,
     "metadata": {},
     "output_type": "execute_result"
    }
   ],
   "source": [
    "# finding the index of the movie\n",
    "index_of_the_movie = df[df.title == detecting_similar_movies[0]]['index'].values[0]\n",
    "index_of_the_movie"
   ]
  },
  {
   "cell_type": "code",
   "execution_count": 82,
   "metadata": {
    "colab": {
     "base_uri": "https://localhost:8080/"
    },
    "id": "ZYIbBU4_uQQ-",
    "outputId": "8cfacc0d-c159-4171-e85f-97aa7c7aa01a"
   },
   "outputs": [
    {
     "name": "stdout",
     "output_type": "stream",
     "text": [
      "[(0, 0.036369648372665396), (1, 0.06900655593423541), (2, 0.07881104062391006), (3, 0.1853123291652753), (4, 0.0), (5, 0.11338934190276817), (6, 0.0), (7, 0.034503277967117704), (8, 0.04029114820126901), (9, 0.0), (10, 0.03779644730092272), (11, 0.07559289460184544), (12, 0.0), (13, 0.03779644730092272), (14, 0.0), (15, 0.0), (16, 0.03394221166510653), (17, 0.0), (18, 0.0), (19, 0.04029114820126901), (20, 0.11572751247156893), (21, 0.0), (22, 0.04335549847620599), (23, 0.0), (24, 0.03340765523905304), (25, 0.08451542547285165), (26, 0.035714285714285705), (27, 0.0), (28, 0.0), (29, 0.0), (30, 0.11118739749916517), (31, 0.03779644730092272), (32, 0.0), (33, 0.0), (34, 0.0), (35, 0.0), (36, 0.0), (37, 0.042257712736425826), (38, 0.0), (39, 0.0), (40, 0.0), (41, 0.0), (42, 0.0), (43, 0.0), (44, 0.041239304942116126), (45, 0.07412493166611012), (46, 0.035093120317179816), (47, 0.0), (48, 0.0), (49, 0.041239304942116126), (50, 0.0), (51, 0.0), (52, 0.0), (53, 0.04029114820126901), (54, 0.0), (55, 0.0), (56, 0.0), (57, 0.0), (58, 0.0890870806374748), (59, 0.036369648372665396), (60, 0.07881104062391006), (61, 0.0), (62, 0.0), (63, 0.0), (64, 0.03706246583305506), (65, 0.1853123291652753), (66, 0.0), (67, 0.0), (68, 0.03779644730092272), (69, 0.03857583749052298), (70, 0.0), (71, 0.04879500364742665), (72, 0.07273929674533079), (73, 0.07018624063435963), (74, 0.0), (75, 0.0), (76, 0.03940552031195503), (77, 0.07412493166611012), (78, 0.03940552031195503), (79, 0.035714285714285705), (80, 0.041239304942116126), (81, 0.03241018617760821), (82, 0.03940552031195503), (83, 0.0), (84, 0.036369648372665396), (85, 0.04029114820126901), (86, 0.0), (87, 0.0), (88, 0.0), (89, 0.0), (90, 0.04029114820126901), (91, 0.0), (92, 0.0), (93, 0.0), (94, 0.03779644730092272), (95, 0.07273929674533079), (96, 0.07412493166611012), (97, 0.03706246583305506), (98, 0.04029114820126901), (99, 0.07715167498104596), (100, 0.04029114820126901), (101, 0.04029114820126901), (102, 0.07412493166611012), (103, 0.04029114820126901), (104, 0.1889822365046136), (105, 0.03940552031195503), (106, 0.03857583749052298), (107, 0.041239304942116126), (108, 0.0), (109, 0.0), (110, 0.0), (111, 0.0), (112, 0.03940552031195503), (113, 0.07559289460184544), (114, 0.03779644730092272), (115, 0.11338934190276817), (116, 0.09723055853282464), (117, 0.036369648372665396), (118, 0.0), (119, 0.1853123291652753), (120, 0.0), (121, 0.0), (122, 0.0), (123, 0.0), (124, 0.0), (125, 0.0), (126, 0.0), (127, 0.0), (128, 0.0), (129, 0.0), (130, 0.0), (131, 0.0), (132, 0.0), (133, 0.03779644730092272), (134, 0.0), (135, 0.07559289460184544), (136, 0.0), (137, 0.0), (138, 0.0), (139, 0.0), (140, 0.07881104062391006), (141, 0.0), (142, 0.0), (143, 0.0), (144, 0.03940552031195503), (145, 0.036369648372665396), (146, 0.0), (147, 0.0), (148, 0.0), (149, 0.0), (150, 0.0), (151, 0.03857583749052298), (152, 0.0), (153, 0.0), (154, 0.0), (155, 0.04029114820126901), (156, 0.07412493166611012), (157, 0.041239304942116126), (158, 0.0), (159, 0.12087344460380703), (160, 0.035714285714285705), (161, 0.0), (162, 0.04583492485141056), (163, 0.0), (164, 0.12087344460380703), (165, 0.04029114820126901), (166, 0.0), (167, 0.08247860988423225), (168, 0.0), (169, 0.0), (170, 0.041239304942116126), (171, 0.042257712736425826), (172, 0.07715167498104596), (173, 0.0), (174, 0.0), (175, 0.0), (176, 0.07142857142857141), (177, 0.0), (178, 0.0), (179, 0.0), (180, 0.03940552031195503), (181, 0.0), (182, 0.0), (183, 0.03779644730092272), (184, 0.0), (185, 0.0), (186, 0.07412493166611012), (187, 0.0), (188, 0.0), (189, 0.0445435403187374), (190, 0.0), (191, 0.0), (192, 0.042257712736425826), (193, 0.0), (194, 0.0), (195, 0.0), (196, 0.0), (197, 0.03940552031195503), (198, 0.11821656093586509), (199, 0.0), (200, 0.03857583749052298), (201, 0.0), (202, 0.0), (203, 0.0), (204, 0.08058229640253801), (205, 0.12087344460380703), (206, 0.0), (207, 0.0), (208, 0.0), (209, 0.0), (210, 0.14547859349066158), (211, 0.03940552031195503), (212, 0.0), (213, 0.041239304942116126), (214, 0.042257712736425826), (215, 0.0), (216, 0.042257712736425826), (217, 0.0), (218, 0.0), (219, 0.041239304942116126), (220, 0.0), (221, 0.0), (222, 0.04029114820126901), (223, 0.03706246583305506), (224, 0.0), (225, 0.07412493166611012), (226, 0.1267731382092775), (227, 0.041239304942116126), (228, 0.0), (229, 0.0), (230, 0.0), (231, 0.041239304942116126), (232, 0.03779644730092272), (233, 0.0), (234, 0.03706246583305506), (235, 0.0), (236, 0.036369648372665396), (237, 0.03940552031195503), (238, 0.0), (239, 0.06788442333021306), (240, 0.0), (241, 0.0), (242, 0.0), (243, 0.0), (244, 0.041239304942116126), (245, 0.0), (246, 0.11118739749916517), (247, 0.07559289460184544), (248, 0.03779644730092272), (249, 0.07715167498104596), (250, 0.0445435403187374), (251, 0.042257712736425826), (252, 0.08247860988423225), (253, 0.0), (254, 0.0), (255, 0.0), (256, 0.07715167498104596), (257, 0.07881104062391006), (258, 0.0), (259, 0.0), (260, 0.03779644730092272), (261, 0.0), (262, 0.0), (263, 0.03779644730092272), (264, 0.04335549847620599), (265, 0.03940552031195503), (266, 0.03779644730092272), (267, 0.07559289460184544), (268, 0.0), (269, 0.0), (270, 0.03857583749052298), (271, 0.07559289460184544), (272, 0.0), (273, 0.07142857142857141), (274, 0.08247860988423225), (275, 0.0), (276, 0.03857583749052298), (277, 0.042257712736425826), (278, 0.0), (279, 0.07881104062391006), (280, 0.11118739749916517), (281, 0.11572751247156893), (282, 0.04029114820126901), (283, 0.09583148474999097), (284, 0.07715167498104596), (285, 0.07559289460184544), (286, 0.19702760155977517), (287, 0.042257712736425826), (288, 0.04029114820126901), (289, 0.0), (290, 0.0), (291, 0.0), (292, 0.035714285714285705), (293, 0.03706246583305506), (294, 0.0), (295, 0.0), (296, 0.0), (297, 0.12087344460380703), (298, 0.1267731382092775), (299, 0.07881104062391006), (300, 0.0), (301, 0.03779644730092272), (302, 0.0), (303, 0.08451542547285165), (304, 0.0), (305, 0.10350983390135311), (306, 0.0), (307, 0.04029114820126901), (308, 0.07142857142857141), (309, 0.0), (310, 0.04029114820126901), (311, 0.0), (312, 0.07715167498104596), (313, 0.0), (314, 0.12371791482634838), (315, 0.0), (316, 0.11821656093586509), (317, 0.03940552031195503), (318, 0.041239304942116126), (319, 0.0), (320, 0.03857583749052298), (321, 0.0), (322, 0.0), (323, 0.04583492485141056), (324, 0.04029114820126901), (325, 0.0), (326, 0.11572751247156893), (327, 0.04335549847620599), (328, 0.03857583749052298), (329, 0.0), (330, 0.0), (331, 0.0), (332, 0.0), (333, 0.036369648372665396), (334, 0.0), (335, 0.07715167498104596), (336, 0.0), (337, 0.0), (338, 0.0), (339, 0.0), (340, 0.0), (341, 0.0), (342, 0.0), (343, 0.0), (344, 0.0), (345, 0.0890870806374748), (346, 0.1543033499620919), (347, 0.09166984970282112), (348, 0.0), (349, 0.03779644730092272), (350, 0.08058229640253801), (351, 0.12087344460380703), (352, 0.0), (353, 0.036369648372665396), (354, 0.11572751247156893), (355, 0.0), (356, 0.11572751247156893), (357, 0.04879500364742665), (358, 0.036369648372665396), (359, 0.0), (360, 0.04029114820126901), (361, 0.0), (362, 0.03940552031195503), (363, 0.11338934190276817), (364, 0.0), (365, 0.11118739749916517), (366, 0.0), (367, 0.12087344460380703), (368, 0.0), (369, 0.0), (370, 0.07715167498104596), (371, 0.0), (372, 0.1267731382092775), (373, 0.0), (374, 0.0), (375, 0.0), (376, 0.03857583749052298), (377, 0.16116459280507603), (378, 0.07881104062391006), (379, 0.03857583749052298), (380, 0.035714285714285705), (381, 0.0), (382, 0.041239304942116126), (383, 0.03857583749052298), (384, 0.08058229640253801), (385, 0.0), (386, 0.04029114820126901), (387, 0.042257712736425826), (388, 0.07881104062391006), (389, 0.0), (390, 0.041239304942116126), (391, 0.04029114820126901), (392, 0.0), (393, 0.0314970394174356), (394, 0.0), (395, 0.0), (396, 0.041239304942116126), (397, 0.0), (398, 0.1690308509457033), (399, 0.0), (400, 0.03779644730092272), (401, 0.0), (402, 0.0), (403, 0.0), (404, 0.03706246583305506), (405, 0.09320546490018), (406, 0.07881104062391006), (407, 0.16971105832553265), (408, 0.042257712736425826), (409, 0.03706246583305506), (410, 0.03706246583305506), (411, 0.035714285714285705), (412, 0.03706246583305506), (413, 0.03857583749052298), (414, 0.07881104062391006), (415, 0.08247860988423225), (416, 0.03857583749052298), (417, 0.0), (418, 0.0445435403187374), (419, 0.07559289460184544), (420, 0.0), (421, 0.15762208124782012), (422, 0.0), (423, 0.0), (424, 0.0), (425, 0.0), (426, 0.0), (427, 0.0), (428, 0.07715167498104596), (429, 0.0), (430, 0.0), (431, 0.0), (432, 0.12087344460380703), (433, 0.07881104062391006), (434, 0.04335549847620599), (435, 0.0), (436, 0.052414241836095915), (437, 0.0), (438, 0.042257712736425826), (439, 0.03940552031195503), (440, 0.11821656093586509), (441, 0.0), (442, 0.07018624063435963), (443, 0.0), (444, 0.1018266349953196), (445, 0.0), (446, 0.07881104062391006), (447, 0.0), (448, 0.2786391062876764), (449, 0.0), (450, 0.0), (451, 0.0), (452, 0.03394221166510653), (453, 0.07881104062391006), (454, 0.04029114820126901), (455, 0.08058229640253801), (456, 0.034503277967117704), (457, 0.04335549847620599), (458, 0.0), (459, 0.03940552031195503), (460, 0.04029114820126901), (461, 0.0), (462, 0.041239304942116126), (463, 0.08671099695241198), (464, 0.042257712736425826), (465, 0.07881104062391006), (466, 0.0), (467, 0.0), (468, 0.08058229640253801), (469, 0.03779644730092272), (470, 0.03940552031195503), (471, 0.03706246583305506), (472, 0.0), (473, 0.0), (474, 0.041239304942116126), (475, 0.042257712736425826), (476, 0.0445435403187374), (477, 0.04029114820126901), (478, 0.0), (479, 0.0), (480, 0.0), (481, 0.0), (482, 0.03779644730092272), (483, 0.03779644730092272), (484, 0.03940552031195503), (485, 0.11572751247156893), (486, 0.0), (487, 0.0), (488, 0.0), (489, 0.0), (490, 0.0), (491, 0.036369648372665396), (492, 0.0), (493, 0.12087344460380703), (494, 0.15118578920369088), (495, 0.0), (496, 0.0890870806374748), (497, 0.08451542547285165), (498, 0.0), (499, 0.10101525445522107), (500, 0.07142857142857141), (501, 0.04029114820126901), (502, 0.0), (503, 0.03194382824999699), (504, 0.0), (505, 0.0), (506, 0.07559289460184544), (507, 0.0), (508, 0.03940552031195503), (509, 0.0), (510, 0.03857583749052298), (511, 0.0), (512, 0.2545875386086578), (513, 0.0), (514, 0.0), (515, 0.0), (516, 0.04029114820126901), (517, 0.041239304942116126), (518, 0.0), (519, 0.08671099695241198), (520, 0.0), (521, 0.04029114820126901), (522, 0.0), (523, 0.0), (524, 0.04029114820126901), (525, 0.10714285714285712), (526, 0.041239304942116126), (527, 0.07273929674533079), (528, 0.03940552031195503), (529, 0.0445435403187374), (530, 0.04583492485141056), (531, 0.0), (532, 0.03706246583305506), (533, 0.0), (534, 0.08671099695241198), (535, 0.11118739749916517), (536, 0.07018624063435963), (537, 0.042257712736425826), (538, 0.11338934190276817), (539, 0.0), (540, 0.04335549847620599), (541, 0.0), (542, 0.03857583749052298), (543, 0.0), (544, 0.03940552031195503), (545, 0.07142857142857141), (546, 0.0), (547, 0.0), (548, 0.11572751247156893), (549, 0.0), (550, 0.0), (551, 0.0), (552, 0.04029114820126901), (553, 0.042257712736425826), (554, 0.0), (555, 0.0), (556, 0.07142857142857141), (557, 0.03857583749052298), (558, 0.03857583749052298), (559, 0.04029114820126901), (560, 0.042257712736425826), (561, 0.0944911182523068), (562, 0.04029114820126901), (563, 0.042257712736425826), (564, 0.04029114820126901), (565, 0.0), (566, 0.0), (567, 0.04029114820126901), (568, 0.0), (569, 0.0), (570, 0.07881104062391006), (571, 0.04029114820126901), (572, 0.0), (573, 0.0), (574, 0.11572751247156893), (575, 0.03706246583305506), (576, 0.035714285714285705), (577, 0.0), (578, 0.0), (579, 0.0), (580, 0.0), (581, 0.0), (582, 0.0), (583, 0.07881104062391006), (584, 0.04583492485141056), (585, 0.03940552031195503), (586, 0.02988071523335984), (587, 0.03706246583305506), (588, 0.14638501094227996), (589, 0.03940552031195503), (590, 0.12087344460380703), (591, 0.07559289460184544), (592, 0.04029114820126901), (593, 0.08671099695241198), (594, 0.0), (595, 0.0), (596, 0.03857583749052298), (597, 0.03940552031195503), (598, 0.07881104062391006), (599, 0.06213697660012), (600, 0.04583492485141056), (601, 0.0), (602, 0.08247860988423225), (603, 0.0), (604, 0.0), (605, 0.0), (606, 0.12087344460380703), (607, 0.0), (608, 0.07412493166611012), (609, 0.0), (610, 0.04029114820126901), (611, 0.07715167498104596), (612, 0.08247860988423225), (613, 0.19702760155977517), (614, 0.041239304942116126), (615, 0.09583148474999097), (616, 0.0), (617, 0.08058229640253801), (618, 0.0), (619, 0.0), (620, 0.13006649542861798), (621, 0.07142857142857141), (622, 0.03779644730092272), (623, 0.0), (624, 0.0), (625, 0.03857583749052298), (626, 0.0), (627, 0.0), (628, 0.02727723627949905), (629, 0.1018266349953196), (630, 0.0), (631, 0.07412493166611012), (632, 0.042257712736425826), (633, 0.07881104062391006), (634, 0.0), (635, 0.042257712736425826), (636, 0.0), (637, 0.041239304942116126), (638, 0.0), (639, 0.03857583749052298), (640, 0.0), (641, 0.08451542547285165), (642, 0.06482037235521643), (643, 0.07273929674533079), (644, 0.0), (645, 0.03857583749052298), (646, 0.0), (647, 0.04029114820126901), (648, 0.03940552031195503), (649, 0.0), (650, 0.07715167498104596), (651, 0.042257712736425826), (652, 0.15762208124782012), (653, 0.04029114820126901), (654, 0.0), (655, 0.0), (656, 0.03857583749052298), (657, 0.0), (658, 0.03340765523905304), (659, 0.08058229640253801), (660, 0.07715167498104596), (661, 0.0), (662, 0.03940552031195503), (663, 0.042257712736425826), (664, 0.08058229640253801), (665, 0.07412493166611012), (666, 0.0), (667, 0.11118739749916517), (668, 0.0), (669, 0.1267731382092775), (670, 0.11338934190276817), (671, 0.03940552031195503), (672, 0.16116459280507603), (673, 0.07142857142857141), (674, 0.0), (675, 0.04029114820126901), (676, 0.03940552031195503), (677, 0.08247860988423225), (678, 0.04879500364742665), (679, 0.10714285714285712), (680, 0.03706246583305506), (681, 0.07273929674533079), (682, 0.0), (683, 0.06681531047810609), (684, 0.11572751247156893), (685, 0.03857583749052298), (686, 0.03857583749052298), (687, 0.0), (688, 0.03857583749052298), (689, 0.0), (690, 0.14824986333222023), (691, 0.0), (692, 0.0), (693, 0.03706246583305506), (694, 0.03779644730092272), (695, 0.0), (696, 0.15762208124782012), (697, 0.04029114820126901), (698, 0.04029114820126901), (699, 0.0), (700, 0.07273929674533079), (701, 0.0), (702, 0.08451542547285165), (703, 0.03857583749052298), (704, 0.0), (705, 0.0), (706, 0.08247860988423225), (707, 0.042257712736425826), (708, 0.0), (709, 0.13006649542861798), (710, 0.03779644730092272), (711, 0.11118739749916517), (712, 0.15118578920369088), (713, 0.14285714285714282), (714, 0.11572751247156893), (715, 0.0), (716, 0.0890870806374748), (717, 0.16116459280507603), (718, 0.0), (719, 0.0), (720, 0.03857583749052298), (721, 0.08247860988423225), (722, 0.0), (723, 0.0), (724, 0.12371791482634838), (725, 0.06681531047810609), (726, 0.08451542547285165), (727, 0.0), (728, 0.0), (729, 0.1267731382092775), (730, 0.0), (731, 0.1267731382092775), (732, 0.0), (733, 0.08671099695241198), (734, 0.041239304942116126), (735, 0.03857583749052298), (736, 0.0), (737, 0.03779644730092272), (738, 0.07559289460184544), (739, 0.08058229640253801), (740, 0.0), (741, 0.15118578920369088), (742, 0.035093120317179816), (743, 0.08247860988423225), (744, 0.035714285714285705), (745, 0.0), (746, 0.0), (747, 0.13006649542861798), (748, 0.0), (749, 0.03940552031195503), (750, 0.0), (751, 0.08671099695241198), (752, 0.07273929674533079), (753, 0.0890870806374748), (754, 0.0), (755, 0.0), (756, 0.12371791482634838), (757, 0.08451542547285165), (758, 0.15762208124782012), (759, 0.07412493166611012), (760, 0.13006649542861798), (761, 0.2364331218717302), (762, 0.19702760155977517), (763, 0.08451542547285165), (764, 0.08247860988423225), (765, 0.04029114820126901), (766, 0.03857583749052298), (767, 0.11572751247156893), (768, 0.0), (769, 0.0), (770, 0.04029114820126901), (771, 0.041239304942116126), (772, 0.042257712736425826), (773, 0.08451542547285165), (774, 0.13750477455423168), (775, 0.07881104062391006), (776, 0.042257712736425826), (777, 0.07881104062391006), (778, 0.07412493166611012), (779, 0.04029114820126901), (780, 0.0), (781, 0.0), (782, 0.07273929674533079), (783, 0.0), (784, 0.14824986333222023), (785, 0.11338934190276817), (786, 0.0), (787, 0.0657951694959769), (788, 0.0), (789, 0.07881104062391006), (790, 0.0), (791, 0.0), (792, 0.0), (793, 0.0), (794, 0.03857583749052298), (795, 0.07273929674533079), (796, 0.0), (797, 0.0), (798, 0.06900655593423541), (799, 0.0), (800, 0.035093120317179816), (801, 0.11821656093586509), (802, 0.0), (803, 0.0), (804, 0.12371791482634838), (805, 0.0), (806, 0.03706246583305506), (807, 0.07559289460184544), (808, 0.04029114820126901), (809, 0.07715167498104596), (810, 0.0), (811, 0.042257712736425826), (812, 0.07715167498104596), (813, 0.181848241863327), (814, 0.03857583749052298), (815, 0.07881104062391006), (816, 0.03857583749052298), (817, 0.0), (818, 0.042257712736425826), (819, 0.0), (820, 0.0), (821, 0.08058229640253801), (822, 0.04029114820126901), (823, 0.03940552031195503), (824, 0.07881104062391006), (825, 0.20145574100634503), (826, 0.12087344460380703), (827, 0.04029114820126901), (828, 0.08247860988423225), (829, 0.0), (830, 0.07018624063435963), (831, 0.041239304942116126), (832, 0.04335549847620599), (833, 0.0), (834, 0.041239304942116126), (835, 0.0), (836, 0.0), (837, 0.0), (838, 0.0), (839, 0.04029114820126901), (840, 0.11572751247156893), (841, 0.0), (842, 0.0), (843, 0.0445435403187374), (844, 0.11572751247156893), (845, 0.041239304942116126), (846, 0.0), (847, 0.0), (848, 0.0), (849, 0.1267731382092775), (850, 0.03779644730092272), (851, 0.07412493166611012), (852, 0.042257712736425826), (853, 0.042257712736425826), (854, 0.0), (855, 0.10022296571715913), (856, 0.12371791482634838), (857, 0.0), (858, 0.13006649542861798), (859, 0.0), (860, 0.041239304942116126), (861, 0.11572751247156893), (862, 0.15762208124782012), (863, 0.0), (864, 0.0), (865, 0.041239304942116126), (866, 0.0944911182523068), (867, 0.3706246583305506), (868, 0.07559289460184544), (869, 0.08451542547285165), (870, 0.035714285714285705), (871, 0.08058229640253801), (872, 0.08247860988423225), (873, 0.07412493166611012), (874, 0.0), (875, 0.07715167498104596), (876, 0.11821656093586509), (877, 0.2364331218717302), (878, 0.034503277967117704), (879, 0.12087344460380703), (880, 0.041239304942116126), (881, 0.04879500364742665), (882, 0.1649572197684645), (883, 0.11572751247156893), (884, 0.042257712736425826), (885, 0.0), (886, 0.0), (887, 0.0), (888, 0.0), (889, 0.036369648372665396), (890, 0.0), (891, 0.08451542547285165), (892, 0.20145574100634503), (893, 0.12371791482634838), (894, 0.0), (895, 0.08671099695241198), (896, 0.04029114820126901), (897, 0.0), (898, 0.08058229640253801), (899, 0.0), (900, 0.0), (901, 0.0), (902, 0.04029114820126901), (903, 0.035093120317179816), (904, 0.04029114820126901), (905, 0.04335549847620599), (906, 0.0), (907, 0.03940552031195503), (908, 0.0), (909, 0.03857583749052298), (910, 0.0), (911, 0.07559289460184544), (912, 0.0), (913, 0.0), (914, 0.0), (915, 0.04029114820126901), (916, 0.0), (917, 0.041239304942116126), (918, 0.12087344460380703), (919, 0.12371791482634838), (920, 0.03779644730092272), (921, 0.0890870806374748), (922, 0.07273929674533079), (923, 0.0), (924, 0.03940552031195503), (925, 0.03779644730092272), (926, 0.04029114820126901), (927, 0.0), (928, 0.041239304942116126), (929, 0.03940552031195503), (930, 0.0), (931, 0.0), (932, 0.04029114820126901), (933, 0.0), (934, 0.0), (935, 0.0), (936, 0.0), (937, 0.0), (938, 0.08451542547285165), (939, 0.0), (940, 0.041239304942116126), (941, 0.07412493166611012), (942, 0.07559289460184544), (943, 0.0890870806374748), (944, 0.11338934190276817), (945, 0.041239304942116126), (946, 0.10350983390135311), (947, 0.03940552031195503), (948, 0.04335549847620599), (949, 0.0), (950, 0.12087344460380703), (951, 0.04029114820126901), (952, 0.08247860988423225), (953, 0.07881104062391006), (954, 0.20619652471058064), (955, 0.0), (956, 0.0), (957, 0.0), (958, 0.1267731382092775), (959, 0.0), (960, 0.041239304942116126), (961, 0.03940552031195503), (962, 0.14547859349066158), (963, 0.11821656093586509), (964, 0.0445435403187374), (965, 0.1649572197684645), (966, 0.0), (967, 0.0472455591261534), (968, 0.1267731382092775), (969, 0.12371791482634838), (970, 0.1267731382092775), (971, 0.10910894511799618), (972, 0.0), (973, 0.1018266349953196), (974, 0.10910894511799618), (975, 0.1336306209562122), (976, 0.0), (977, 0.034503277967117704), (978, 0.11572751247156893), (979, 0.03857583749052298), (980, 0.12371791482634838), (981, 0.0), (982, 0.11338934190276817), (983, 0.10527936095153945), (984, 0.11821656093586509), (985, 0.04029114820126901), (986, 0.04335549847620599), (987, 0.03940552031195503), (988, 0.11821656093586509), (989, 0.0), (990, 0.20701966780270623), (991, 0.042257712736425826), (992, 0.08451542547285165), (993, 0.041239304942116126), (994, 0.0), (995, 0.08058229640253801), (996, 0.10910894511799618), (997, 0.0), (998, 0.08247860988423225), (999, 0.036369648372665396), (1000, 0.07559289460184544), (1001, 0.0), (1002, 0.08451542547285165), (1003, 0.06900655593423541), (1004, 0.07881104062391006), (1005, 0.09723055853282464), (1006, 0.03940552031195503), (1007, 0.035093120317179816), (1008, 0.07412493166611012), (1009, 0.12371791482634838), (1010, 0.1267731382092775), (1011, 0.0), (1012, 0.0), (1013, 0.07881104062391006), (1014, 0.0), (1015, 0.042257712736425826), (1016, 0.10910894511799618), (1017, 0.10350983390135311), (1018, 0.27003086243366087), (1019, 0.11118739749916517), (1020, 0.0), (1021, 0.08247860988423225), (1022, 0.03857583749052298), (1023, 0.11118739749916517), (1024, 0.20044593143431824), (1025, 0.11821656093586509), (1026, 0.03940552031195503), (1027, 0.03857583749052298), (1028, 0.14037248126871926), (1029, 0.0), (1030, 0.03940552031195503), (1031, 0.11338934190276817), (1032, 0.0), (1033, 0.1690308509457033), (1034, 0.0), (1035, 0.03857583749052298), (1036, 0.03706246583305506), (1037, 0.0), (1038, 0.12087344460380703), (1039, 0.0944911182523068), (1040, 0.0), (1041, 0.07881104062391006), (1042, 0.0), (1043, 0.08451542547285165), (1044, 0.0), (1045, 0.07881104062391006), (1046, 0.15762208124782012), (1047, 0.09583148474999097), (1048, 0.07412493166611012), (1049, 0.20145574100634503), (1050, 0.07559289460184544), (1051, 0.12371791482634838), (1052, 0.10527936095153945), (1053, 0.0), (1054, 0.07715167498104596), (1055, 0.03940552031195503), (1056, 0.0), (1057, 0.08058229640253801), (1058, 0.08058229640253801), (1059, 0.0), (1060, 0.0), (1061, 0.2105587219030789), (1062, 0.0), (1063, 0.07559289460184544), (1064, 0.0445435403187374), (1065, 0.035714285714285705), (1066, 0.042257712736425826), (1067, 0.10910894511799618), (1068, 0.0), (1069, 0.0472455591261534), (1070, 0.0), (1071, 0.0), (1072, 0.04879500364742665), (1073, 0.07559289460184544), (1074, 0.03940552031195503), (1075, 0.10350983390135311), (1076, 0.08058229640253801), (1077, 0.0), (1078, 0.0), (1079, 0.0), (1080, 0.03779644730092272), (1081, 0.042257712736425826), (1082, 0.14037248126871926), (1083, 0.0), (1084, 0.14547859349066158), (1085, 0.0), (1086, 0.035714285714285705), (1087, 0.12371791482634838), (1088, 0.0), (1089, 0.04029114820126901), (1090, 0.07881104062391006), (1091, 0.04029114820126901), (1092, 0.0), (1093, 0.0), (1094, 0.03857583749052298), (1095, 0.03940552031195503), (1096, 0.08247860988423225), (1097, 0.0), (1098, 0.08058229640253801), (1099, 0.0), (1100, 0.07559289460184544), (1101, 0.0), (1102, 0.03706246583305506), (1103, 0.11572751247156893), (1104, 0.0), (1105, 0.15118578920369088), (1106, 0.07273929674533079), (1107, 0.08247860988423225), (1108, 0.04335549847620599), (1109, 0.041239304942116126), (1110, 0.0), (1111, 0.07142857142857141), (1112, 0.03706246583305506), (1113, 0.042257712736425826), (1114, 0.08671099695241198), (1115, 0.0), (1116, 0.03940552031195503), (1117, 0.03779644730092272), (1118, 0.08247860988423225), (1119, 0.07412493166611012), (1120, 0.07881104062391006), (1121, 0.0), (1122, 0.0), (1123, 0.03940552031195503), (1124, 0.08058229640253801), (1125, 0.08058229640253801), (1126, 0.03706246583305506), (1127, 0.15762208124782012), (1128, 0.03706246583305506), (1129, 0.07881104062391006), (1130, 0.042257712736425826), (1131, 0.07715167498104596), (1132, 0.0), (1133, 0.11821656093586509), (1134, 0.0), (1135, 0.1267731382092775), (1136, 0.10714285714285712), (1137, 0.07559289460184544), (1138, 0.036369648372665396), (1139, 0.0), (1140, 0.07412493166611012), (1141, 0.042257712736425826), (1142, 0.0), (1143, 0.041239304942116126), (1144, 0.0), (1145, 0.13801311186847082), (1146, 0.14547859349066158), (1147, 0.0), (1148, 0.042257712736425826), (1149, 0.1267731382092775), (1150, 0.03779644730092272), (1151, 0.10527936095153945), (1152, 0.07412493166611012), (1153, 0.0), (1154, 0.03779644730092272), (1155, 0.03779644730092272), (1156, 0.12087344460380703), (1157, 0.0), (1158, 0.03779644730092272), (1159, 0.0), (1160, 0.04029114820126901), (1161, 0.042257712736425826), (1162, 0.041239304942116126), (1163, 0.0), (1164, 0.0), (1165, 0.03779644730092272), (1166, 0.0), (1167, 0.1690308509457033), (1168, 0.04335549847620599), (1169, 0.09166984970282112), (1170, 0.16116459280507603), (1171, 0.0), (1172, 0.041239304942116126), (1173, 0.04583492485141056), (1174, 0.0), (1175, 0.07018624063435963), (1176, 0.11338934190276817), (1177, 0.09320546490018), (1178, 0.12087344460380703), (1179, 0.0), (1180, 0.0), (1181, 0.03779644730092272), (1182, 0.07881104062391006), (1183, 0.13750477455423168), (1184, 0.0), (1185, 0.0), (1186, 0.0), (1187, 0.041239304942116126), (1188, 0.035714285714285705), (1189, 0.0), (1190, 0.08058229640253801), (1191, 0.0), (1192, 0.0), (1193, 0.16448792373994225), (1194, 0.1267731382092775), (1195, 0.0), (1196, 0.04029114820126901), (1197, 0.0), (1198, 0.0), (1199, 0.11338934190276817), (1200, 0.034503277967117704), (1201, 0.0), (1202, 0.16116459280507603), (1203, 0.0), (1204, 0.041239304942116126), (1205, 0.041239304942116126), (1206, 0.042257712736425826), (1207, 0.07412493166611012), (1208, 0.0890870806374748), (1209, 0.2364331218717302), (1210, 0.03857583749052298), (1211, 0.041239304942116126), (1212, 0.0), (1213, 0.0), (1214, 0.0), (1215, 0.17857142857142852), (1216, 0.0), (1217, 0.0), (1218, 0.0), (1219, 0.0), (1220, 0.181848241863327), (1221, 0.041239304942116126), (1222, 0.0), (1223, 0.035714285714285705), (1224, 0.0), (1225, 0.181848241863327), (1226, 0.07412493166611012), (1227, 0.041239304942116126), (1228, 0.0), (1229, 0.0), (1230, 0.0), (1231, 0.11572751247156893), (1232, 0.07715167498104596), (1233, 0.11821656093586509), (1234, 0.11338934190276817), (1235, 0.042257712736425826), (1236, 0.11338934190276817), (1237, 0.0), (1238, 0.08247860988423225), (1239, 0.11338934190276817), (1240, 0.03857583749052298), (1241, 0.0472455591261534), (1242, 0.0), (1243, 0.23145502494313788), (1244, 0.04029114820126901), (1245, 0.1543033499620919), (1246, 0.0445435403187374), (1247, 0.21128856368212912), (1248, 0.04583492485141056), (1249, 0.0), (1250, 0.12087344460380703), (1251, 0.07881104062391006), (1252, 0.07881104062391006), (1253, 0.13750477455423168), (1254, 0.11821656093586509), (1255, 0.04029114820126901), (1256, 0.0), (1257, 0.0), (1258, 0.04879500364742665), (1259, 0.0), (1260, 0.04029114820126901), (1261, 0.0), (1262, 0.0), (1263, 0.042257712736425826), (1264, 0.04583492485141056), (1265, 0.0), (1266, 0.0), (1267, 0.0), (1268, 0.0), (1269, 0.0975900072948533), (1270, 0.0), (1271, 0.0), (1272, 0.0), (1273, 0.04583492485141056), (1274, 0.03340765523905304), (1275, 0.0), (1276, 0.04583492485141056), (1277, 0.042257712736425826), (1278, 0.13750477455423168), (1279, 0.0), (1280, 0.0445435403187374), (1281, 0.10910894511799618), (1282, 0.1543033499620919), (1283, 0.041239304942116126), (1284, 0.03940552031195503), (1285, 0.0), (1286, 0.07142857142857141), (1287, 0.0), (1288, 0.0), (1289, 0.0), (1290, 0.0), (1291, 0.08058229640253801), (1292, 0.03857583749052298), (1293, 0.0), (1294, 0.0), (1295, 0.0472455591261534), (1296, 0.13363062095621217), (1297, 0.07715167498104596), (1298, 0.03706246583305506), (1299, 0.0), (1300, 0.036369648372665396), (1301, 0.0), (1302, 0.041239304942116126), (1303, 0.0), (1304, 0.03289758474798845), (1305, 0.1336306209562122), (1306, 0.0), (1307, 0.03857583749052298), (1308, 0.036369648372665396), (1309, 0.13006649542861798), (1310, 0.04029114820126901), (1311, 0.04335549847620599), (1312, 0.0), (1313, 0.0), (1314, 0.041239304942116126), (1315, 0.036369648372665396), (1316, 0.04335549847620599), (1317, 0.07412493166611012), (1318, 0.03940552031195503), (1319, 0.0), (1320, 0.08058229640253801), (1321, 0.041239304942116126), (1322, 0.0), (1323, 0.03779644730092272), (1324, 0.0), (1325, 0.042257712736425826), (1326, 0.0), (1327, 0.04029114820126901), (1328, 0.10910894511799618), (1329, 0.07881104062391006), (1330, 0.041239304942116126), (1331, 0.0), (1332, 0.03706246583305506), (1333, 0.03779644730092272), (1334, 0.07412493166611012), (1335, 0.0), (1336, 0.041239304942116126), (1337, 0.12087344460380703), (1338, 0.22237479499833035), (1339, 0.07412493166611012), (1340, 0.07881104062391006), (1341, 0.0), (1342, 0.04335549847620599), (1343, 0.0), (1344, 0.0), (1345, 0.04335549847620599), (1346, 0.0), (1347, 0.12371791482634838), (1348, 0.08247860988423225), (1349, 0.08451542547285165), (1350, 0.04335549847620599), (1351, 0.04029114820126901), (1352, 0.0), (1353, 0.04335549847620599), (1354, 0.0), (1355, 0.0), (1356, 0.0), (1357, 0.0472455591261534), (1358, 0.11572751247156893), (1359, 0.07559289460184544), (1360, 0.03940552031195503), (1361, 0.10714285714285712), (1362, 0.041239304942116126), (1363, 0.09869275424396534), (1364, 0.17857142857142855), (1365, 0.1853123291652753), (1366, 0.07881104062391006), (1367, 0.07559289460184544), (1368, 0.1091089451179962), (1369, 0.11821656093586509), (1370, 0.1649572197684645), (1371, 0.0), (1372, 0.0), (1373, 0.03779644730092272), (1374, 0.1649572197684645), (1375, 0.0), (1376, 0.0), (1377, 0.0), (1378, 0.0), (1379, 0.0), (1380, 0.04335549847620599), (1381, 0.04335549847620599), (1382, 0.06900655593423541), (1383, 0.04583492485141056), (1384, 0.0), (1385, 0.0), (1386, 0.042257712736425826), (1387, 0.07881104062391006), (1388, 0.0), (1389, 0.0), (1390, 0.0), (1391, 0.041239304942116126), (1392, 0.0), (1393, 0.0), (1394, 0.24743582965269678), (1395, 0.0), (1396, 0.0), (1397, 0.1267731382092775), (1398, 0.0), (1399, 0.0), (1400, 0.0), (1401, 0.03940552031195503), (1402, 0.0), (1403, 0.0), (1404, 0.0314970394174356), (1405, 0.11338934190276817), (1406, 0.03857583749052298), (1407, 0.0), (1408, 0.29649972666444047), (1409, 0.1267731382092775), (1410, 0.0), (1411, 0.041239304942116126), (1412, 0.0), (1413, 0.04335549847620599), (1414, 0.0), (1415, 0.0), (1416, 0.08671099695241198), (1417, 0.0890870806374748), (1418, 0.12087344460380703), (1419, 0.12087344460380703), (1420, 0.0), (1421, 0.07715167498104596), (1422, 0.03779644730092272), (1423, 0.0), (1424, 0.04029114820126901), (1425, 0.0), (1426, 0.0), (1427, 0.041239304942116126), (1428, 0.0), (1429, 0.12087344460380703), (1430, 0.0), (1431, 0.07142857142857141), (1432, 0.11338934190276817), (1433, 0.041239304942116126), (1434, 0.08671099695241198), (1435, 0.11821656093586509), (1436, 0.0), (1437, 0.0), (1438, 0.0), (1439, 0.10022296571715913), (1440, 0.04029114820126901), (1441, 0.0), (1442, 0.04029114820126901), (1443, 0.08247860988423225), (1444, 0.07273929674533079), (1445, 0.07881104062391006), (1446, 0.07412493166611012), (1447, 0.0), (1448, 0.13006649542861798), (1449, 0.03940552031195503), (1450, 0.07715167498104596), (1451, 0.0), (1452, 0.10714285714285712), (1453, 0.0), (1454, 0.035714285714285705), (1455, 0.1267731382092775), (1456, 0.12087344460380703), (1457, 0.16116459280507603), (1458, 0.08058229640253801), (1459, 0.03779644730092272), (1460, 0.07715167498104596), (1461, 0.03857583749052298), (1462, 0.07559289460184544), (1463, 0.07273929674533079), (1464, 0.1515228816828316), (1465, 0.0), (1466, 0.04583492485141056), (1467, 0.04029114820126901), (1468, 0.11118739749916517), (1469, 0.0), (1470, 0.12371791482634838), (1471, 0.04335549847620599), (1472, 0.03857583749052298), (1473, 0.07412493166611012), (1474, 0.04583492485141056), (1475, 0.04029114820126901), (1476, 0.041239304942116126), (1477, 0.04029114820126901), (1478, 0.07881104062391006), (1479, 0.0890870806374748), (1480, 0.0629940788348712), (1481, 0.0), (1482, 0.0), (1483, 0.036369648372665396), (1484, 0.07881104062391006), (1485, 0.08058229640253801), (1486, 0.12087344460380703), (1487, 0.04335549847620599), (1488, 0.1781741612749496), (1489, 0.042257712736425826), (1490, 0.10527936095153945), (1491, 0.0), (1492, 0.041239304942116126), (1493, 0.0), (1494, 0.07715167498104596), (1495, 0.11572751247156893), (1496, 0.04029114820126901), (1497, 0.07412493166611012), (1498, 0.0), (1499, 0.0), (1500, 0.03940552031195503), (1501, 0.0), (1502, 0.08451542547285165), (1503, 0.13750477455423168), (1504, 0.04335549847620599), (1505, 0.12087344460380703), (1506, 0.0), (1507, 0.03940552031195503), (1508, 0.03940552031195503), (1509, 0.042257712736425826), (1510, 0.0), (1511, 0.03779644730092272), (1512, 0.11821656093586509), (1513, 0.07412493166611012), (1514, 0.0), (1515, 0.03779644730092272), (1516, 0.041239304942116126), (1517, 0.07715167498104596), (1518, 0.07142857142857141), (1519, 0.0), (1520, 0.0445435403187374), (1521, 0.0), (1522, 0.0472455591261534), (1523, 0.1853123291652753), (1524, 0.0445435403187374), (1525, 0.33806170189140655), (1526, 0.04029114820126901), (1527, 0.08247860988423225), (1528, 0.0), (1529, 0.08451542547285165), (1530, 0.08247860988423225), (1531, 0.035093120317179816), (1532, 0.04335549847620599), (1533, 0.07881104062391006), (1534, 0.0), (1535, 0.11821656093586509), (1536, 0.04029114820126901), (1537, 0.08058229640253801), (1538, 0.13576884666042613), (1539, 0.03857583749052298), (1540, 0.03706246583305506), (1541, 0.0), (1542, 0.07715167498104596), (1543, 0.07715167498104596), (1544, 0.10482848367219183), (1545, 0.03940552031195503), (1546, 0.03940552031195503), (1547, 0.042257712736425826), (1548, 0.0), (1549, 0.0), (1550, 0.08247860988423225), (1551, 0.03706246583305506), (1552, 0.0), (1553, 0.08058229640253801), (1554, 0.0), (1555, 0.0), (1556, 0.16971105832553265), (1557, 0.03706246583305506), (1558, 0.12371791482634838), (1559, 0.16116459280507603), (1560, 0.07715167498104596), (1561, 0.035714285714285705), (1562, 0.0), (1563, 0.036369648372665396), (1564, 0.03194382824999699), (1565, 0.03940552031195503), (1566, 0.03857583749052298), (1567, 0.0), (1568, 0.0), (1569, 0.0), (1570, 0.03940552031195503), (1571, 0.041239304942116126), (1572, 0.042257712736425826), (1573, 0.07412493166611012), (1574, 0.0), (1575, 0.03940552031195503), (1576, 0.0), (1577, 0.041239304942116126), (1578, 0.0), (1579, 0.0), (1580, 0.0), (1581, 0.1018266349953196), (1582, 0.07881104062391006), (1583, 0.1018266349953196), (1584, 0.04029114820126901), (1585, 0.09166984970282112), (1586, 0.0), (1587, 0.0), (1588, 0.07715167498104596), (1589, 0.08058229640253801), (1590, 0.1670382761952652), (1591, 0.07273929674533079), (1592, 0.08451542547285165), (1593, 0.0), (1594, 0.0), (1595, 0.08671099695241198), (1596, 0.11821656093586509), (1597, 0.04879500364742665), (1598, 0.0), (1599, 0.12371791482634838), (1600, 0.13006649542861798), (1601, 0.04583492485141056), (1602, 0.0), (1603, 0.07715167498104596), (1604, 0.0), (1605, 0.0), (1606, 0.0), (1607, 0.10714285714285712), (1608, 0.03706246583305506), (1609, 0.0), (1610, 0.0), (1611, 0.03940552031195503), (1612, 0.10910894511799618), (1613, 0.03857583749052298), (1614, 0.0), (1615, 0.12371791482634838), (1616, 0.0), (1617, 0.0), (1618, 0.11821656093586509), (1619, 0.042257712736425826), (1620, 0.0), (1621, 0.0), (1622, 0.07412493166611012), (1623, 0.13006649542861798), (1624, 0.08058229640253801), (1625, 0.07559289460184544), (1626, 0.10527936095153945), (1627, 0.08247860988423225), (1628, 0.04583492485141056), (1629, 0.0472455591261534), (1630, 0.0), (1631, 0.04583492485141056), (1632, 0.12371791482634838), (1633, 0.0), (1634, 0.0), (1635, 0.11821656093586509), (1636, 0.03940552031195503), (1637, 0.0), (1638, 0.07715167498104596), (1639, 0.15762208124782012), (1640, 0.0445435403187374), (1641, 0.0944911182523068), (1642, 0.0), (1643, 0.0), (1644, 0.1267731382092775), (1645, 0.0), (1646, 0.0), (1647, 0.11572751247156893), (1648, 0.0), (1649, 0.04335549847620599), (1650, 0.0), (1651, 0.11338934190276817), (1652, 0.03857583749052298), (1653, 0.08058229640253801), (1654, 0.15118578920369088), (1655, 0.0), (1656, 0.0), (1657, 0.15118578920369088), (1658, 0.0), (1659, 0.08247860988423225), (1660, 0.11338934190276817), (1661, 0.16116459280507603), (1662, 0.0), (1663, 0.19702760155977517), (1664, 0.181848241863327), (1665, 0.13006649542861798), (1666, 0.11572751247156893), (1667, 0.04335549847620599), (1668, 0.11821656093586509), (1669, 0.03857583749052298), (1670, 0.0), (1671, 0.03779644730092272), (1672, 0.03394221166510653), (1673, 0.0), (1674, 0.1267731382092775), (1675, 0.1336306209562122), (1676, 0.0), (1677, 0.03940552031195503), (1678, 0.0472455591261534), (1679, 0.0472455591261534), (1680, 0.0), (1681, 0.08451542547285165), (1682, 0.0), (1683, 0.0), (1684, 0.10714285714285712), (1685, 0.04029114820126901), (1686, 0.03706246583305506), (1687, 0.07881104062391006), (1688, 0.12371791482634838), (1689, 0.03940552031195503), (1690, 0.0), (1691, 0.08451542547285165), (1692, 0.04879500364742665), (1693, 0.042257712736425826), (1694, 0.03940552031195503), (1695, 0.04029114820126901), (1696, 0.03340765523905304), (1697, 0.03940552031195503), (1698, 0.0), (1699, 0.07881104062391006), (1700, 0.0445435403187374), (1701, 0.04879500364742665), (1702, 0.0), (1703, 0.0), (1704, 0.042257712736425826), (1705, 0.03857583749052298), (1706, 0.03857583749052298), (1707, 0.0), (1708, 0.1018266349953196), (1709, 0.0), (1710, 0.03940552031195503), (1711, 0.04029114820126901), (1712, 0.04029114820126901), (1713, 0.0), (1714, 0.042257712736425826), (1715, 0.06788442333021306), (1716, 0.0), (1717, 0.03857583749052298), (1718, 0.0), (1719, 0.21428571428571425), (1720, 0.14285714285714282), (1721, 0.0), (1722, 0.0), (1723, 0.0), (1724, 0.08058229640253801), (1725, 0.11118739749916517), (1726, 0.0), (1727, 0.1267731382092775), (1728, 0.28203803740888306), (1729, 0.0), (1730, 0.0), (1731, 0.035714285714285705), (1732, 0.04583492485141056), (1733, 0.0), (1734, 0.041239304942116126), (1735, 0.035093120317179816), (1736, 0.03857583749052298), (1737, 0.03940552031195503), (1738, 0.08247860988423225), (1739, 0.09166984970282112), (1740, 0.14037248126871926), (1741, 0.0), (1742, 0.1649572197684645), (1743, 0.0), (1744, 0.03857583749052298), (1745, 0.034503277967117704), (1746, 0.0890870806374748), (1747, 0.08451542547285165), (1748, 0.08247860988423225), (1749, 0.11338934190276817), (1750, 0.03857583749052298), (1751, 0.07881104062391006), (1752, 0.11118739749916517), (1753, 0.11118739749916517), (1754, 0.03706246583305506), (1755, 0.0), (1756, 0.03779644730092272), (1757, 0.0), (1758, 0.11821656093586509), (1759, 0.04029114820126901), (1760, 0.041239304942116126), (1761, 0.03857583749052298), (1762, 0.042257712736425826), (1763, 0.04029114820126901), (1764, 0.0445435403187374), (1765, 0.24174688920761403), (1766, 0.0), (1767, 0.09166984970282112), (1768, 0.08058229640253801), (1769, 0.041239304942116126), (1770, 0.042257712736425826), (1771, 0.13006649542861798), (1772, 0.0890870806374748), (1773, 0.11338934190276817), (1774, 0.07715167498104596), (1775, 0.050507627227610534), (1776, 0.041239304942116126), (1777, 0.04335549847620599), (1778, 0.0), (1779, 0.04583492485141056), (1780, 0.07273929674533079), (1781, 0.10527936095153945), (1782, 0.11821656093586509), (1783, 0.042257712736425826), (1784, 0.03940552031195503), (1785, 0.08058229640253801), (1786, 0.03779644730092272), (1787, 0.1543033499620919), (1788, 0.0), (1789, 0.0), (1790, 0.0), (1791, 0.0), (1792, 0.15762208124782012), (1793, 0.042257712736425826), (1794, 0.0), (1795, 0.11118739749916517), (1796, 0.08359173188630292), (1797, 0.0), (1798, 0.04029114820126901), (1799, 0.04029114820126901), (1800, 0.11821656093586509), (1801, 0.0), (1802, 0.0), (1803, 0.1690308509457033), (1804, 0.0), (1805, 0.07559289460184544), (1806, 0.07881104062391006), (1807, 0.041239304942116126), (1808, 0.0), (1809, 0.041239304942116126), (1810, 0.042257712736425826), (1811, 0.03940552031195503), (1812, 0.1649572197684645), (1813, 0.03940552031195503), (1814, 0.03706246583305506), (1815, 0.0), (1816, 0.09166984970282112), (1817, 0.035093120317179816), (1818, 0.03779644730092272), (1819, 0.04029114820126901), (1820, 0.041239304942116126), (1821, 0.0), (1822, 0.0), (1823, 0.0445435403187374), (1824, 0.04583492485141056), (1825, 0.0), (1826, 0.0), (1827, 0.07715167498104596), (1828, 0.16971105832553265), (1829, 0.11338934190276817), (1830, 0.0), (1831, 0.03857583749052298), (1832, 0.03940552031195503), (1833, 0.08247860988423225), (1834, 0.0), (1835, 0.07715167498104596), (1836, 0.03779644730092272), (1837, 0.07881104062391006), (1838, 0.04335549847620599), (1839, 0.08058229640253801), (1840, 0.03779644730092272), (1841, 0.07881104062391006), (1842, 0.03940552031195503), (1843, 0.041239304942116126), (1844, 0.04029114820126901), (1845, 0.11821656093586509), (1846, 0.0), (1847, 0.15762208124782012), (1848, 0.0), (1849, 0.07881104062391006), (1850, 0.2364331218717302), (1851, 0.04029114820126901), (1852, 0.04029114820126901), (1853, 0.12087344460380703), (1854, 0.07142857142857141), (1855, 0.035093120317179816), (1856, 0.0), (1857, 0.0), (1858, 0.0), (1859, 0.07881104062391006), (1860, 0.08671099695241198), (1861, 0.0), (1862, 0.0), (1863, 0.0472455591261534), (1864, 0.03779644730092272), (1865, 0.04029114820126901), (1866, 0.041239304942116126), (1867, 0.04029114820126901), (1868, 0.1267731382092775), (1869, 0.041239304942116126), (1870, 0.03706246583305506), (1871, 0.0), (1872, 0.0), (1873, 0.14638501094227996), (1874, 0.264575131106459), (1875, 0.08451542547285165), (1876, 0.0), (1877, 0.07018624063435963), (1878, 0.034503277967117704), (1879, 0.0), (1880, 0.0), (1881, 0.11821656093586509), (1882, 0.0), (1883, 0.0), (1884, 0.12371791482634838), (1885, 0.03940552031195503), (1886, 0.03940552031195503), (1887, 0.0), (1888, 0.03779644730092272), (1889, 0.07715167498104596), (1890, 0.16116459280507603), (1891, 0.12087344460380703), (1892, 0.07142857142857141), (1893, 0.0), (1894, 0.08058229640253801), (1895, 0.03779644730092272), (1896, 0.0), (1897, 0.08247860988423225), (1898, 0.0472455591261534), (1899, 0.0890870806374748), (1900, 0.11572751247156893), (1901, 0.04879500364742665), (1902, 0.12087344460380703), (1903, 0.041239304942116126), (1904, 0.0), (1905, 0.04029114820126901), (1906, 0.03857583749052298), (1907, 0.0), (1908, 0.042257712736425826), (1909, 0.08247860988423225), (1910, 0.042257712736425826), (1911, 0.0), (1912, 0.08247860988423225), (1913, 0.04879500364742665), (1914, 0.0), (1915, 0.19702760155977517), (1916, 0.042257712736425826), (1917, 0.07715167498104596), (1918, 0.041239304942116126), (1919, 0.050507627227610534), (1920, 0.041239304942116126), (1921, 0.035714285714285705), (1922, 0.03940552031195503), (1923, 0.036369648372665396), (1924, 0.042257712736425826), (1925, 0.042257712736425826), (1926, 0.0), (1927, 0.08247860988423225), (1928, 0.07881104062391006), (1929, 0.08247860988423225), (1930, 0.08247860988423225), (1931, 0.1267731382092775), (1932, 0.035714285714285705), (1933, 0.0), (1934, 0.052414241836095915), (1935, 0.041239304942116126), (1936, 0.0), (1937, 0.0944911182523068), (1938, 0.036369648372665396), (1939, 0.0), (1940, 0.03779644730092272), (1941, 0.042257712736425826), (1942, 0.0), (1943, 0.0890870806374748), (1944, 0.07715167498104596), (1945, 0.11572751247156893), (1946, 0.2267786838055363), (1947, 0.0), (1948, 0.03706246583305506), (1949, 0.0472455591261534), (1950, 0.0), (1951, 0.0), (1952, 0.11118739749916517), (1953, 0.041239304942116126), (1954, 0.04335549847620599), (1955, 0.08247860988423225), (1956, 0.03940552031195503), (1957, 0.04335549847620599), (1958, 0.041239304942116126), (1959, 0.035093120317179816), (1960, 0.181848241863327), (1961, 0.0), (1962, 0.04879500364742665), (1963, 0.0), (1964, 0.07881104062391006), (1965, 0.03706246583305506), (1966, 0.0), (1967, 0.14285714285714282), (1968, 0.04029114820126901), (1969, 0.15762208124782012), (1970, 0.10527936095153945), (1971, 0.07412493166611012), (1972, 0.03940552031195503), (1973, 0.041239304942116126), (1974, 0.11821656093586509), (1975, 0.03857583749052298), (1976, 0.0), (1977, 0.0), (1978, 0.09166984970282112), (1979, 0.04879500364742665), (1980, 0.0), (1981, 0.0), (1982, 0.04029114820126901), (1983, 0.04879500364742665), (1984, 0.03940552031195503), (1985, 0.11118739749916517), (1986, 0.1336306209562122), (1987, 0.0), (1988, 0.0), (1989, 0.0), (1990, 0.03857583749052298), (1991, 0.07881104062391006), (1992, 0.1267731382092775), (1993, 0.03857583749052298), (1994, 0.03706246583305506), (1995, 0.0), (1996, 0.0), (1997, 0.08058229640253801), (1998, 0.041239304942116126), (1999, 0.0), (2000, 0.0472455591261534), (2001, 0.04879500364742665), (2002, 0.0), (2003, 0.0), (2004, 0.07273929674533079), (2005, 0.04879500364742665), (2006, 0.0890870806374748), (2007, 0.0), (2008, 0.1853123291652753), (2009, 0.04335549847620599), (2010, 0.0472455591261534), (2011, 0.04879500364742665), (2012, 0.08058229640253801), (2013, 0.03779644730092272), (2014, 0.0), (2015, 0.0), (2016, 0.03340765523905304), (2017, 0.036369648372665396), (2018, 0.0), (2019, 0.03706246583305506), (2020, 0.07715167498104596), (2021, 0.0), (2022, 0.17857142857142852), (2023, 0.0), (2024, 0.08058229640253801), (2025, 0.03940552031195503), (2026, 0.11118739749916517), (2027, 0.08058229640253801), (2028, 0.0472455591261534), (2029, 0.07881104062391006), (2030, 0.03940552031195503), (2031, 0.1267731382092775), (2032, 0.12087344460380703), (2033, 0.0), (2034, 0.0), (2035, 0.0), (2036, 0.07142857142857141), (2037, 0.04335549847620599), (2038, 0.11821656093586509), (2039, 0.03241018617760821), (2040, 0.10910894511799618), (2041, 0.041239304942116126), (2042, 0.0), (2043, 0.036369648372665396), (2044, 0.03940552031195503), (2045, 0.0), (2046, 0.11118739749916517), (2047, 0.0), (2048, 0.04335549847620599), (2049, 0.042257712736425826), (2050, 0.08058229640253801), (2051, 0.03940552031195503), (2052, 0.07273929674533079), (2053, 0.03779644730092272), (2054, 0.0), (2055, 0.08671099695241198), (2056, 0.0), (2057, 0.0), (2058, 0.08671099695241198), (2059, 0.0472455591261534), (2060, 0.10527936095153945), (2061, 0.15762208124782012), (2062, 0.07715167498104596), (2063, 0.08451542547285165), (2064, 0.0), (2065, 0.0), (2066, 0.0), (2067, 0.0), (2068, 0.06482037235521643), (2069, 0.0), (2070, 0.0), (2071, 0.07881104062391006), (2072, 0.1649572197684645), (2073, 0.08247860988423225), (2074, 0.07881104062391006), (2075, 0.042257712736425826), (2076, 0.0), (2077, 0.07412493166611012), (2078, 0.041239304942116126), (2079, 0.050507627227610534), (2080, 0.041239304942116126), (2081, 0.050507627227610534), (2082, 0.042257712736425826), (2083, 0.0), (2084, 0.0), (2085, 0.04029114820126901), (2086, 0.07273929674533079), (2087, 0.08058229640253801), (2088, 0.041239304942116126), (2089, 0.11572751247156893), (2090, 0.0), (2091, 0.11338934190276817), (2092, 0.0), (2093, 0.0), (2094, 0.0), (2095, 0.0), (2096, 0.036369648372665396), (2097, 0.0), (2098, 0.0), (2099, 0.03706246583305506), (2100, 0.0), (2101, 0.06900655593423541), (2102, 0.11821656093586509), (2103, 0.03706246583305506), (2104, 0.07412493166611012), (2105, 0.042257712736425826), (2106, 0.03340765523905304), (2107, 0.0), (2108, 0.1889822365046136), (2109, 0.04029114820126901), (2110, 0.13006649542861798), (2111, 0.07559289460184544), (2112, 0.0), (2113, 0.0), (2114, 0.0), (2115, 0.03857583749052298), (2116, 0.0), (2117, 0.03857583749052298), (2118, 0.10714285714285712), (2119, 0.0), (2120, 0.0), (2121, 0.03857583749052298), (2122, 0.0), (2123, 0.041239304942116126), (2124, 0.11821656093586509), (2125, 0.0), (2126, 0.03857583749052298), (2127, 0.0), (2128, 0.041239304942116126), (2129, 0.03779644730092272), (2130, 0.12087344460380703), (2131, 0.08451542547285165), (2132, 0.0), (2133, 0.11118739749916517), (2134, 0.11338934190276817), (2135, 0.04029114820126901), (2136, 0.07142857142857141), (2137, 0.0), (2138, 0.034503277967117704), (2139, 0.0), (2140, 0.04335549847620599), (2141, 0.08247860988423225), (2142, 0.0), (2143, 0.0), (2144, 0.0), (2145, 0.12087344460380703), (2146, 0.0445435403187374), (2147, 0.04029114820126901), (2148, 0.035093120317179816), (2149, 0.07142857142857141), (2150, 0.042257712736425826), (2151, 0.16116459280507603), (2152, 0.04029114820126901), (2153, 0.0), (2154, 0.13006649542861798), (2155, 0.03940552031195503), (2156, 0.07559289460184544), (2157, 0.0), (2158, 0.0), (2159, 0.0), (2160, 0.0), (2161, 0.042257712736425826), (2162, 0.04029114820126901), (2163, 0.0), (2164, 0.04335549847620599), (2165, 0.10101525445522107), (2166, 0.03940552031195503), (2167, 0.08058229640253801), (2168, 0.11821656093586509), (2169, 0.07273929674533079), (2170, 0.042257712736425826), (2171, 0.0), (2172, 0.0890870806374748), (2173, 0.03706246583305506), (2174, 0.052414241836095915), (2175, 0.08247860988423225), (2176, 0.04335549847620599), (2177, 0.04029114820126901), (2178, 0.03706246583305506), (2179, 0.03940552031195503), (2180, 0.0), (2181, 0.11118739749916517), (2182, 0.0), (2183, 0.07142857142857141), (2184, 0.06900655593423541), (2185, 0.07715167498104596), (2186, 0.03857583749052298), (2187, 0.17546560158589908), (2188, 0.04583492485141056), (2189, 0.04335549847620599), (2190, 0.035714285714285705), (2191, 0.0), (2192, 0.042257712736425826), (2193, 0.1336306209562122), (2194, 0.0), (2195, 0.11572751247156893), (2196, 0.10714285714285712), (2197, 0.0), (2198, 0.03857583749052298), (2199, 0.0), (2200, 0.07715167498104596), (2201, 0.0), (2202, 0.04335549847620599), (2203, 0.03706246583305506), (2204, 0.03857583749052298), (2205, 0.04583492485141056), (2206, 0.0), (2207, 0.07412493166611012), (2208, 0.07273929674533079), (2209, 0.0), (2210, 0.03940552031195503), (2211, 0.04029114820126901), (2212, 0.0), (2213, 0.03706246583305506), (2214, 0.0), (2215, 0.08671099695241198), (2216, 0.1690308509457033), (2217, 0.0), (2218, 0.2267786838055363), (2219, 0.08451542547285165), (2220, 0.0), (2221, 0.07559289460184544), (2222, 0.09166984970282112), (2223, 0.0), (2224, 0.07559289460184544), (2225, 0.10714285714285712), (2226, 0.0), (2227, 0.0445435403187374), (2228, 0.04335549847620599), (2229, 0.11118739749916517), (2230, 0.0), (2231, 0.0), (2232, 0.04029114820126901), (2233, 0.03940552031195503), (2234, 0.04029114820126901), (2235, 0.07715167498104596), (2236, 0.03857583749052298), (2237, 0.0), (2238, 0.07412493166611012), (2239, 0.11572751247156893), (2240, 0.1267731382092775), (2241, 0.03779644730092272), (2242, 0.050507627227610534), (2243, 0.03779644730092272), (2244, 0.0), (2245, 0.04335549847620599), (2246, 0.041239304942116126), (2247, 0.0), (2248, 0.0445435403187374), (2249, 0.0), (2250, 0.12087344460380703), (2251, 0.04335549847620599), (2252, 0.09166984970282112), (2253, 0.0), (2254, 0.04335549847620599), (2255, 0.24174688920761406), (2256, 0.0), (2257, 0.03940552031195503), (2258, 0.0), (2259, 0.0472455591261534), (2260, 0.14824986333222023), (2261, 0.04029114820126901), (2262, 0.035093120317179816), (2263, 0.0), (2264, 0.0), (2265, 0.11338934190276817), (2266, 0.04335549847620599), (2267, 0.04335549847620599), (2268, 0.04335549847620599), (2269, 0.12371791482634838), (2270, 0.0), (2271, 0.0445435403187374), (2272, 0.04583492485141056), (2273, 0.0944911182523068), (2274, 0.08451542547285165), (2275, 0.08058229640253801), (2276, 0.041239304942116126), (2277, 0.1267731382092775), (2278, 0.10022296571715913), (2279, 0.0), (2280, 0.20619652471058064), (2281, 0.0), (2282, 0.08247860988423225), (2283, 0.0), (2284, 0.04335549847620599), (2285, 0.03857583749052298), (2286, 0.0), (2287, 0.041239304942116126), (2288, 0.041239304942116126), (2289, 0.041239304942116126), (2290, 0.0), (2291, 0.1267731382092775), (2292, 0.052414241836095915), (2293, 0.0), (2294, 0.0), (2295, 0.07881104062391006), (2296, 0.03779644730092272), (2297, 0.042257712736425826), (2298, 0.042257712736425826), (2299, 0.0), (2300, 0.042257712736425826), (2301, 0.04029114820126901), (2302, 0.04583492485141056), (2303, 0.0), (2304, 0.15118578920369088), (2305, 0.08451542547285165), (2306, 0.07559289460184544), (2307, 0.12371791482634838), (2308, 0.041239304942116126), (2309, 0.0), (2310, 0.03779644730092272), (2311, 0.0), (2312, 0.0), (2313, 0.08058229640253801), (2314, 0.07559289460184544), (2315, 0.0), (2316, 0.03940552031195503), (2317, 0.041239304942116126), (2318, 0.11572751247156893), (2319, 0.0), (2320, 0.0), (2321, 0.0445435403187374), (2322, 0.0445435403187374), (2323, 0.11821656093586509), (2324, 0.08058229640253801), (2325, 0.0), (2326, 0.04335549847620599), (2327, 0.0), (2328, 0.08247860988423225), (2329, 0.11821656093586509), (2330, 0.03857583749052298), (2331, 0.042257712736425826), (2332, 0.08671099695241198), (2333, 0.16116459280507603), (2334, 0.03706246583305506), (2335, 0.03779644730092272), (2336, 0.10910894511799618), (2337, 0.0), (2338, 0.03940552031195503), (2339, 0.0), (2340, 0.04029114820126901), (2341, 0.07715167498104596), (2342, 0.16116459280507603), (2343, 0.041239304942116126), (2344, 0.08451542547285165), (2345, 0.04335549847620599), (2346, 0.10910894511799618), (2347, 0.0445435403187374), (2348, 0.07715167498104596), (2349, 0.10527936095153945), (2350, 0.041239304942116126), (2351, 0.0), (2352, 0.0), (2353, 0.08247860988423225), (2354, 0.07559289460184544), (2355, 0.0), (2356, 0.08058229640253801), (2357, 0.0), (2358, 0.042257712736425826), (2359, 0.03779644730092272), (2360, 0.10101525445522107), (2361, 0.04029114820126901), (2362, 0.03940552031195503), (2363, 0.0), (2364, 0.04583492485141056), (2365, 0.03779644730092272), (2366, 0.0), (2367, 0.0944911182523068), (2368, 0.03940552031195503), (2369, 0.04583492485141056), (2370, 0.0), (2371, 0.14285714285714282), (2372, 0.0), (2373, 0.1928791874526149), (2374, 0.04029114820126901), (2375, 0.07881104062391006), (2376, 0.0), (2377, 0.03779644730092272), (2378, 0.12087344460380703), (2379, 0.0), (2380, 0.07273929674533079), (2381, 0.036369648372665396), (2382, 0.0445435403187374), (2383, 0.08247860988423225), (2384, 0.10910894511799618), (2385, 0.041239304942116126), (2386, 0.041239304942116126), (2387, 0.0), (2388, 0.11338934190276817), (2389, 0.0), (2390, 0.04029114820126901), (2391, 0.0445435403187374), (2392, 0.0), (2393, 0.12371791482634838), (2394, 0.0), (2395, 0.08058229640253801), (2396, 0.0), (2397, 0.03940552031195503), (2398, 0.15762208124782012), (2399, 0.03340765523905304), (2400, 0.0), (2401, 0.0890870806374748), (2402, 0.07559289460184544), (2403, 0.07412493166611012), (2404, 0.03940552031195503), (2405, 0.03857583749052298), (2406, 0.042257712736425826), (2407, 0.03940552031195503), (2408, 0.0), (2409, 0.0), (2410, 0.04583492485141056), (2411, 0.0), (2412, 0.08058229640253801), (2413, 0.07881104062391006), (2414, 0.0), (2415, 0.0), (2416, 0.07412493166611012), (2417, 0.0), (2418, 0.0), (2419, 0.042257712736425826), (2420, 0.0), (2421, 0.05698028822981897), (2422, 0.0), (2423, 0.041239304942116126), (2424, 0.11118739749916517), (2425, 0.042257712736425826), (2426, 0.0), (2427, 0.0), (2428, 0.1543033499620919), (2429, 0.0445435403187374), (2430, 0.0), (2431, 0.03940552031195503), (2432, 0.041239304942116126), (2433, 0.0), (2434, 0.12087344460380703), (2435, 0.11118739749916517), (2436, 0.050507627227610534), (2437, 0.0545544725589981), (2438, 0.08058229640253801), (2439, 0.0), (2440, 0.11338934190276817), (2441, 0.0), (2442, 0.06900655593423541), (2443, 0.0), (2444, 0.0), (2445, 0.0), (2446, 0.07273929674533079), (2447, 0.08247860988423225), (2448, 0.12087344460380703), (2449, 0.03940552031195503), (2450, 0.16116459280507603), (2451, 0.0), (2452, 0.04335549847620599), (2453, 0.08671099695241198), (2454, 0.0), (2455, 0.11572751247156893), (2456, 0.0890870806374748), (2457, 0.0), (2458, 0.07715167498104596), (2459, 0.07273929674533079), (2460, 0.0), (2461, 0.11572751247156893), (2462, 0.0), (2463, 0.042257712736425826), (2464, 0.04583492485141056), (2465, 0.03940552031195503), (2466, 0.0), (2467, 0.12371791482634838), (2468, 0.08451542547285165), (2469, 0.09583148474999097), (2470, 0.17857142857142852), (2471, 0.08451542547285165), (2472, 0.042257712736425826), (2473, 0.041239304942116126), (2474, 0.04335549847620599), (2475, 0.15118578920369088), (2476, 0.21821789023599236), (2477, 0.0), (2478, 0.08247860988423225), (2479, 0.036369648372665396), (2480, 0.14547859349066158), (2481, 0.09166984970282112), (2482, 0.042257712736425826), (2483, 0.0445435403187374), (2484, 0.0), (2485, 0.0472455591261534), (2486, 0.0), (2487, 0.0445435403187374), (2488, 0.03706246583305506), (2489, 0.04029114820126901), (2490, 0.0), (2491, 0.1649572197684645), (2492, 0.04029114820126901), (2493, 0.07559289460184544), (2494, 0.0890870806374748), (2495, 0.15118578920369088), (2496, 0.0), (2497, 0.0), (2498, 0.04583492485141056), (2499, 0.03940552031195503), (2500, 0.08671099695241198), (2501, 0.07881104062391006), (2502, 0.1336306209562122), (2503, 0.034503277967117704), (2504, 0.03857583749052298), (2505, 0.08671099695241198), (2506, 0.0445435403187374), (2507, 0.14173667737846019), (2508, 0.07881104062391006), (2509, 0.04029114820126901), (2510, 0.08247860988423225), (2511, 0.0), (2512, 0.042257712736425826), (2513, 0.042257712736425826), (2514, 0.07142857142857141), (2515, 0.03706246583305506), (2516, 0.03857583749052298), (2517, 0.03779644730092272), (2518, 0.03940552031195503), (2519, 0.0472455591261534), (2520, 0.042257712736425826), (2521, 0.14037248126871926), (2522, 0.03779644730092272), (2523, 0.0890870806374748), (2524, 0.03706246583305506), (2525, 0.07142857142857141), (2526, 0.0), (2527, 0.0), (2528, 0.0), (2529, 0.1543033499620919), (2530, 0.0), (2531, 0.04335549847620599), (2532, 0.041239304942116126), (2533, 0.08058229640253801), (2534, 0.04029114820126901), (2535, 0.0), (2536, 0.07559289460184544), (2537, 0.08058229640253801), (2538, 0.050507627227610534), (2539, 0.07881104062391006), (2540, 0.0), (2541, 0.07881104062391006), (2542, 0.06388765649999398), (2543, 0.20145574100634503), (2544, 0.0), (2545, 0.14037248126871926), (2546, 0.12087344460380703), (2547, 0.07715167498104596), (2548, 0.0890870806374748), (2549, 0.04029114820126901), (2550, 0.03857583749052298), (2551, 0.0), (2552, 0.03940552031195503), (2553, 0.11821656093586509), (2554, 0.0), (2555, 0.0), (2556, 0.0), (2557, 0.03857583749052298), (2558, 0.11118739749916517), (2559, 0.0), (2560, 0.10714285714285712), (2561, 0.16971105832553265), (2562, 0.042257712736425826), (2563, 0.0472455591261534), (2564, 0.03779644730092272), (2565, 0.035714285714285705), (2566, 0.0), (2567, 0.0), (2568, 0.03779644730092272), (2569, 0.15118578920369088), (2570, 0.028490144114909487), (2571, 0.12087344460380703), (2572, 0.03706246583305506), (2573, 0.08058229640253801), (2574, 0.050507627227610534), (2575, 0.0), (2576, 0.0), (2577, 0.0445435403187374), (2578, 0.07142857142857141), (2579, 0.0), (2580, 0.042257712736425826), (2581, 0.041239304942116126), (2582, 0.1649572197684645), (2583, 0.0890870806374748), (2584, 0.04029114820126901), (2585, 0.042257712736425826), (2586, 0.041239304942116126), (2587, 0.12371791482634838), (2588, 0.0), (2589, 0.0), (2590, 0.0), (2591, 0.0), (2592, 0.15971914124998496), (2593, 0.14824986333222023), (2594, 0.07881104062391006), (2595, 0.03940552031195503), (2596, 0.12087344460380703), (2597, 0.1018266349953196), (2598, 0.0), (2599, 0.042257712736425826), (2600, 0.16116459280507603), (2601, 0.0), (2602, 0.0), (2603, 0.07881104062391006), (2604, 0.0), (2605, 0.03940552031195503), (2606, 0.07412493166611012), (2607, 0.08058229640253801), (2608, 0.041239304942116126), (2609, 0.11821656093586509), (2610, 0.08451542547285165), (2611, 0.0944911182523068), (2612, 0.0), (2613, 0.07273929674533079), (2614, 0.04879500364742665), (2615, 0.03857583749052298), (2616, 0.11118739749916517), (2617, 0.04335549847620599), (2618, 0.0), (2619, 0.0), (2620, 0.041239304942116126), (2621, 0.1543033499620919), (2622, 0.0), (2623, 0.09320546490018), (2624, 0.036369648372665396), (2625, 0.11821656093586509), (2626, 0.0), (2627, 0.14547859349066158), (2628, 0.03394221166510653), (2629, 0.04879500364742665), (2630, 0.03940552031195503), (2631, 0.050507627227610534), (2632, 0.08247860988423225), (2633, 0.07412493166611012), (2634, 0.050507627227610534), (2635, 0.07412493166611012), (2636, 0.04029114820126901), (2637, 0.0890870806374748), (2638, 0.036369648372665396), (2639, 0.0), (2640, 0.1889822365046136), (2641, 0.03779644730092272), (2642, 0.11572751247156893), (2643, 0.041239304942116126), (2644, 0.0), (2645, 0.03779644730092272), (2646, 0.052414241836095915), (2647, 0.11572751247156893), (2648, 0.09166984970282112), (2649, 0.2927700218845599), (2650, 0.08247860988423225), (2651, 0.03779644730092272), (2652, 0.04583492485141056), (2653, 0.0), (2654, 0.03857583749052298), (2655, 0.0), (2656, 0.042257712736425826), (2657, 0.11338934190276817), (2658, 0.050507627227610534), (2659, 0.03706246583305506), (2660, 0.03394221166510653), (2661, 0.07142857142857141), (2662, 0.0445435403187374), (2663, 0.04583492485141056), (2664, 0.03857583749052298), (2665, 0.04029114820126901), (2666, 0.04029114820126901), (2667, 0.035714285714285705), (2668, 0.041239304942116126), (2669, 0.0), (2670, 0.13006649542861798), (2671, 0.03857583749052298), (2672, 0.0), (2673, 0.0), (2674, 0.27583864218368526), (2675, 0.03940552031195503), (2676, 0.0), (2677, 0.0314970394174356), (2678, 0.07412493166611012), (2679, 0.0), (2680, 0.03706246583305506), (2681, 0.0), (2682, 0.11821656093586509), (2683, 0.0), (2684, 0.0), (2685, 0.03857583749052298), (2686, 0.042257712736425826), (2687, 0.0), (2688, 0.0), (2689, 0.0), (2690, 0.0), (2691, 0.15118578920369088), (2692, 0.04029114820126901), (2693, 0.11821656093586509), (2694, 0.03857583749052298), (2695, 0.0), (2696, 0.03779644730092272), (2697, 0.041239304942116126), (2698, 0.0), (2699, 0.0), (2700, 0.03706246583305506), (2701, 0.03940552031195503), (2702, 0.08247860988423225), (2703, 0.04583492485141056), (2704, 0.03857583749052298), (2705, 0.0), (2706, 0.08451542547285165), (2707, 0.0), (2708, 0.0944911182523068), (2709, 0.04879500364742665), (2710, 0.04029114820126901), (2711, 0.03940552031195503), (2712, 0.0), (2713, 0.03857583749052298), (2714, 0.04335549847620599), (2715, 0.0), (2716, 0.07715167498104596), (2717, 0.12371791482634838), (2718, 0.03857583749052298), (2719, 0.03940552031195503), (2720, 0.0), (2721, 0.041239304942116126), (2722, 0.08671099695241198), (2723, 0.04583492485141056), (2724, 0.041239304942116126), (2725, 0.036369648372665396), (2726, 0.03779644730092272), (2727, 0.036369648372665396), (2728, 0.0), (2729, 0.0), (2730, 0.04335549847620599), (2731, 0.42433421239575275), (2732, 0.03779644730092272), (2733, 0.041239304942116126), (2734, 0.04335549847620599), (2735, 0.0), (2736, 0.10714285714285712), (2737, 0.04029114820126901), (2738, 0.0), (2739, 0.04029114820126901), (2740, 0.0), (2741, 0.0), (2742, 0.03706246583305506), (2743, 0.0), (2744, 0.0), (2745, 0.07018624063435963), (2746, 0.0), (2747, 0.0), (2748, 0.041239304942116126), (2749, 0.04029114820126901), (2750, 0.08247860988423225), (2751, 0.03857583749052298), (2752, 0.041239304942116126), (2753, 0.03779644730092272), (2754, 0.0), (2755, 0.0), (2756, 0.11118739749916517), (2757, 0.035093120317179816), (2758, 0.035093120317179816), (2759, 0.03706246583305506), (2760, 0.041239304942116126), (2761, 0.0), (2762, 0.11821656093586509), (2763, 0.04335549847620599), (2764, 0.0975900072948533), (2765, 0.042257712736425826), (2766, 0.03940552031195503), (2767, 0.07715167498104596), (2768, 0.0), (2769, 0.08247860988423225), (2770, 0.050507627227610534), (2771, 0.042257712736425826), (2772, 0.08671099695241198), (2773, 0.07715167498104596), (2774, 0.11338934190276817), (2775, 0.15762208124782012), (2776, 0.04335549847620599), (2777, 0.07142857142857141), (2778, 0.042257712736425826), (2779, 0.04879500364742665), (2780, 0.0), (2781, 0.0), (2782, 0.055131784641997125), (2783, 0.08247860988423225), (2784, 0.028819520885211745), (2785, 0.0), (2786, 0.04029114820126901), (2787, 0.03289758474798845), (2788, 0.041239304942116126), (2789, 0.050507627227610534), (2790, 0.2105587219030789), (2791, 0.0), (2792, 0.24743582965269678), (2793, 0.21128856368212912), (2794, 0.03940552031195503), (2795, 0.0), (2796, 0.03857583749052298), (2797, 0.07881104062391006), (2798, 0.03779644730092272), (2799, 0.12087344460380703), (2800, 0.08247860988423225), (2801, 0.12371791482634838), (2802, 0.07412493166611012), (2803, 0.1018266349953196), (2804, 0.1336306209562122), (2805, 0.07715167498104596), (2806, 0.03194382824999699), (2807, 0.036369648372665396), (2808, 0.03857583749052298), (2809, 0.08058229640253801), (2810, 0.03706246583305506), (2811, 0.03940552031195503), (2812, 0.0), (2813, 0.042257712736425826), (2814, 0.042257712736425826), (2815, 0.03779644730092272), (2816, 0.0), (2817, 0.0), (2818, 0.16116459280507603), (2819, 0.0), (2820, 0.15762208124782012), (2821, 0.07881104062391006), (2822, 0.12371791482634838), (2823, 0.0), (2824, 0.03940552031195503), (2825, 0.036369648372665396), (2826, 0.03857583749052298), (2827, 0.04029114820126901), (2828, 0.07715167498104596), (2829, 0.03779644730092272), (2830, 0.0), (2831, 0.0), (2832, 0.03340765523905304), (2833, 0.0), (2834, 0.0), (2835, 0.03779644730092272), (2836, 0.11572751247156893), (2837, 0.0), (2838, 0.04029114820126901), (2839, 0.11572751247156893), (2840, 0.035093120317179816), (2841, 0.08247860988423225), (2842, 0.0), (2843, 0.04335549847620599), (2844, 0.04335549847620599), (2845, 0.07881104062391006), (2846, 0.0), (2847, 0.03779644730092272), (2848, 0.0), (2849, 0.041239304942116126), (2850, 0.0), (2851, 0.0), (2852, 0.04029114820126901), (2853, 0.08247860988423225), (2854, 0.0), (2855, 0.08058229640253801), (2856, 0.0890870806374748), (2857, 0.08671099695241198), (2858, 0.12087344460380703), (2859, 0.0445435403187374), (2860, 0.03706246583305506), (2861, 0.0), (2862, 0.11821656093586509), (2863, 0.03857583749052298), (2864, 0.0890870806374748), (2865, 0.0), (2866, 0.0445435403187374), (2867, 0.0), (2868, 0.0), (2869, 0.04583492485141056), (2870, 0.041239304942116126), (2871, 0.03340765523905304), (2872, 0.04879500364742665), (2873, 0.0), (2874, 0.0), (2875, 0.17342199390482396), (2876, 0.07273929674533079), (2877, 0.03394221166510653), (2878, 0.1951800145897066), (2879, 0.041239304942116126), (2880, 0.11821656093586509), (2881, 0.03940552031195503), (2882, 0.0472455591261534), (2883, 0.04583492485141056), (2884, 0.06788442333021306), (2885, 0.12087344460380703), (2886, 0.15762208124782012), (2887, 0.03940552031195503), (2888, 0.1018266349953196), (2889, 0.0), (2890, 0.08671099695241198), (2891, 0.0445435403187374), (2892, 0.0975900072948533), (2893, 0.036369648372665396), (2894, 0.03857583749052298), (2895, 0.0), (2896, 0.0445435403187374), (2897, 0.0), (2898, 0.03106848830006), (2899, 0.0), (2900, 0.0), (2901, 0.03940552031195503), (2902, 0.0), (2903, 0.04583492485141056), (2904, 0.036369648372665396), (2905, 0.07881104062391006), (2906, 0.03779644730092272), (2907, 0.042257712736425826), (2908, 0.050507627227610534), (2909, 0.10101525445522107), (2910, 0.0472455591261534), (2911, 0.0), (2912, 0.04029114820126901), (2913, 0.03857583749052298), (2914, 0.14547859349066158), (2915, 0.15762208124782012), (2916, 0.07273929674533079), (2917, 0.03940552031195503), (2918, 0.0), (2919, 0.042257712736425826), (2920, 0.041239304942116126), (2921, 0.0944911182523068), (2922, 0.041239304942116126), (2923, 0.0), (2924, 0.0445435403187374), (2925, 0.036369648372665396), (2926, 0.07881104062391006), (2927, 0.03940552031195503), (2928, 0.0), (2929, 0.0), (2930, 0.0), (2931, 0.08671099695241198), (2932, 0.13750477455423168), (2933, 0.050507627227610534), (2934, 0.03940552031195503), (2935, 0.08058229640253801), (2936, 0.04029114820126901), (2937, 0.0), (2938, 0.0), (2939, 0.0445435403187374), (2940, 0.04029114820126901), (2941, 0.1853123291652753), (2942, 0.041239304942116126), (2943, 0.08671099695241198), (2944, 0.042257712736425826), (2945, 0.0), (2946, 0.03706246583305506), (2947, 0.04029114820126901), (2948, 0.1649572197684645), (2949, 0.03779644730092272), (2950, 0.03857583749052298), (2951, 0.03779644730092272), (2952, 0.04029114820126901), (2953, 0.035093120317179816), (2954, 0.0657951694959769), (2955, 0.04029114820126901), (2956, 0.0472455591261534), (2957, 0.12371791482634838), (2958, 0.07881104062391006), (2959, 0.1336306209562122), (2960, 0.07018624063435963), (2961, 0.11338934190276817), (2962, 0.042257712736425826), (2963, 0.04879500364742665), (2964, 0.0), (2965, 0.07715167498104596), (2966, 0.0), (2967, 0.03940552031195503), (2968, 0.08451542547285165), (2969, 0.03940552031195503), (2970, 0.050507627227610534), (2971, 0.0445435403187374), (2972, 0.08671099695241198), (2973, 0.04583492485141056), (2974, 0.07142857142857141), (2975, 0.042257712736425826), (2976, 0.04879500364742665), (2977, 0.07881104062391006), (2978, 0.0), (2979, 0.0), (2980, 0.04335549847620599), (2981, 0.03857583749052298), (2982, 0.08247860988423225), (2983, 0.04029114820126901), (2984, 0.03940552031195503), (2985, 0.04335549847620599), (2986, 0.07412493166611012), (2987, 0.0), (2988, 0.04029114820126901), (2989, 0.1853123291652753), (2990, 0.0), (2991, 0.0), (2992, 0.04029114820126901), (2993, 0.04029114820126901), (2994, 0.0), (2995, 0.0), (2996, 0.07881104062391006), (2997, 0.04029114820126901), (2998, 0.0), (2999, 0.0), (3000, 0.042257712736425826), (3001, 0.0), (3002, 0.0), (3003, 0.0), (3004, 0.0), (3005, 0.042257712736425826), (3006, 0.03779644730092272), (3007, 0.04029114820126901), (3008, 0.1259881576697424), (3009, 0.04335549847620599), (3010, 0.0), (3011, 0.08247860988423225), (3012, 0.2545875386086578), (3013, 0.0), (3014, 0.0), (3015, 0.08451542547285165), (3016, 0.0445435403187374), (3017, 0.0), (3018, 0.0), (3019, 0.07273929674533079), (3020, 0.050507627227610534), (3021, 0.050507627227610534), (3022, 0.04879500364742665), (3023, 0.034503277967117704), (3024, 0.0), (3025, 0.09166984970282112), (3026, 0.0445435403187374), (3027, 0.035714285714285705), (3028, 0.04335549847620599), (3029, 0.1315903389919538), (3030, 0.0), (3031, 0.07142857142857141), (3032, 0.09869275424396534), (3033, 0.10910894511799618), (3034, 0.041239304942116126), (3035, 0.07559289460184544), (3036, 0.0), (3037, 0.050507627227610534), (3038, 0.0), (3039, 0.041239304942116126), (3040, 0.15118578920369088), (3041, 0.03940552031195503), (3042, 0.0), (3043, 0.09166984970282112), (3044, 0.03779644730092272), (3045, 0.08247860988423225), (3046, 0.0), (3047, 0.04335549847620599), (3048, 0.08451542547285165), (3049, 0.0), (3050, 0.07559289460184544), (3051, 0.0), (3052, 0.11821656093586509), (3053, 0.0), (3054, 0.036369648372665396), (3055, 0.07412493166611012), (3056, 0.0), (3057, 0.03779644730092272), (3058, 0.0), (3059, 0.0445435403187374), (3060, 0.042257712736425826), (3061, 0.07881104062391006), (3062, 0.12087344460380703), (3063, 0.03706246583305506), (3064, 0.07881104062391006), (3065, 0.0), (3066, 0.0445435403187374), (3067, 0.0975900072948533), (3068, 0.03706246583305506), (3069, 0.13006649542861798), (3070, 0.042257712736425826), (3071, 0.041239304942116126), (3072, 0.0445435403187374), (3073, 0.11118739749916517), (3074, 0.10527936095153945), (3075, 0.042257712736425826), (3076, 0.050507627227610534), (3077, 0.0), (3078, 0.050507627227610534), (3079, 0.0), (3080, 0.04879500364742665), (3081, 0.0), (3082, 0.0), (3083, 0.07715167498104596), (3084, 0.036369648372665396), (3085, 0.03940552031195503), (3086, 0.0), (3087, 0.0472455591261534), (3088, 0.12371791482634838), (3089, 0.0), (3090, 0.08058229640253801), (3091, 0.12087344460380703), (3092, 0.04583492485141056), (3093, 0.1543033499620919), (3094, 0.0), (3095, 0.042257712736425826), (3096, 0.042257712736425826), (3097, 0.0), (3098, 0.0), (3099, 0.0), (3100, 0.03779644730092272), (3101, 0.08451542547285165), (3102, 0.042257712736425826), (3103, 0.052414241836095915), (3104, 0.03940552031195503), (3105, 0.04335549847620599), (3106, 0.08058229640253801), (3107, 0.0), (3108, 0.0), (3109, 0.03857583749052298), (3110, 0.08451542547285165), (3111, 0.08451542547285165), (3112, 0.12371791482634838), (3113, 0.04029114820126901), (3114, 0.0), (3115, 0.0), (3116, 0.0445435403187374), (3117, 0.0), (3118, 0.041239304942116126), (3119, 0.0545544725589981), (3120, 0.04029114820126901), (3121, 0.050507627227610534), (3122, 0.0), (3123, 0.08058229640253801), (3124, 0.035093120317179816), (3125, 0.03106848830006), (3126, 0.0445435403187374), (3127, 0.0944911182523068), (3128, 0.0), (3129, 0.0), (3130, 0.04583492485141056), (3131, 0.03779644730092272), (3132, 0.0), (3133, 0.0), (3134, 0.08451542547285165), (3135, 0.0), (3136, 0.0), (3137, 0.0), (3138, 0.03857583749052298), (3139, 0.0), (3140, 0.06213697660012), (3141, 0.0), (3142, 0.0), (3143, 0.0), (3144, 0.13750477455423168), (3145, 0.03940552031195503), (3146, 0.0), (3147, 0.0), (3148, 0.08247860988423225), (3149, 0.036369648372665396), (3150, 0.0), (3151, 0.0), (3152, 0.08451542547285165), (3153, 0.041239304942116126), (3154, 0.04879500364742665), (3155, 0.07018624063435963), (3156, 0.08058229640253801), (3157, 0.08671099695241198), (3158, 0.0), (3159, 0.0), (3160, 0.041239304942116126), (3161, 0.041239304942116126), (3162, 0.0), (3163, 0.0), (3164, 0.04879500364742665), (3165, 0.11572751247156893), (3166, 0.050507627227610534), (3167, 0.0), (3168, 0.0), (3169, 0.041239304942116126), (3170, 0.13801311186847082), (3171, 0.0), (3172, 0.0472455591261534), (3173, 0.11821656093586509), (3174, 0.0), (3175, 0.0), (3176, 0.0), (3177, 0.06900655593423541), (3178, 0.06388765649999398), (3179, 0.0), (3180, 0.19702760155977517), (3181, 0.11821656093586509), (3182, 0.0), (3183, 0.07881104062391006), (3184, 0.03779644730092272), (3185, 0.050507627227610534), (3186, 0.04583492485141056), (3187, 0.0), (3188, 0.04029114820126901), (3189, 0.0), (3190, 0.0), (3191, 0.04335549847620599), (3192, 0.0), (3193, 0.0), (3194, 0.10101525445522107), (3195, 0.07715167498104596), (3196, 0.07881104062391006), (3197, 0.11118739749916517), (3198, 0.03940552031195503), (3199, 0.14173667737846019), (3200, 0.0445435403187374), (3201, 0.04029114820126901), (3202, 0.0), (3203, 0.0), (3204, 0.03940552031195503), (3205, 0.0472455591261534), (3206, 0.04335549847620599), (3207, 0.0975900072948533), (3208, 0.03779644730092272), (3209, 0.03779644730092272), (3210, 0.0), (3211, 0.11821656093586509), (3212, 0.042257712736425826), (3213, 0.0), (3214, 0.0), (3215, 0.0), (3216, 0.0), (3217, 0.042257712736425826), (3218, 0.0), (3219, 0.03857583749052298), (3220, 0.041239304942116126), (3221, 0.03857583749052298), (3222, 0.042257712736425826), (3223, 0.04879500364742665), (3224, 0.1515228816828316), (3225, 0.050507627227610534), (3226, 0.0472455591261534), (3227, 0.034503277967117704), (3228, 0.0), (3229, 0.08451542547285165), (3230, 0.0), (3231, 0.03857583749052298), (3232, 0.08451542547285165), (3233, 0.08451542547285165), (3234, 0.12087344460380703), (3235, 0.0), (3236, 0.11118739749916517), (3237, 0.0), (3238, 0.035714285714285705), (3239, 0.14037248126871926), (3240, 0.0), (3241, 0.04335549847620599), (3242, 0.12371791482634838), (3243, 0.0), (3244, 0.07715167498104596), (3245, 0.07881104062391006), (3246, 0.0), (3247, 0.0), (3248, 0.0), (3249, 0.0), (3250, 0.14285714285714282), (3251, 0.0), (3252, 0.03779644730092272), (3253, 0.03857583749052298), (3254, 0.04335549847620599), (3255, 0.08451542547285165), (3256, 0.0), (3257, 0.11118739749916517), (3258, 0.042257712736425826), (3259, 0.08058229640253801), (3260, 0.08058229640253801), (3261, 0.0890870806374748), (3262, 0.07559289460184544), (3263, 0.0), (3264, 0.0472455591261534), (3265, 0.0445435403187374), (3266, 0.042257712736425826), (3267, 0.0), (3268, 0.0), (3269, 0.04335549847620599), (3270, 0.09869275424396534), (3271, 0.0472455591261534), (3272, 0.04335549847620599), (3273, 0.11338934190276817), (3274, 0.0), (3275, 0.11821656093586509), (3276, 0.07715167498104596), (3277, 0.08247860988423225), (3278, 0.08451542547285165), (3279, 0.08671099695241198), (3280, 0.04879500364742665), (3281, 0.0), (3282, 0.0472455591261534), (3283, 0.03706246583305506), (3284, 0.0472455591261534), (3285, 0.041239304942116126), (3286, 0.13750477455423168), (3287, 0.04879500364742665), (3288, 0.03706246583305506), (3289, 0.034503277967117704), (3290, 0.0), (3291, 0.11118739749916517), (3292, 0.04879500364742665), (3293, 0.27003086243366087), (3294, 0.11821656093586509), (3295, 0.0445435403187374), (3296, 0.0), (3297, 0.11338934190276817), (3298, 0.03857583749052298), (3299, 0.09166984970282112), (3300, 0.0), (3301, 0.04029114820126901), (3302, 0.04879500364742665), (3303, 0.07559289460184544), (3304, 0.10101525445522107), (3305, 0.0), (3306, 0.0975900072948533), (3307, 0.042257712736425826), (3308, 0.04335549847620599), (3309, 0.07412493166611012), (3310, 0.04335549847620599), (3311, 0.07881104062391006), (3312, 0.04335549847620599), (3313, 0.11118739749916517), (3314, 0.0472455591261534), (3315, 0.04335549847620599), (3316, 0.12087344460380703), (3317, 0.0), (3318, 0.12371791482634838), (3319, 0.050507627227610534), (3320, 0.0), (3321, 0.042257712736425826), (3322, 0.13750477455423168), (3323, 0.03940552031195503), (3324, 0.0), (3325, 0.0445435403187374), (3326, 0.14173667737846019), (3327, 0.0), (3328, 0.03857583749052298), (3329, 0.0), (3330, 0.042257712736425826), (3331, 0.0), (3332, 0.13006649542861798), (3333, 0.03857583749052298), (3334, 0.07412493166611012), (3335, 0.0), (3336, 0.0), (3337, 0.9999999999999997), (3338, 0.04335549847620599), (3339, 0.03857583749052298), (3340, 0.08451542547285165), (3341, 0.041239304942116126), (3342, 0.07881104062391006), (3343, 0.03857583749052298), (3344, 0.04335549847620599), (3345, 0.08058229640253801), (3346, 0.0), (3347, 0.041239304942116126), (3348, 0.11572751247156893), (3349, 0.12087344460380703), (3350, 0.035093120317179816), (3351, 0.0), (3352, 0.24999999999999992), (3353, 0.0), (3354, 0.050507627227610534), (3355, 0.0472455591261534), (3356, 0.0), (3357, 0.11572751247156893), (3358, 0.15118578920369088), (3359, 0.14173667737846019), (3360, 0.0), (3361, 0.04583492485141056), (3362, 0.07881104062391006), (3363, 0.13006649542861798), (3364, 0.04029114820126901), (3365, 0.04029114820126901), (3366, 0.11338934190276817), (3367, 0.042257712736425826), (3368, 0.08451542547285165), (3369, 0.036369648372665396), (3370, 0.036369648372665396), (3371, 0.0), (3372, 0.08058229640253801), (3373, 0.0445435403187374), (3374, 0.11572751247156893), (3375, 0.03779644730092272), (3376, 0.0472455591261534), (3377, 0.13750477455423168), (3378, 0.11821656093586509), (3379, 0.04335549847620599), (3380, 0.04029114820126901), (3381, 0.08671099695241198), (3382, 0.03706246583305506), (3383, 0.0), (3384, 0.03940552031195503), (3385, 0.03940552031195503), (3386, 0.0), (3387, 0.07559289460184544), (3388, 0.03779644730092272), (3389, 0.0), (3390, 0.21747941810041999), (3391, 0.264575131106459), (3392, 0.0472455591261534), (3393, 0.04879500364742665), (3394, 0.042257712736425826), (3395, 0.0), (3396, 0.04583492485141056), (3397, 0.08671099695241198), (3398, 0.08451542547285165), (3399, 0.07273929674533079), (3400, 0.0890870806374748), (3401, 0.12087344460380703), (3402, 0.0), (3403, 0.042257712736425826), (3404, 0.03940552031195503), (3405, 0.04029114820126901), (3406, 0.11572751247156893), (3407, 0.03706246583305506), (3408, 0.042257712736425826), (3409, 0.10350983390135311), (3410, 0.07881104062391006), (3411, 0.07881104062391006), (3412, 0.0944911182523068), (3413, 0.03289758474798845), (3414, 0.04029114820126901), (3415, 0.0445435403187374), (3416, 0.13750477455423168), (3417, 0.10527936095153945), (3418, 0.0), (3419, 0.04335549847620599), (3420, 0.10910894511799618), (3421, 0.03857583749052298), (3422, 0.04335549847620599), (3423, 0.0), (3424, 0.03706246583305506), (3425, 0.07412493166611012), (3426, 0.041239304942116126), (3427, 0.07881104062391006), (3428, 0.0), (3429, 0.11821656093586509), (3430, 0.07559289460184544), (3431, 0.11572751247156893), (3432, 0.050507627227610534), (3433, 0.03940552031195503), (3434, 0.04029114820126901), (3435, 0.03857583749052298), (3436, 0.042257712736425826), (3437, 0.0472455591261534), (3438, 0.12087344460380703), (3439, 0.03857583749052298), (3440, 0.11338934190276817), (3441, 0.04335549847620599), (3442, 0.04029114820126901), (3443, 0.0), (3444, 0.0), (3445, 0.03857583749052298), (3446, 0.036369648372665396), (3447, 0.16116459280507603), (3448, 0.035714285714285705), (3449, 0.07715167498104596), (3450, 0.3401680257083045), (3451, 0.0), (3452, 0.041239304942116126), (3453, 0.0975900072948533), (3454, 0.11821656093586509), (3455, 0.04335549847620599), (3456, 0.0), (3457, 0.041239304942116126), (3458, 0.0), (3459, 0.0), (3460, 0.0), (3461, 0.0472455591261534), (3462, 0.03940552031195503), (3463, 0.12371791482634838), (3464, 0.0), (3465, 0.041239304942116126), (3466, 0.03706246583305506), (3467, 0.07412493166611012), (3468, 0.0890870806374748), (3469, 0.0), (3470, 0.14824986333222023), (3471, 0.0), (3472, 0.03706246583305506), (3473, 0.035093120317179816), (3474, 0.03706246583305506), (3475, 0.11572751247156893), (3476, 0.035714285714285705), (3477, 0.07559289460184544), (3478, 0.0), (3479, 0.12371791482634838), (3480, 0.04029114820126901), (3481, 0.03779644730092272), (3482, 0.03779644730092272), (3483, 0.04029114820126901), (3484, 0.0), (3485, 0.0), (3486, 0.0472455591261534), (3487, 0.04879500364742665), (3488, 0.08451542547285165), (3489, 0.04335549847620599), (3490, 0.041239304942116126), (3491, 0.08671099695241198), (3492, 0.11118739749916517), (3493, 0.09166984970282112), (3494, 0.036369648372665396), (3495, 0.12371791482634838), (3496, 0.04029114820126901), (3497, 0.0472455591261534), (3498, 0.04335549847620599), (3499, 0.04029114820126901), (3500, 0.050507627227610534), (3501, 0.04879500364742665), (3502, 0.0), (3503, 0.0), (3504, 0.1267731382092775), (3505, 0.0), (3506, 0.0890870806374748), (3507, 0.1928791874526149), (3508, 0.04583492485141056), (3509, 0.0), (3510, 0.0472455591261534), (3511, 0.03706246583305506), (3512, 0.04029114820126901), (3513, 0.0472455591261534), (3514, 0.03940552031195503), (3515, 0.0), (3516, 0.07273929674533079), (3517, 0.04879500364742665), (3518, 0.12371791482634838), (3519, 0.0445435403187374), (3520, 0.03857583749052298), (3521, 0.0975900072948533), (3522, 0.03857583749052298), (3523, 0.0), (3524, 0.0), (3525, 0.04583492485141056), (3526, 0.1889822365046136), (3527, 0.042257712736425826), (3528, 0.04879500364742665), (3529, 0.042257712736425826), (3530, 0.03241018617760821), (3531, 0.0), (3532, 0.03857583749052298), (3533, 0.181848241863327), (3534, 0.04029114820126901), (3535, 0.03857583749052298), (3536, 0.04029114820126901), (3537, 0.16116459280507603), (3538, 0.07881104062391006), (3539, 0.08451542547285165), (3540, 0.04029114820126901), (3541, 0.12087344460380703), (3542, 0.04583492485141056), (3543, 0.07273929674533079), (3544, 0.04879500364742665), (3545, 0.041239304942116126), (3546, 0.0), (3547, 0.0445435403187374), (3548, 0.10714285714285712), (3549, 0.041239304942116126), (3550, 0.04335549847620599), (3551, 0.1267731382092775), (3552, 0.03940552031195503), (3553, 0.12371791482634838), (3554, 0.042257712736425826), (3555, 0.0), (3556, 0.03779644730092272), (3557, 0.0), (3558, 0.03706246583305506), (3559, 0.0), (3560, 0.03857583749052298), (3561, 0.042257712736425826), (3562, 0.042257712736425826), (3563, 0.0), (3564, 0.1336306209562122), (3565, 0.0), (3566, 0.07881104062391006), (3567, 0.12371791482634838), (3568, 0.16116459280507603), (3569, 0.0445435403187374), (3570, 0.041239304942116126), (3571, 0.03857583749052298), (3572, 0.0), (3573, 0.0), (3574, 0.0445435403187374), (3575, 0.0), (3576, 0.03779644730092272), (3577, 0.08671099695241198), (3578, 0.0), (3579, 0.04029114820126901), (3580, 0.0), (3581, 0.1889822365046136), (3582, 0.04335549847620599), (3583, 0.03340765523905304), (3584, 0.07881104062391006), (3585, 0.042257712736425826), (3586, 0.0), (3587, 0.042257712736425826), (3588, 0.03940552031195503), (3589, 0.0944911182523068), (3590, 0.04879500364742665), (3591, 0.0944911182523068), (3592, 0.0), (3593, 0.03857583749052298), (3594, 0.15118578920369088), (3595, 0.0), (3596, 0.035714285714285705), (3597, 0.0), (3598, 0.050507627227610534), (3599, 0.03779644730092272), (3600, 0.0), (3601, 0.0), (3602, 0.03940552031195503), (3603, 0.11338934190276817), (3604, 0.0), (3605, 0.03706246583305506), (3606, 0.0), (3607, 0.0), (3608, 0.04029114820126901), (3609, 0.04335549847620599), (3610, 0.050507627227610534), (3611, 0.12087344460380703), (3612, 0.04029114820126901), (3613, 0.07412493166611012), (3614, 0.07559289460184544), (3615, 0.13801311186847082), (3616, 0.17857142857142855), (3617, 0.0), (3618, 0.08247860988423225), (3619, 0.03779644730092272), (3620, 0.0), (3621, 0.04029114820126901), (3622, 0.07881104062391006), (3623, 0.0), (3624, 0.03940552031195503), (3625, 0.0), (3626, 0.04335549847620599), (3627, 0.04335549847620599), (3628, 0.04335549847620599), (3629, 0.041239304942116126), (3630, 0.0), (3631, 0.04335549847620599), (3632, 0.04879500364742665), (3633, 0.04029114820126901), (3634, 0.08451542547285165), (3635, 0.03779644730092272), (3636, 0.12371791482634838), (3637, 0.1690308509457033), (3638, 0.12371791482634838), (3639, 0.11572751247156893), (3640, 0.08247860988423225), (3641, 0.042257712736425826), (3642, 0.08451542547285165), (3643, 0.13576884666042613), (3644, 0.11572751247156893), (3645, 0.042257712736425826), (3646, 0.0), (3647, 0.10910894511799618), (3648, 0.0), (3649, 0.050507627227610534), (3650, 0.08671099695241198), (3651, 0.041239304942116126), (3652, 0.0), (3653, 0.0), (3654, 0.04029114820126901), (3655, 0.0472455591261534), (3656, 0.0), (3657, 0.0), (3658, 0.15762208124782012), (3659, 0.041239304942116126), (3660, 0.0), (3661, 0.0545544725589981), (3662, 0.11572751247156893), (3663, 0.041239304942116126), (3664, 0.042257712736425826), (3665, 0.13750477455423168), (3666, 0.04335549847620599), (3667, 0.03940552031195503), (3668, 0.08247860988423225), (3669, 0.04879500364742665), (3670, 0.0), (3671, 0.0), (3672, 0.0), (3673, 0.03779644730092272), (3674, 0.04879500364742665), (3675, 0.035714285714285705), (3676, 0.0), (3677, 0.0), (3678, 0.042257712736425826), (3679, 0.08247860988423225), (3680, 0.0), (3681, 0.042257712736425826), (3682, 0.0), (3683, 0.0), (3684, 0.08247860988423225), (3685, 0.11572751247156893), (3686, 0.0472455591261534), (3687, 0.0), (3688, 0.20365326999063918), (3689, 0.03940552031195503), (3690, 0.04029114820126901), (3691, 0.11821656093586509), (3692, 0.0445435403187374), (3693, 0.08247860988423225), (3694, 0.0890870806374748), (3695, 0.03940552031195503), (3696, 0.22237479499833035), (3697, 0.0), (3698, 0.12087344460380703), (3699, 0.12371791482634838), (3700, 0.11572751247156893), (3701, 0.1690308509457033), (3702, 0.0), (3703, 0.08058229640253801), (3704, 0.1649572197684645), (3705, 0.03857583749052298), (3706, 0.07018624063435963), (3707, 0.0), (3708, 0.036369648372665396), (3709, 0.11338934190276817), (3710, 0.041239304942116126), (3711, 0.03857583749052298), (3712, 0.07715167498104596), (3713, 0.03857583749052298), (3714, 0.14638501094227996), (3715, 0.0), (3716, 0.13006649542861798), (3717, 0.04029114820126901), (3718, 0.04879500364742665), (3719, 0.041239304942116126), (3720, 0.0), (3721, 0.0), (3722, 0.03779644730092272), (3723, 0.11821656093586509), (3724, 0.0), (3725, 0.21128856368212912), (3726, 0.1690308509457033), (3727, 0.14173667737846019), (3728, 0.17251638983558854), (3729, 0.04879500364742665), (3730, 0.0), (3731, 0.03394221166510653), (3732, 0.16116459280507603), (3733, 0.0), (3734, 0.1889822365046136), (3735, 0.0), (3736, 0.04583492485141056), (3737, 0.11821656093586509), (3738, 0.08247860988423225), (3739, 0.07559289460184544), (3740, 0.042257712736425826), (3741, 0.10714285714285712), (3742, 0.0), (3743, 0.24174688920761403), (3744, 0.0), (3745, 0.041239304942116126), (3746, 0.0), (3747, 0.0472455591261534), (3748, 0.04029114820126901), (3749, 0.0), (3750, 0.14547859349066158), (3751, 0.07559289460184544), (3752, 0.0), (3753, 0.06482037235521643), (3754, 0.0), (3755, 0.0), (3756, 0.04879500364742665), (3757, 0.0445435403187374), (3758, 0.08058229640253801), (3759, 0.035714285714285705), (3760, 0.13006649542861798), (3761, 0.04029114820126901), (3762, 0.0472455591261534), (3763, 0.11821656093586509), (3764, 0.03940552031195503), (3765, 0.19702760155977517), (3766, 0.07881104062391006), (3767, 0.08247860988423225), (3768, 0.0), (3769, 0.04029114820126901), (3770, 0.0), (3771, 0.0), (3772, 0.07715167498104596), (3773, 0.07412493166611012), (3774, 0.0), (3775, 0.0), (3776, 0.03706246583305506), (3777, 0.0445435403187374), (3778, 0.04335549847620599), (3779, 0.0944911182523068), (3780, 0.03940552031195503), (3781, 0.052414241836095915), (3782, 0.041239304942116126), (3783, 0.041239304942116126), (3784, 0.08247860988423225), (3785, 0.12087344460380703), (3786, 0.04335549847620599), (3787, 0.0), (3788, 0.03940552031195503), (3789, 0.12371791482634838), (3790, 0.08671099695241198), (3791, 0.13006649542861798), (3792, 0.0944911182523068), (3793, 0.0545544725589981), (3794, 0.07273929674533079), (3795, 0.04029114820126901), (3796, 0.04879500364742665), (3797, 0.042257712736425826), (3798, 0.050507627227610534), (3799, 0.08247860988423225), (3800, 0.0), (3801, 0.042257712736425826), (3802, 0.04029114820126901), (3803, 0.0), (3804, 0.10527936095153945), (3805, 0.041239304942116126), (3806, 0.0), (3807, 0.0), (3808, 0.0), (3809, 0.0), (3810, 0.04029114820126901), (3811, 0.08247860988423225), (3812, 0.1336306209562122), (3813, 0.10350983390135311), (3814, 0.08451542547285165), (3815, 0.11572751247156893), (3816, 0.0), (3817, 0.1336306209562122), (3818, 0.04335549847620599), (3819, 0.20145574100634503), (3820, 0.0), (3821, 0.03779644730092272), (3822, 0.07881104062391006), (3823, 0.0472455591261534), (3824, 0.041239304942116126), (3825, 0.04335549847620599), (3826, 0.0), (3827, 0.0), (3828, 0.11821656093586509), (3829, 0.0), (3830, 0.0), (3831, 0.29580398915498074), (3832, 0.0445435403187374), (3833, 0.12371791482634838), (3834, 0.11821656093586509), (3835, 0.042257712736425826), (3836, 0.0), (3837, 0.06788442333021306), (3838, 0.041239304942116126), (3839, 0.11572751247156893), (3840, 0.0), (3841, 0.0), (3842, 0.04335549847620599), (3843, 0.0), (3844, 0.03940552031195503), (3845, 0.0), (3846, 0.0472455591261534), (3847, 0.0445435403187374), (3848, 0.0), (3849, 0.08451542547285165), (3850, 0.12087344460380703), (3851, 0.12371791482634838), (3852, 0.10101525445522107), (3853, 0.0), (3854, 0.0), (3855, 0.0), (3856, 0.042257712736425826), (3857, 0.0975900072948533), (3858, 0.0890870806374748), (3859, 0.08247860988423225), (3860, 0.0), (3861, 0.0), (3862, 0.042257712736425826), (3863, 0.0975900072948533), (3864, 0.03857583749052298), (3865, 0.042257712736425826), (3866, 0.11821656093586509), (3867, 0.04029114820126901), (3868, 0.0445435403187374), (3869, 0.15762208124782012), (3870, 0.07715167498104596), (3871, 0.0), (3872, 0.04029114820126901), (3873, 0.10714285714285712), (3874, 0.04029114820126901), (3875, 0.18333969940564224), (3876, 0.03940552031195503), (3877, 0.03940552031195503), (3878, 0.08058229640253801), (3879, 0.03940552031195503), (3880, 0.11338934190276817), (3881, 0.2105587219030789), (3882, 0.0), (3883, 0.0), (3884, 0.0), (3885, 0.0), (3886, 0.07881104062391006), (3887, 0.1543033499620919), (3888, 0.0), (3889, 0.0), (3890, 0.0), (3891, 0.0), (3892, 0.041239304942116126), (3893, 0.08451542547285165), (3894, 0.08247860988423225), (3895, 0.03857583749052298), (3896, 0.03779644730092272), (3897, 0.0), (3898, 0.08451542547285165), (3899, 0.041239304942116126), (3900, 0.041239304942116126), (3901, 0.0), (3902, 0.0), (3903, 0.11572751247156893), (3904, 0.0), (3905, 0.08058229640253801), (3906, 0.035093120317179816), (3907, 0.0), (3908, 0.0), (3909, 0.0), (3910, 0.0), (3911, 0.050507627227610534), (3912, 0.0944911182523068), (3913, 0.0975900072948533), (3914, 0.07881104062391006), (3915, 0.0), (3916, 0.0), (3917, 0.0), (3918, 0.07559289460184544), (3919, 0.0), (3920, 0.03857583749052298), (3921, 0.04583492485141056), (3922, 0.0445435403187374), (3923, 0.08058229640253801), (3924, 0.042257712736425826), (3925, 0.0), (3926, 0.04583492485141056), (3927, 0.041239304942116126), (3928, 0.0), (3929, 0.0), (3930, 0.0890870806374748), (3931, 0.16116459280507603), (3932, 0.09166984970282112), (3933, 0.0), (3934, 0.07412493166611012), (3935, 0.07412493166611012), (3936, 0.13006649542861798), (3937, 0.035093120317179816), (3938, 0.0545544725589981), (3939, 0.0), (3940, 0.034503277967117704), (3941, 0.041239304942116126), (3942, 0.0), (3943, 0.0), (3944, 0.07715167498104596), (3945, 0.08671099695241198), (3946, 0.0445435403187374), (3947, 0.0), (3948, 0.0), (3949, 0.0), (3950, 0.04335549847620599), (3951, 0.0), (3952, 0.07881104062391006), (3953, 0.04583492485141056), (3954, 0.0), (3955, 0.08451542547285165), (3956, 0.0), (3957, 0.0472455591261534), (3958, 0.0), (3959, 0.0), (3960, 0.0), (3961, 0.04583492485141056), (3962, 0.03779644730092272), (3963, 0.0), (3964, 0.0), (3965, 0.04029114820126901), (3966, 0.24174688920761403), (3967, 0.050507627227610534), (3968, 0.0), (3969, 0.08671099695241198), (3970, 0.0), (3971, 0.0), (3972, 0.0975900072948533), (3973, 0.03940552031195503), (3974, 0.03706246583305506), (3975, 0.08247860988423225), (3976, 0.0975900072948533), (3977, 0.05698028822981897), (3978, 0.0944911182523068), (3979, 0.0), (3980, 0.0), (3981, 0.12087344460380703), (3982, 0.04335549847620599), (3983, 0.04029114820126901), (3984, 0.0), (3985, 0.0), (3986, 0.0), (3987, 0.0), (3988, 0.0), (3989, 0.04029114820126901), (3990, 0.07881104062391006), (3991, 0.0), (3992, 0.0), (3993, 0.0), (3994, 0.03857583749052298), (3995, 0.0472455591261534), (3996, 0.0890870806374748), (3997, 0.0), (3998, 0.0), (3999, 0.041239304942116126), (4000, 0.14037248126871926), (4001, 0.0), (4002, 0.0), (4003, 0.0), (4004, 0.04583492485141056), (4005, 0.0), (4006, 0.0), (4007, 0.0), (4008, 0.04029114820126901), (4009, 0.0), (4010, 0.03289758474798845), (4011, 0.0), (4012, 0.0), (4013, 0.041239304942116126), (4014, 0.0), (4015, 0.12087344460380703), (4016, 0.10527936095153945), (4017, 0.08671099695241198), (4018, 0.0), (4019, 0.035714285714285705), (4020, 0.0), (4021, 0.03940552031195503), (4022, 0.15762208124782012), (4023, 0.04029114820126901), (4024, 0.10714285714285712), (4025, 0.0), (4026, 0.07412493166611012), (4027, 0.05698028822981897), (4028, 0.0445435403187374), (4029, 0.0), (4030, 0.03940552031195503), (4031, 0.0), (4032, 0.041239304942116126), (4033, 0.08058229640253801), (4034, 0.0), (4035, 0.0), (4036, 0.0), (4037, 0.09166984970282112), (4038, 0.04879500364742665), (4039, 0.0), (4040, 0.10482848367219183), (4041, 0.1267731382092775), (4042, 0.0), (4043, 0.0), (4044, 0.0944911182523068), (4045, 0.0445435403187374), (4046, 0.0), (4047, 0.04879500364742665), (4048, 0.0472455591261534), (4049, 0.036369648372665396), (4050, 0.0), (4051, 0.0472455591261534), (4052, 0.0), (4053, 0.03940552031195503), (4054, 0.04335549847620599), (4055, 0.04879500364742665), (4056, 0.0), (4057, 0.052414241836095915), (4058, 0.04335549847620599), (4059, 0.0), (4060, 0.04583492485141056), (4061, 0.04335549847620599), (4062, 0.035714285714285705), (4063, 0.12371791482634838), (4064, 0.042257712736425826), (4065, 0.24999999999999994), (4066, 0.0), (4067, 0.04029114820126901), (4068, 0.0), (4069, 0.0), (4070, 0.0975900072948533), (4071, 0.03857583749052298), (4072, 0.0), (4073, 0.0), (4074, 0.042257712736425826), (4075, 0.0), (4076, 0.1853123291652753), (4077, 0.0), (4078, 0.034503277967117704), (4079, 0.16116459280507603), (4080, 0.0), (4081, 0.03706246583305506), (4082, 0.08671099695241198), (4083, 0.08451542547285165), (4084, 0.035714285714285705), (4085, 0.035714285714285705), (4086, 0.050507627227610534), (4087, 0.08058229640253801), (4088, 0.08247860988423225), (4089, 0.06900655593423541), (4090, 0.11572751247156893), (4091, 0.04583492485141056), (4092, 0.08671099695241198), (4093, 0.042257712736425826), (4094, 0.04335549847620599), (4095, 0.034503277967117704), (4096, 0.0), (4097, 0.0472455591261534), (4098, 0.1649572197684645), (4099, 0.12087344460380703), (4100, 0.11118739749916517), (4101, 0.042257712736425826), (4102, 0.0), (4103, 0.07559289460184544), (4104, 0.03857583749052298), (4105, 0.0), (4106, 0.04335549847620599), (4107, 0.03394221166510653), (4108, 0.0), (4109, 0.04335549847620599), (4110, 0.0), (4111, 0.04879500364742665), (4112, 0.0445435403187374), (4113, 0.07142857142857141), (4114, 0.041239304942116126), (4115, 0.041239304942116126), (4116, 0.0), (4117, 0.0), (4118, 0.0), (4119, 0.11572751247156893), (4120, 0.0), (4121, 0.04335549847620599), (4122, 0.04583492485141056), (4123, 0.0), (4124, 0.1928791874526149), (4125, 0.050507627227610534), (4126, 0.08451542547285165), (4127, 0.03940552031195503), (4128, 0.04335549847620599), (4129, 0.0445435403187374), (4130, 0.04029114820126901), (4131, 0.0), (4132, 0.041239304942116126), (4133, 0.0), (4134, 0.03289758474798845), (4135, 0.3086066999241838), (4136, 0.21128856368212912), (4137, 0.0), (4138, 0.0), (4139, 0.1267731382092775), (4140, 0.0), (4141, 0.0), (4142, 0.052414241836095915), (4143, 0.04879500364742665), (4144, 0.10910894511799618), (4145, 0.04029114820126901), (4146, 0.09166984970282112), (4147, 0.20203050891044214), (4148, 0.0), (4149, 0.0), (4150, 0.041239304942116126), (4151, 0.0), (4152, 0.07559289460184544), (4153, 0.042257712736425826), (4154, 0.042257712736425826), (4155, 0.041239304942116126), (4156, 0.0), (4157, 0.03857583749052298), (4158, 0.04335549847620599), (4159, 0.1336306209562122), (4160, 0.0944911182523068), (4161, 0.0), (4162, 0.07142857142857141), (4163, 0.08247860988423225), (4164, 0.04335549847620599), (4165, 0.03857583749052298), (4166, 0.07559289460184544), (4167, 0.10910894511799618), (4168, 0.04879500364742665), (4169, 0.0472455591261534), (4170, 0.03940552031195503), (4171, 0.035093120317179816), (4172, 0.2036532699906392), (4173, 0.036369648372665396), (4174, 0.09723055853282464), (4175, 0.03857583749052298), (4176, 0.0), (4177, 0.04029114820126901), (4178, 0.036369648372665396), (4179, 0.052414241836095915), (4180, 0.0), (4181, 0.0), (4182, 0.036369648372665396), (4183, 0.0), (4184, 0.20203050891044214), (4185, 0.0), (4186, 0.0), (4187, 0.0), (4188, 0.0), (4189, 0.041239304942116126), (4190, 0.08058229640253801), (4191, 0.041239304942116126), (4192, 0.041239304942116126), (4193, 0.0), (4194, 0.04029114820126901), (4195, 0.08451542547285165), (4196, 0.08058229640253801), (4197, 0.036369648372665396), (4198, 0.050507627227610534), (4199, 0.0472455591261534), (4200, 0.08671099695241198), (4201, 0.04029114820126901), (4202, 0.03779644730092272), (4203, 0.0975900072948533), (4204, 0.03940552031195503), (4205, 0.14638501094227996), (4206, 0.10022296571715913), (4207, 0.0), (4208, 0.04879500364742665), (4209, 0.2645751311064591), (4210, 0.0), (4211, 0.181848241863327), (4212, 0.050507627227610534), (4213, 0.0), (4214, 0.0), (4215, 0.0), (4216, 0.08671099695241198), (4217, 0.1781741612749496), (4218, 0.041239304942116126), (4219, 0.0), (4220, 0.034503277967117704), (4221, 0.04335549847620599), (4222, 0.041239304942116126), (4223, 0.11118739749916517), (4224, 0.042257712736425826), (4225, 0.07881104062391006), (4226, 0.10910894511799618), (4227, 0.0), (4228, 0.041239304942116126), (4229, 0.0), (4230, 0.11821656093586509), (4231, 0.041239304942116126), (4232, 0.07881104062391006), (4233, 0.052414241836095915), (4234, 0.0), (4235, 0.0), (4236, 0.052414241836095915), (4237, 0.0), (4238, 0.03857583749052298), (4239, 0.0472455591261534), (4240, 0.0), (4241, 0.0), (4242, 0.0), (4243, 0.0472455591261534), (4244, 0.042257712736425826), (4245, 0.0), (4246, 0.08671099695241198), (4247, 0.1091089451179962), (4248, 0.0), (4249, 0.035714285714285705), (4250, 0.03394221166510653), (4251, 0.042257712736425826), (4252, 0.0545544725589981), (4253, 0.0472455591261534), (4254, 0.0), (4255, 0.04879500364742665), (4256, 0.09166984970282112), (4257, 0.04583492485141056), (4258, 0.0), (4259, 0.0), (4260, 0.036369648372665396), (4261, 0.0), (4262, 0.0), (4263, 0.07715167498104596), (4264, 0.04029114820126901), (4265, 0.14037248126871926), (4266, 0.0472455591261534), (4267, 0.07559289460184544), (4268, 0.08247860988423225), (4269, 0.1636634176769943), (4270, 0.07273929674533079), (4271, 0.03779644730092272), (4272, 0.04335549847620599), (4273, 0.10482848367219183), (4274, 0.0), (4275, 0.04583492485141056), (4276, 0.0), (4277, 0.0), (4278, 0.0), (4279, 0.0), (4280, 0.04583492485141056), (4281, 0.03940552031195503), (4282, 0.0), (4283, 0.04335549847620599), (4284, 0.0), (4285, 0.052414241836095915), (4286, 0.0), (4287, 0.12087344460380703), (4288, 0.0890870806374748), (4289, 0.0), (4290, 0.08451542547285165), (4291, 0.11821656093586509), (4292, 0.07559289460184544), (4293, 0.0), (4294, 0.0445435403187374), (4295, 0.04029114820126901), (4296, 0.0472455591261534), (4297, 0.0), (4298, 0.0), (4299, 0.0975900072948533), (4300, 0.08671099695241198), (4301, 0.0472455591261534), (4302, 0.0), (4303, 0.04029114820126901), (4304, 0.0472455591261534), (4305, 0.0), (4306, 0.041239304942116126), (4307, 0.0545544725589981), (4308, 0.08058229640253801), (4309, 0.04583492485141056), (4310, 0.15762208124782012), (4311, 0.0), (4312, 0.03940552031195503), (4313, 0.0), (4314, 0.0), (4315, 0.0), (4316, 0.0), (4317, 0.0), (4318, 0.050507627227610534), (4319, 0.0), (4320, 0.11572751247156893), (4321, 0.0), (4322, 0.0), (4323, 0.0), (4324, 0.04335549847620599), (4325, 0.0), (4326, 0.15118578920369088), (4327, 0.0), (4328, 0.0), (4329, 0.08451542547285165), (4330, 0.0472455591261534), (4331, 0.04029114820126901), (4332, 0.03779644730092272), (4333, 0.04335549847620599), (4334, 0.0445435403187374), (4335, 0.0), (4336, 0.0), (4337, 0.15762208124782012), (4338, 0.0445435403187374), (4339, 0.0), (4340, 0.0), (4341, 0.0), (4342, 0.04879500364742665), (4343, 0.0), (4344, 0.0), (4345, 0.04335549847620599), (4346, 0.042257712736425826), (4347, 0.0), (4348, 0.041239304942116126), (4349, 0.1649572197684645), (4350, 0.036369648372665396), (4351, 0.041239304942116126), (4352, 0.0), (4353, 0.0), (4354, 0.04583492485141056), (4355, 0.042257712736425826), (4356, 0.08058229640253801), (4357, 0.10482848367219183), (4358, 0.0445435403187374), (4359, 0.041239304942116126), (4360, 0.042257712736425826), (4361, 0.0), (4362, 0.04583492485141056), (4363, 0.0), (4364, 0.15762208124782012), (4365, 0.04335549847620599), (4366, 0.0), (4367, 0.03706246583305506), (4368, 0.0), (4369, 0.052414241836095915), (4370, 0.23622779563076698), (4371, 0.1649572197684645), (4372, 0.0), (4373, 0.03857583749052298), (4374, 0.0), (4375, 0.0472455591261534), (4376, 0.11572751247156893), (4377, 0.14638501094227996), (4378, 0.034503277967117704), (4379, 0.04029114820126901), (4380, 0.041239304942116126), (4381, 0.0), (4382, 0.0), (4383, 0.0), (4384, 0.0472455591261534), (4385, 0.0), (4386, 0.04583492485141056), (4387, 0.0), (4388, 0.041239304942116126), (4389, 0.0), (4390, 0.0), (4391, 0.07273929674533079), (4392, 0.19702760155977517), (4393, 0.11821656093586509), (4394, 0.07559289460184544), (4395, 0.0472455591261534), (4396, 0.0), (4397, 0.14547859349066158), (4398, 0.03857583749052298), (4399, 0.08451542547285165), (4400, 0.0), (4401, 0.0), (4402, 0.03940552031195503), (4403, 0.03940552031195503), (4404, 0.13006649542861798), (4405, 0.0), (4406, 0.042257712736425826), (4407, 0.08451542547285165), (4408, 0.12371791482634838), (4409, 0.04879500364742665), (4410, 0.0472455591261534), (4411, 0.0545544725589981), (4412, 0.042257712736425826), (4413, 0.0545544725589981), (4414, 0.0), (4415, 0.0), (4416, 0.052414241836095915), (4417, 0.04879500364742665), (4418, 0.0), (4419, 0.0), (4420, 0.0), (4421, 0.04879500364742665), (4422, 0.04879500364742665), (4423, 0.03857583749052298), (4424, 0.0890870806374748), (4425, 0.0), (4426, 0.05976143046671968), (4427, 0.041239304942116126), (4428, 0.0), (4429, 0.04335549847620599), (4430, 0.050507627227610534), (4431, 0.0), (4432, 0.21677749238102995), (4433, 0.0), (4434, 0.04029114820126901), (4435, 0.0), (4436, 0.04335549847620599), (4437, 0.03940552031195503), (4438, 0.041239304942116126), (4439, 0.03857583749052298), (4440, 0.0), (4441, 0.14547859349066158), (4442, 0.0), (4443, 0.041239304942116126), (4444, 0.04335549847620599), (4445, 0.08451542547285165), (4446, 0.0), (4447, 0.07142857142857141), (4448, 0.03706246583305506), (4449, 0.13750477455423168), (4450, 0.0472455591261534), (4451, 0.0), (4452, 0.03340765523905304), (4453, 0.035714285714285705), (4454, 0.034503277967117704), (4455, 0.0472455591261534), (4456, 0.0445435403187374), (4457, 0.19702760155977517), (4458, 0.0), (4459, 0.04583492485141056), (4460, 0.042257712736425826), (4461, 0.1267731382092775), (4462, 0.04879500364742665), (4463, 0.03940552031195503), (4464, 0.0), (4465, 0.03706246583305506), (4466, 0.0), (4467, 0.2182178902359924), (4468, 0.08451542547285165), (4469, 0.0), (4470, 0.04335549847620599), (4471, 0.0), (4472, 0.08058229640253801), (4473, 0.0), (4474, 0.08451542547285165), (4475, 0.0445435403187374), (4476, 0.1889822365046136), (4477, 0.0), (4478, 0.0), (4479, 0.0), (4480, 0.08671099695241198), (4481, 0.0), (4482, 0.0975900072948533), (4483, 0.0445435403187374), (4484, 0.11821656093586509), (4485, 0.03940552031195503), (4486, 0.036369648372665396), (4487, 0.036369648372665396), (4488, 0.1515228816828316), (4489, 0.0), (4490, 0.04879500364742665), (4491, 0.0), (4492, 0.0), (4493, 0.05698028822981897), (4494, 0.04583492485141056), (4495, 0.0), (4496, 0.0), (4497, 0.03857583749052298), (4498, 0.03940552031195503), (4499, 0.0472455591261534), (4500, 0.0), (4501, 0.10482848367219183), (4502, 0.20203050891044214), (4503, 0.0), (4504, 0.0), (4505, 0.04583492485141056), (4506, 0.0), (4507, 0.03857583749052298), (4508, 0.0), (4509, 0.11821656093586509), (4510, 0.07142857142857141), (4511, 0.08451542547285165), (4512, 0.035714285714285705), (4513, 0.0), (4514, 0.042257712736425826), (4515, 0.0), (4516, 0.0), (4517, 0.0), (4518, 0.04029114820126901), (4519, 0.0472455591261534), (4520, 0.042257712736425826), (4521, 0.0), (4522, 0.0472455591261534), (4523, 0.050507627227610534), (4524, 0.0), (4525, 0.0445435403187374), (4526, 0.14285714285714282), (4527, 0.03857583749052298), (4528, 0.1267731382092775), (4529, 0.11821656093586509), (4530, 0.0), (4531, 0.13750477455423168), (4532, 0.03857583749052298), (4533, 0.03940552031195503), (4534, 0.0), (4535, 0.042257712736425826), (4536, 0.0), (4537, 0.0), (4538, 0.0), (4539, 0.042257712736425826), (4540, 0.05698028822981897), (4541, 0.0975900072948533), (4542, 0.041239304942116126), (4543, 0.050507627227610534), (4544, 0.0), (4545, 0.0), (4546, 0.0), (4547, 0.0), (4548, 0.0472455591261534), (4549, 0.03940552031195503), (4550, 0.0), (4551, 0.07273929674533079), (4552, 0.0), (4553, 0.0), (4554, 0.0), (4555, 0.0), (4556, 0.14173667737846019), (4557, 0.0), (4558, 0.0), (4559, 0.0), (4560, 0.0), (4561, 0.0), (4562, 0.0), (4563, 0.03779644730092272), (4564, 0.1091089451179962), (4565, 0.08058229640253801), (4566, 0.0), (4567, 0.03940552031195503), (4568, 0.0), (4569, 0.0), (4570, 0.0), (4571, 0.0), (4572, 0.03940552031195503), (4573, 0.11338934190276817), (4574, 0.06681531047810609), (4575, 0.0), (4576, 0.08247860988423225), (4577, 0.0), (4578, 0.0), (4579, 0.0), (4580, 0.10101525445522107), (4581, 0.0), (4582, 0.03706246583305506), (4583, 0.0), (4584, 0.0), (4585, 0.0), (4586, 0.0), (4587, 0.0), (4588, 0.04029114820126901), (4589, 0.08451542547285165), (4590, 0.04879500364742665), (4591, 0.04029114820126901), (4592, 0.09166984970282112), (4593, 0.03706246583305506), (4594, 0.07559289460184544), (4595, 0.04029114820126901), (4596, 0.0), (4597, 0.0), (4598, 0.0), (4599, 0.08671099695241198), (4600, 0.0), (4601, 0.0), (4602, 0.08671099695241198), (4603, 0.03940552031195503), (4604, 0.0), (4605, 0.03940552031195503), (4606, 0.0), (4607, 0.0545544725589981), (4608, 0.0), (4609, 0.0), (4610, 0.08247860988423225), (4611, 0.0), (4612, 0.04879500364742665), (4613, 0.0445435403187374), (4614, 0.04879500364742665), (4615, 0.03857583749052298), (4616, 0.0), (4617, 0.0), (4618, 0.052414241836095915), (4619, 0.0890870806374748), (4620, 0.08058229640253801), (4621, 0.0), (4622, 0.0), (4623, 0.0), (4624, 0.04029114820126901), (4625, 0.0), (4626, 0.07412493166611012), (4627, 0.10101525445522107), (4628, 0.0), (4629, 0.0), (4630, 0.1951800145897066), (4631, 0.10527936095153945), (4632, 0.0890870806374748), (4633, 0.0), (4634, 0.14638501094227996), (4635, 0.036369648372665396), (4636, 0.04029114820126901), (4637, 0.03940552031195503), (4638, 0.3273268353539886), (4639, 0.0), (4640, 0.0), (4641, 0.11396057645963795), (4642, 0.14824986333222023), (4643, 0.042257712736425826), (4644, 0.0), (4645, 0.0), (4646, 0.0472455591261534), (4647, 0.08247860988423225), (4648, 0.03940552031195503), (4649, 0.15762208124782012), (4650, 0.0), (4651, 0.08247860988423225), (4652, 0.04583492485141056), (4653, 0.0472455591261534), (4654, 0.04335549847620599), (4655, 0.050507627227610534), (4656, 0.14173667737846019), (4657, 0.0), (4658, 0.052414241836095915), (4659, 0.0445435403187374), (4660, 0.04879500364742665), (4661, 0.036369648372665396), (4662, 0.052414241836095915), (4663, 0.0), (4664, 0.1781741612749496), (4665, 0.0472455591261534), (4666, 0.0), (4667, 0.050507627227610534), (4668, 0.042257712736425826), (4669, 0.0), (4670, 0.0), (4671, 0.0), (4672, 0.035093120317179816), (4673, 0.0), (4674, 0.0), (4675, 0.07881104062391006), (4676, 0.0472455591261534), (4677, 0.0445435403187374), (4678, 0.04583492485141056), (4679, 0.0), (4680, 0.1267731382092775), (4681, 0.0), (4682, 0.0), (4683, 0.04583492485141056), (4684, 0.0), (4685, 0.0), (4686, 0.03706246583305506), (4687, 0.03779644730092272), (4688, 0.08247860988423225), (4689, 0.0), (4690, 0.050507627227610534), (4691, 0.08671099695241198), (4692, 0.13750477455423168), (4693, 0.0472455591261534), (4694, 0.0975900072948533), (4695, 0.041239304942116126), (4696, 0.03706246583305506), (4697, 0.0), (4698, 0.0), (4699, 0.04583492485141056), (4700, 0.041239304942116126), (4701, 0.029160592175990215), (4702, 0.04583492485141056), (4703, 0.04583492485141056), (4704, 0.10350983390135311), (4705, 0.0445435403187374), (4706, 0.042257712736425826), (4707, 0.042257712736425826), (4708, 0.05698028822981897), (4709, 0.0), (4710, 0.0), (4711, 0.0), (4712, 0.0), (4713, 0.0), (4714, 0.08671099695241198), (4715, 0.03857583749052298), (4716, 0.0), (4717, 0.03779644730092272), (4718, 0.0), (4719, 0.04029114820126901), (4720, 0.041239304942116126), (4721, 0.0), (4722, 0.08451542547285165), (4723, 0.0), (4724, 0.03857583749052298), (4725, 0.08058229640253801), (4726, 0.07715167498104596), (4727, 0.04335549847620599), (4728, 0.0), (4729, 0.0), (4730, 0.14173667737846019), (4731, 0.0), (4732, 0.0), (4733, 0.08451542547285165), (4734, 0.04583492485141056), (4735, 0.08247860988423225), (4736, 0.0), (4737, 0.0), (4738, 0.041239304942116126), (4739, 0.0), (4740, 0.07715167498104596), (4741, 0.0), (4742, 0.03289758474798845), (4743, 0.0), (4744, 0.041239304942116126), (4745, 0.0), (4746, 0.04879500364742665), (4747, 0.042257712736425826), (4748, 0.0), (4749, 0.10350983390135311), (4750, 0.04583492485141056), (4751, 0.050507627227610534), (4752, 0.028819520885211745), (4753, 0.04335549847620599), (4754, 0.04879500364742665), (4755, 0.0), (4756, 0.0), (4757, 0.0), (4758, 0.03940552031195503), (4759, 0.0), (4760, 0.10482848367219183), (4761, 0.0), (4762, 0.0445435403187374), (4763, 0.0), (4764, 0.0472455591261534), (4765, 0.0), (4766, 0.0445435403187374), (4767, 0.0), (4768, 0.04583492485141056), (4769, 0.0545544725589981), (4770, 0.04335549847620599), (4771, 0.052414241836095915), (4772, 0.1543033499620919), (4773, 0.0), (4774, 0.1091089451179962), (4775, 0.04879500364742665), (4776, 0.08451542547285165), (4777, 0.0545544725589981), (4778, 0.12371791482634838), (4779, 0.14173667737846019), (4780, 0.1515228816828316), (4781, 0.0), (4782, 0.1267731382092775), (4783, 0.0), (4784, 0.050507627227610534), (4785, 0.0472455591261534), (4786, 0.0), (4787, 0.042257712736425826), (4788, 0.07881104062391006), (4789, 0.04335549847620599), (4790, 0.04879500364742665), (4791, 0.0), (4792, 0.07881104062391006), (4793, 0.04335549847620599), (4794, 0.0), (4795, 0.04029114820126901), (4796, 0.034503277967117704), (4797, 0.0), (4798, 0.11118739749916517), (4799, 0.0), (4800, 0.1889822365046136), (4801, 0.0), (4802, 0.0)]\n"
     ]
    }
   ],
   "source": [
    "# getting a list of similar movies\n",
    "similarity_score = list(enumerate(similarity[index_of_the_movie]))\n",
    "print(similarity_score)"
   ]
  },
  {
   "cell_type": "code",
   "execution_count": 83,
   "metadata": {
    "colab": {
     "base_uri": "https://localhost:8080/"
    },
    "id": "CEO6_uwkuzb9",
    "outputId": "2437a7d6-f544-4b6e-d8a0-ffd46c030bf0"
   },
   "outputs": [
    {
     "name": "stdout",
     "output_type": "stream",
     "text": [
      "[(3337, 0.9999999999999997), (2731, 0.42433421239575275), (867, 0.3706246583305506), (3450, 0.3401680257083045), (1525, 0.33806170189140655), (4638, 0.3273268353539886), (4135, 0.3086066999241838), (1408, 0.29649972666444047), (3831, 0.29580398915498074), (2649, 0.2927700218845599), (1728, 0.28203803740888306), (448, 0.2786391062876764), (2674, 0.27583864218368526), (1018, 0.27003086243366087), (3293, 0.27003086243366087), (4209, 0.2645751311064591), (1874, 0.264575131106459), (3391, 0.264575131106459), (512, 0.2545875386086578), (3012, 0.2545875386086578), (4065, 0.24999999999999994), (3352, 0.24999999999999992), (1394, 0.24743582965269678), (2792, 0.24743582965269678), (2255, 0.24174688920761406), (1765, 0.24174688920761403), (3743, 0.24174688920761403), (3966, 0.24174688920761403), (761, 0.2364331218717302), (877, 0.2364331218717302), (1209, 0.2364331218717302), (1850, 0.2364331218717302), (4370, 0.23622779563076698), (1243, 0.23145502494313788), (1946, 0.2267786838055363), (2218, 0.2267786838055363), (1338, 0.22237479499833035), (3696, 0.22237479499833035), (4467, 0.2182178902359924), (2476, 0.21821789023599236), (3390, 0.21747941810041999), (4432, 0.21677749238102995), (1719, 0.21428571428571425), (1247, 0.21128856368212912), (2793, 0.21128856368212912), (3725, 0.21128856368212912), (4136, 0.21128856368212912), (1061, 0.2105587219030789), (2790, 0.2105587219030789), (3881, 0.2105587219030789), (990, 0.20701966780270623), (954, 0.20619652471058064), (2280, 0.20619652471058064), (4172, 0.2036532699906392), (3688, 0.20365326999063918), (4147, 0.20203050891044214), (4184, 0.20203050891044214), (4502, 0.20203050891044214), (825, 0.20145574100634503), (892, 0.20145574100634503), (1049, 0.20145574100634503), (2543, 0.20145574100634503), (3819, 0.20145574100634503), (1024, 0.20044593143431824), (286, 0.19702760155977517), (613, 0.19702760155977517), (762, 0.19702760155977517), (1663, 0.19702760155977517), (1915, 0.19702760155977517), (3180, 0.19702760155977517), (3765, 0.19702760155977517), (4392, 0.19702760155977517), (4457, 0.19702760155977517), (2878, 0.1951800145897066), (4630, 0.1951800145897066), (2373, 0.1928791874526149), (3507, 0.1928791874526149), (4124, 0.1928791874526149), (104, 0.1889822365046136), (2108, 0.1889822365046136), (2640, 0.1889822365046136), (3526, 0.1889822365046136), (3581, 0.1889822365046136), (3734, 0.1889822365046136), (4476, 0.1889822365046136), (4800, 0.1889822365046136), (3, 0.1853123291652753), (65, 0.1853123291652753), (119, 0.1853123291652753), (1365, 0.1853123291652753), (1523, 0.1853123291652753), (2008, 0.1853123291652753), (2941, 0.1853123291652753), (2989, 0.1853123291652753), (4076, 0.1853123291652753), (3875, 0.18333969940564224), (813, 0.181848241863327), (1220, 0.181848241863327), (1225, 0.181848241863327), (1664, 0.181848241863327), (1960, 0.181848241863327), (3533, 0.181848241863327), (4211, 0.181848241863327), (1364, 0.17857142857142855), (3616, 0.17857142857142855), (1215, 0.17857142857142852), (2022, 0.17857142857142852), (2470, 0.17857142857142852), (1488, 0.1781741612749496), (4217, 0.1781741612749496), (4664, 0.1781741612749496), (2187, 0.17546560158589908), (2875, 0.17342199390482396), (3728, 0.17251638983558854), (407, 0.16971105832553265), (1556, 0.16971105832553265), (1828, 0.16971105832553265), (2561, 0.16971105832553265), (398, 0.1690308509457033), (1033, 0.1690308509457033), (1167, 0.1690308509457033), (1803, 0.1690308509457033), (2216, 0.1690308509457033), (3637, 0.1690308509457033), (3701, 0.1690308509457033), (3726, 0.1690308509457033), (1590, 0.1670382761952652), (882, 0.1649572197684645), (965, 0.1649572197684645), (1370, 0.1649572197684645), (1374, 0.1649572197684645), (1742, 0.1649572197684645), (1812, 0.1649572197684645), (2072, 0.1649572197684645), (2491, 0.1649572197684645), (2582, 0.1649572197684645), (2948, 0.1649572197684645), (3704, 0.1649572197684645), (4098, 0.1649572197684645), (4349, 0.1649572197684645), (4371, 0.1649572197684645), (1193, 0.16448792373994225), (4269, 0.1636634176769943), (377, 0.16116459280507603), (672, 0.16116459280507603), (717, 0.16116459280507603), (1170, 0.16116459280507603), (1202, 0.16116459280507603), (1457, 0.16116459280507603), (1559, 0.16116459280507603), (1661, 0.16116459280507603), (1890, 0.16116459280507603), (2151, 0.16116459280507603), (2333, 0.16116459280507603), (2342, 0.16116459280507603), (2450, 0.16116459280507603), (2600, 0.16116459280507603), (2818, 0.16116459280507603), (3447, 0.16116459280507603), (3537, 0.16116459280507603), (3568, 0.16116459280507603), (3732, 0.16116459280507603), (3931, 0.16116459280507603), (4079, 0.16116459280507603), (2592, 0.15971914124998496), (421, 0.15762208124782012), (652, 0.15762208124782012), (696, 0.15762208124782012), (758, 0.15762208124782012), (862, 0.15762208124782012), (1046, 0.15762208124782012), (1127, 0.15762208124782012), (1639, 0.15762208124782012), (1792, 0.15762208124782012), (1847, 0.15762208124782012), (1969, 0.15762208124782012), (2061, 0.15762208124782012), (2398, 0.15762208124782012), (2775, 0.15762208124782012), (2820, 0.15762208124782012), (2886, 0.15762208124782012), (2915, 0.15762208124782012), (3658, 0.15762208124782012), (3869, 0.15762208124782012), (4022, 0.15762208124782012), (4310, 0.15762208124782012), (4337, 0.15762208124782012), (4364, 0.15762208124782012), (4649, 0.15762208124782012), (346, 0.1543033499620919), (1245, 0.1543033499620919), (1282, 0.1543033499620919), (1787, 0.1543033499620919), (2428, 0.1543033499620919), (2529, 0.1543033499620919), (2621, 0.1543033499620919), (3093, 0.1543033499620919), (3887, 0.1543033499620919), (4772, 0.1543033499620919), (1464, 0.1515228816828316), (3224, 0.1515228816828316), (4488, 0.1515228816828316), (4780, 0.1515228816828316), (494, 0.15118578920369088), (712, 0.15118578920369088), (741, 0.15118578920369088), (1105, 0.15118578920369088), (1654, 0.15118578920369088), (1657, 0.15118578920369088), (2304, 0.15118578920369088), (2475, 0.15118578920369088), (2495, 0.15118578920369088), (2569, 0.15118578920369088), (2691, 0.15118578920369088), (3040, 0.15118578920369088), (3358, 0.15118578920369088), (3594, 0.15118578920369088), (4326, 0.15118578920369088), (690, 0.14824986333222023), (784, 0.14824986333222023), (2260, 0.14824986333222023), (2593, 0.14824986333222023), (3470, 0.14824986333222023), (4642, 0.14824986333222023), (588, 0.14638501094227996), (1873, 0.14638501094227996), (3714, 0.14638501094227996), (4205, 0.14638501094227996), (4377, 0.14638501094227996), (4634, 0.14638501094227996), (210, 0.14547859349066158), (962, 0.14547859349066158), (1084, 0.14547859349066158), (1146, 0.14547859349066158), (2480, 0.14547859349066158), (2627, 0.14547859349066158), (2914, 0.14547859349066158), (3750, 0.14547859349066158), (4397, 0.14547859349066158), (4441, 0.14547859349066158), (713, 0.14285714285714282), (1720, 0.14285714285714282), (1967, 0.14285714285714282), (2371, 0.14285714285714282), (3250, 0.14285714285714282), (4526, 0.14285714285714282), (2507, 0.14173667737846019), (3199, 0.14173667737846019), (3326, 0.14173667737846019), (3359, 0.14173667737846019), (3727, 0.14173667737846019), (4556, 0.14173667737846019), (4656, 0.14173667737846019), (4730, 0.14173667737846019), (4779, 0.14173667737846019), (1028, 0.14037248126871926), (1082, 0.14037248126871926), (1740, 0.14037248126871926), (2521, 0.14037248126871926), (2545, 0.14037248126871926), (3239, 0.14037248126871926), (4000, 0.14037248126871926), (4265, 0.14037248126871926), (1145, 0.13801311186847082), (3170, 0.13801311186847082), (3615, 0.13801311186847082), (774, 0.13750477455423168), (1183, 0.13750477455423168), (1253, 0.13750477455423168), (1278, 0.13750477455423168), (1503, 0.13750477455423168), (2932, 0.13750477455423168), (3144, 0.13750477455423168), (3286, 0.13750477455423168), (3322, 0.13750477455423168), (3377, 0.13750477455423168), (3416, 0.13750477455423168), (3665, 0.13750477455423168), (4449, 0.13750477455423168), (4531, 0.13750477455423168), (4692, 0.13750477455423168), (1538, 0.13576884666042613), (3643, 0.13576884666042613), (975, 0.1336306209562122), (1305, 0.1336306209562122), (1675, 0.1336306209562122), (1986, 0.1336306209562122), (2193, 0.1336306209562122), (2502, 0.1336306209562122), (2804, 0.1336306209562122), (2959, 0.1336306209562122), (3564, 0.1336306209562122), (3812, 0.1336306209562122), (3817, 0.1336306209562122), (4159, 0.1336306209562122), (1296, 0.13363062095621217), (3029, 0.1315903389919538), (620, 0.13006649542861798), (709, 0.13006649542861798), (747, 0.13006649542861798), (760, 0.13006649542861798), (858, 0.13006649542861798), (1309, 0.13006649542861798), (1448, 0.13006649542861798), (1600, 0.13006649542861798), (1623, 0.13006649542861798), (1665, 0.13006649542861798), (1771, 0.13006649542861798), (2110, 0.13006649542861798), (2154, 0.13006649542861798), (2670, 0.13006649542861798), (3069, 0.13006649542861798), (3332, 0.13006649542861798), (3363, 0.13006649542861798), (3716, 0.13006649542861798), (3760, 0.13006649542861798), (3791, 0.13006649542861798), (3936, 0.13006649542861798), (4404, 0.13006649542861798), (226, 0.1267731382092775), (298, 0.1267731382092775), (372, 0.1267731382092775), (669, 0.1267731382092775), (729, 0.1267731382092775), (731, 0.1267731382092775), (849, 0.1267731382092775), (958, 0.1267731382092775), (968, 0.1267731382092775), (970, 0.1267731382092775), (1010, 0.1267731382092775), (1135, 0.1267731382092775), (1149, 0.1267731382092775), (1194, 0.1267731382092775), (1397, 0.1267731382092775), (1409, 0.1267731382092775), (1455, 0.1267731382092775), (1644, 0.1267731382092775), (1674, 0.1267731382092775), (1727, 0.1267731382092775), (1868, 0.1267731382092775), (1931, 0.1267731382092775), (1992, 0.1267731382092775), (2031, 0.1267731382092775), (2240, 0.1267731382092775), (2277, 0.1267731382092775), (2291, 0.1267731382092775), (3504, 0.1267731382092775), (3551, 0.1267731382092775), (4041, 0.1267731382092775), (4139, 0.1267731382092775), (4461, 0.1267731382092775), (4528, 0.1267731382092775), (4680, 0.1267731382092775), (4782, 0.1267731382092775), (3008, 0.1259881576697424), (314, 0.12371791482634838), (724, 0.12371791482634838), (756, 0.12371791482634838), (804, 0.12371791482634838), (856, 0.12371791482634838), (893, 0.12371791482634838), (919, 0.12371791482634838), (969, 0.12371791482634838), (980, 0.12371791482634838), (1009, 0.12371791482634838), (1051, 0.12371791482634838), (1087, 0.12371791482634838), (1347, 0.12371791482634838), (1470, 0.12371791482634838), (1558, 0.12371791482634838), (1599, 0.12371791482634838), (1615, 0.12371791482634838), (1632, 0.12371791482634838), (1688, 0.12371791482634838), (1884, 0.12371791482634838), (2269, 0.12371791482634838), (2307, 0.12371791482634838), (2393, 0.12371791482634838), (2467, 0.12371791482634838), (2587, 0.12371791482634838), (2717, 0.12371791482634838), (2801, 0.12371791482634838), (2822, 0.12371791482634838), (2957, 0.12371791482634838), (3088, 0.12371791482634838), (3112, 0.12371791482634838), (3242, 0.12371791482634838), (3318, 0.12371791482634838), (3463, 0.12371791482634838), (3479, 0.12371791482634838), (3495, 0.12371791482634838), (3518, 0.12371791482634838), (3553, 0.12371791482634838), (3567, 0.12371791482634838), (3636, 0.12371791482634838), (3638, 0.12371791482634838), (3699, 0.12371791482634838), (3789, 0.12371791482634838), (3833, 0.12371791482634838), (3851, 0.12371791482634838), (4063, 0.12371791482634838), (4408, 0.12371791482634838), (4778, 0.12371791482634838), (159, 0.12087344460380703), (164, 0.12087344460380703), (205, 0.12087344460380703), (297, 0.12087344460380703), (351, 0.12087344460380703), (367, 0.12087344460380703), (432, 0.12087344460380703), (493, 0.12087344460380703), (590, 0.12087344460380703), (606, 0.12087344460380703), (826, 0.12087344460380703), (879, 0.12087344460380703), (918, 0.12087344460380703), (950, 0.12087344460380703), (1038, 0.12087344460380703), (1156, 0.12087344460380703), (1178, 0.12087344460380703), (1250, 0.12087344460380703), (1337, 0.12087344460380703), (1418, 0.12087344460380703), (1419, 0.12087344460380703), (1429, 0.12087344460380703), (1456, 0.12087344460380703), (1486, 0.12087344460380703), (1505, 0.12087344460380703), (1853, 0.12087344460380703), (1891, 0.12087344460380703), (1902, 0.12087344460380703), (2032, 0.12087344460380703), (2130, 0.12087344460380703), (2145, 0.12087344460380703), (2250, 0.12087344460380703), (2378, 0.12087344460380703), (2434, 0.12087344460380703), (2448, 0.12087344460380703), (2546, 0.12087344460380703), (2571, 0.12087344460380703), (2596, 0.12087344460380703), (2799, 0.12087344460380703), (2858, 0.12087344460380703), (2885, 0.12087344460380703), (3062, 0.12087344460380703), (3091, 0.12087344460380703), (3234, 0.12087344460380703), (3316, 0.12087344460380703), (3349, 0.12087344460380703), (3401, 0.12087344460380703), (3438, 0.12087344460380703), (3541, 0.12087344460380703), (3611, 0.12087344460380703), (3698, 0.12087344460380703), (3785, 0.12087344460380703), (3850, 0.12087344460380703), (3981, 0.12087344460380703), (4015, 0.12087344460380703), (4099, 0.12087344460380703), (4287, 0.12087344460380703), (198, 0.11821656093586509), (316, 0.11821656093586509), (440, 0.11821656093586509), (801, 0.11821656093586509), (876, 0.11821656093586509), (963, 0.11821656093586509), (984, 0.11821656093586509), (988, 0.11821656093586509), (1025, 0.11821656093586509), (1133, 0.11821656093586509), (1233, 0.11821656093586509), (1254, 0.11821656093586509), (1369, 0.11821656093586509), (1435, 0.11821656093586509), (1512, 0.11821656093586509), (1535, 0.11821656093586509), (1596, 0.11821656093586509), (1618, 0.11821656093586509), (1635, 0.11821656093586509), (1668, 0.11821656093586509), (1758, 0.11821656093586509), (1782, 0.11821656093586509), (1800, 0.11821656093586509), (1845, 0.11821656093586509), (1881, 0.11821656093586509), (1974, 0.11821656093586509), (2038, 0.11821656093586509), (2102, 0.11821656093586509), (2124, 0.11821656093586509), (2168, 0.11821656093586509), (2323, 0.11821656093586509), (2329, 0.11821656093586509), (2553, 0.11821656093586509), (2609, 0.11821656093586509), (2625, 0.11821656093586509), (2682, 0.11821656093586509), (2693, 0.11821656093586509), (2762, 0.11821656093586509), (2862, 0.11821656093586509), (2880, 0.11821656093586509), (3052, 0.11821656093586509), (3173, 0.11821656093586509), (3181, 0.11821656093586509), (3211, 0.11821656093586509), (3275, 0.11821656093586509), (3294, 0.11821656093586509), (3378, 0.11821656093586509), (3429, 0.11821656093586509), (3454, 0.11821656093586509), (3691, 0.11821656093586509), (3723, 0.11821656093586509), (3737, 0.11821656093586509), (3763, 0.11821656093586509), (3828, 0.11821656093586509), (3834, 0.11821656093586509), (3866, 0.11821656093586509), (4230, 0.11821656093586509), (4291, 0.11821656093586509), (4393, 0.11821656093586509), (4484, 0.11821656093586509), (4509, 0.11821656093586509), (4529, 0.11821656093586509), (20, 0.11572751247156893), (281, 0.11572751247156893), (326, 0.11572751247156893), (354, 0.11572751247156893), (356, 0.11572751247156893), (485, 0.11572751247156893), (548, 0.11572751247156893), (574, 0.11572751247156893), (684, 0.11572751247156893), (714, 0.11572751247156893), (767, 0.11572751247156893), (840, 0.11572751247156893), (844, 0.11572751247156893), (861, 0.11572751247156893), (883, 0.11572751247156893), (978, 0.11572751247156893), (1103, 0.11572751247156893), (1231, 0.11572751247156893), (1358, 0.11572751247156893), (1495, 0.11572751247156893), (1647, 0.11572751247156893), (1666, 0.11572751247156893), (1900, 0.11572751247156893), (1945, 0.11572751247156893), (2089, 0.11572751247156893), (2195, 0.11572751247156893), (2239, 0.11572751247156893), (2318, 0.11572751247156893), (2455, 0.11572751247156893), (2461, 0.11572751247156893), (2642, 0.11572751247156893), (2647, 0.11572751247156893), (2836, 0.11572751247156893), (2839, 0.11572751247156893), (3165, 0.11572751247156893), (3348, 0.11572751247156893), (3357, 0.11572751247156893), (3374, 0.11572751247156893), (3406, 0.11572751247156893), (3431, 0.11572751247156893), (3475, 0.11572751247156893), (3639, 0.11572751247156893), (3644, 0.11572751247156893), (3662, 0.11572751247156893), (3685, 0.11572751247156893), (3700, 0.11572751247156893), (3815, 0.11572751247156893), (3839, 0.11572751247156893), (3903, 0.11572751247156893), (4090, 0.11572751247156893), (4119, 0.11572751247156893), (4320, 0.11572751247156893), (4376, 0.11572751247156893), (4641, 0.11396057645963795), (5, 0.11338934190276817), (115, 0.11338934190276817), (363, 0.11338934190276817), (538, 0.11338934190276817), (670, 0.11338934190276817), (785, 0.11338934190276817), (944, 0.11338934190276817), (982, 0.11338934190276817), (1031, 0.11338934190276817), (1176, 0.11338934190276817), (1199, 0.11338934190276817), (1234, 0.11338934190276817), (1236, 0.11338934190276817), (1239, 0.11338934190276817), (1405, 0.11338934190276817), (1432, 0.11338934190276817), (1651, 0.11338934190276817), (1660, 0.11338934190276817), (1749, 0.11338934190276817), (1773, 0.11338934190276817), (1829, 0.11338934190276817), (2091, 0.11338934190276817), (2134, 0.11338934190276817), (2265, 0.11338934190276817), (2388, 0.11338934190276817), (2440, 0.11338934190276817), (2657, 0.11338934190276817), (2774, 0.11338934190276817), (2961, 0.11338934190276817), (3273, 0.11338934190276817), (3297, 0.11338934190276817), (3366, 0.11338934190276817), (3440, 0.11338934190276817), (3603, 0.11338934190276817), (3709, 0.11338934190276817), (3880, 0.11338934190276817), (4573, 0.11338934190276817), (30, 0.11118739749916517), (246, 0.11118739749916517), (280, 0.11118739749916517), (365, 0.11118739749916517), (535, 0.11118739749916517), (667, 0.11118739749916517), (711, 0.11118739749916517), (1019, 0.11118739749916517), (1023, 0.11118739749916517), (1468, 0.11118739749916517), (1725, 0.11118739749916517), (1752, 0.11118739749916517), (1753, 0.11118739749916517), (1795, 0.11118739749916517), (1952, 0.11118739749916517), (1985, 0.11118739749916517), (2026, 0.11118739749916517), (2046, 0.11118739749916517), (2133, 0.11118739749916517), (2181, 0.11118739749916517), (2229, 0.11118739749916517), (2424, 0.11118739749916517), (2435, 0.11118739749916517), (2558, 0.11118739749916517), (2616, 0.11118739749916517), (2756, 0.11118739749916517), (3073, 0.11118739749916517), (3197, 0.11118739749916517), (3236, 0.11118739749916517), (3257, 0.11118739749916517), (3291, 0.11118739749916517), (3313, 0.11118739749916517), (3492, 0.11118739749916517), (4100, 0.11118739749916517), (4223, 0.11118739749916517), (4798, 0.11118739749916517), (1368, 0.1091089451179962), (4247, 0.1091089451179962), (4564, 0.1091089451179962), (4774, 0.1091089451179962), (971, 0.10910894511799618), (974, 0.10910894511799618), (996, 0.10910894511799618), (1016, 0.10910894511799618), (1067, 0.10910894511799618), (1281, 0.10910894511799618), (1328, 0.10910894511799618), (1612, 0.10910894511799618), (2040, 0.10910894511799618), (2336, 0.10910894511799618), (2346, 0.10910894511799618), (2384, 0.10910894511799618), (3033, 0.10910894511799618), (3420, 0.10910894511799618), (3647, 0.10910894511799618), (4144, 0.10910894511799618), (4167, 0.10910894511799618), (4226, 0.10910894511799618), (525, 0.10714285714285712), (679, 0.10714285714285712), (1136, 0.10714285714285712), (1361, 0.10714285714285712), (1452, 0.10714285714285712), (1607, 0.10714285714285712), (1684, 0.10714285714285712), (2118, 0.10714285714285712), (2196, 0.10714285714285712), (2225, 0.10714285714285712), (2560, 0.10714285714285712), (2736, 0.10714285714285712), (3548, 0.10714285714285712), (3741, 0.10714285714285712), (3873, 0.10714285714285712), (4024, 0.10714285714285712), (983, 0.10527936095153945), (1052, 0.10527936095153945), (1151, 0.10527936095153945), (1490, 0.10527936095153945), (1626, 0.10527936095153945), (1781, 0.10527936095153945), (1970, 0.10527936095153945), (2060, 0.10527936095153945), (2349, 0.10527936095153945), (3074, 0.10527936095153945), (3417, 0.10527936095153945), (3804, 0.10527936095153945), (4016, 0.10527936095153945), (4631, 0.10527936095153945), (1544, 0.10482848367219183), (4040, 0.10482848367219183), (4273, 0.10482848367219183), (4357, 0.10482848367219183), (4501, 0.10482848367219183), (4760, 0.10482848367219183), (305, 0.10350983390135311), (946, 0.10350983390135311), (1017, 0.10350983390135311), (1075, 0.10350983390135311), (3409, 0.10350983390135311), (3813, 0.10350983390135311), (4704, 0.10350983390135311), (4749, 0.10350983390135311), (444, 0.1018266349953196), (629, 0.1018266349953196), (973, 0.1018266349953196), (1581, 0.1018266349953196), (1583, 0.1018266349953196), (1708, 0.1018266349953196), (2597, 0.1018266349953196), (2803, 0.1018266349953196), (2888, 0.1018266349953196), (499, 0.10101525445522107), (2165, 0.10101525445522107), (2360, 0.10101525445522107), (2909, 0.10101525445522107), (3194, 0.10101525445522107), (3304, 0.10101525445522107), (3852, 0.10101525445522107), (4580, 0.10101525445522107), (4627, 0.10101525445522107), (855, 0.10022296571715913), (1439, 0.10022296571715913), (2278, 0.10022296571715913), (4206, 0.10022296571715913), (1363, 0.09869275424396534), (3032, 0.09869275424396534), (3270, 0.09869275424396534), (1269, 0.0975900072948533), (2764, 0.0975900072948533), (2892, 0.0975900072948533), (3067, 0.0975900072948533), (3207, 0.0975900072948533), (3306, 0.0975900072948533), (3453, 0.0975900072948533), (3521, 0.0975900072948533), (3857, 0.0975900072948533), (3863, 0.0975900072948533), (3913, 0.0975900072948533), (3972, 0.0975900072948533), (3976, 0.0975900072948533), (4070, 0.0975900072948533), (4203, 0.0975900072948533), (4299, 0.0975900072948533), (4482, 0.0975900072948533), (4541, 0.0975900072948533), (4694, 0.0975900072948533), (116, 0.09723055853282464), (1005, 0.09723055853282464), (4174, 0.09723055853282464), (283, 0.09583148474999097), (615, 0.09583148474999097), (1047, 0.09583148474999097), (2469, 0.09583148474999097), (561, 0.0944911182523068), (866, 0.0944911182523068), (1039, 0.0944911182523068), (1641, 0.0944911182523068), (1937, 0.0944911182523068), (2273, 0.0944911182523068), (2367, 0.0944911182523068), (2611, 0.0944911182523068), (2708, 0.0944911182523068), (2921, 0.0944911182523068), (3127, 0.0944911182523068), (3412, 0.0944911182523068), (3589, 0.0944911182523068), (3591, 0.0944911182523068), (3779, 0.0944911182523068), (3792, 0.0944911182523068), (3912, 0.0944911182523068), (3978, 0.0944911182523068), (4044, 0.0944911182523068), (4160, 0.0944911182523068), (405, 0.09320546490018), (1177, 0.09320546490018), (2623, 0.09320546490018), (347, 0.09166984970282112), (1169, 0.09166984970282112), (1585, 0.09166984970282112), (1739, 0.09166984970282112), (1767, 0.09166984970282112), (1816, 0.09166984970282112), (1978, 0.09166984970282112), (2222, 0.09166984970282112), (2252, 0.09166984970282112), (2481, 0.09166984970282112), (2648, 0.09166984970282112), (3025, 0.09166984970282112), (3043, 0.09166984970282112), (3299, 0.09166984970282112), (3493, 0.09166984970282112), (3932, 0.09166984970282112), (4037, 0.09166984970282112), (4146, 0.09166984970282112), (4256, 0.09166984970282112), (4592, 0.09166984970282112), (58, 0.0890870806374748), (345, 0.0890870806374748), (496, 0.0890870806374748), (716, 0.0890870806374748), (753, 0.0890870806374748), (921, 0.0890870806374748), (943, 0.0890870806374748), (1208, 0.0890870806374748), (1417, 0.0890870806374748), (1479, 0.0890870806374748), (1746, 0.0890870806374748), (1772, 0.0890870806374748), (1899, 0.0890870806374748), (1943, 0.0890870806374748), (2006, 0.0890870806374748), (2172, 0.0890870806374748), (2401, 0.0890870806374748), (2456, 0.0890870806374748), (2494, 0.0890870806374748), (2523, 0.0890870806374748), (2548, 0.0890870806374748), (2583, 0.0890870806374748), (2637, 0.0890870806374748), (2856, 0.0890870806374748), (2864, 0.0890870806374748), (3261, 0.0890870806374748), (3400, 0.0890870806374748), (3468, 0.0890870806374748), (3506, 0.0890870806374748), (3694, 0.0890870806374748), (3858, 0.0890870806374748), (3930, 0.0890870806374748), (3996, 0.0890870806374748), (4288, 0.0890870806374748), (4424, 0.0890870806374748), (4619, 0.0890870806374748), (4632, 0.0890870806374748), (463, 0.08671099695241198), (519, 0.08671099695241198), (534, 0.08671099695241198), (593, 0.08671099695241198), (733, 0.08671099695241198), (751, 0.08671099695241198), (895, 0.08671099695241198), (1114, 0.08671099695241198), (1416, 0.08671099695241198), (1434, 0.08671099695241198), (1595, 0.08671099695241198), (1860, 0.08671099695241198), (2055, 0.08671099695241198), (2058, 0.08671099695241198), (2215, 0.08671099695241198), (2332, 0.08671099695241198), (2453, 0.08671099695241198), (2500, 0.08671099695241198), (2505, 0.08671099695241198), (2722, 0.08671099695241198), (2772, 0.08671099695241198), (2857, 0.08671099695241198), (2890, 0.08671099695241198), (2931, 0.08671099695241198), (2943, 0.08671099695241198), (2972, 0.08671099695241198), (3157, 0.08671099695241198), (3279, 0.08671099695241198), (3381, 0.08671099695241198), (3397, 0.08671099695241198), (3491, 0.08671099695241198), (3577, 0.08671099695241198), (3650, 0.08671099695241198), (3790, 0.08671099695241198), (3945, 0.08671099695241198), (3969, 0.08671099695241198), (4017, 0.08671099695241198), (4082, 0.08671099695241198), (4092, 0.08671099695241198), (4200, 0.08671099695241198), (4216, 0.08671099695241198), (4246, 0.08671099695241198), (4300, 0.08671099695241198), (4480, 0.08671099695241198), (4599, 0.08671099695241198), (4602, 0.08671099695241198), (4691, 0.08671099695241198), (4714, 0.08671099695241198), (25, 0.08451542547285165), (303, 0.08451542547285165), (497, 0.08451542547285165), (641, 0.08451542547285165), (702, 0.08451542547285165), (726, 0.08451542547285165), (757, 0.08451542547285165), (763, 0.08451542547285165), (773, 0.08451542547285165), (869, 0.08451542547285165), (891, 0.08451542547285165), (938, 0.08451542547285165), (992, 0.08451542547285165), (1002, 0.08451542547285165), (1043, 0.08451542547285165), (1349, 0.08451542547285165), (1502, 0.08451542547285165), (1529, 0.08451542547285165), (1592, 0.08451542547285165), (1681, 0.08451542547285165), (1691, 0.08451542547285165), (1747, 0.08451542547285165), (1875, 0.08451542547285165), (2063, 0.08451542547285165), (2131, 0.08451542547285165), (2219, 0.08451542547285165), (2274, 0.08451542547285165), (2305, 0.08451542547285165), (2344, 0.08451542547285165), (2468, 0.08451542547285165), (2471, 0.08451542547285165), (2610, 0.08451542547285165), (2706, 0.08451542547285165), (2968, 0.08451542547285165), (3015, 0.08451542547285165), (3048, 0.08451542547285165), (3101, 0.08451542547285165), (3110, 0.08451542547285165), (3111, 0.08451542547285165), (3134, 0.08451542547285165), (3152, 0.08451542547285165), (3229, 0.08451542547285165), (3232, 0.08451542547285165), (3233, 0.08451542547285165), (3255, 0.08451542547285165), (3278, 0.08451542547285165), (3340, 0.08451542547285165), (3368, 0.08451542547285165), (3398, 0.08451542547285165), (3488, 0.08451542547285165), (3539, 0.08451542547285165), (3634, 0.08451542547285165), (3642, 0.08451542547285165), (3814, 0.08451542547285165), (3849, 0.08451542547285165), (3893, 0.08451542547285165), (3898, 0.08451542547285165), (3955, 0.08451542547285165), (4083, 0.08451542547285165), (4126, 0.08451542547285165), (4195, 0.08451542547285165), (4290, 0.08451542547285165), (4329, 0.08451542547285165), (4399, 0.08451542547285165), (4407, 0.08451542547285165), (4445, 0.08451542547285165), (4468, 0.08451542547285165), (4474, 0.08451542547285165), (4511, 0.08451542547285165), (4589, 0.08451542547285165), (4722, 0.08451542547285165), (4733, 0.08451542547285165), (4776, 0.08451542547285165), (1796, 0.08359173188630292), (167, 0.08247860988423225), (252, 0.08247860988423225), (274, 0.08247860988423225), (415, 0.08247860988423225), (602, 0.08247860988423225), (612, 0.08247860988423225), (677, 0.08247860988423225), (706, 0.08247860988423225), (721, 0.08247860988423225), (743, 0.08247860988423225), (764, 0.08247860988423225), (828, 0.08247860988423225), (872, 0.08247860988423225), (952, 0.08247860988423225), (998, 0.08247860988423225), (1021, 0.08247860988423225), (1096, 0.08247860988423225), (1107, 0.08247860988423225), (1118, 0.08247860988423225), (1238, 0.08247860988423225), (1348, 0.08247860988423225), (1443, 0.08247860988423225), (1527, 0.08247860988423225), (1530, 0.08247860988423225), (1550, 0.08247860988423225), (1627, 0.08247860988423225), (1659, 0.08247860988423225), (1738, 0.08247860988423225), (1748, 0.08247860988423225), (1833, 0.08247860988423225), (1897, 0.08247860988423225), (1909, 0.08247860988423225), (1912, 0.08247860988423225), (1927, 0.08247860988423225), (1929, 0.08247860988423225), (1930, 0.08247860988423225), (1955, 0.08247860988423225), (2073, 0.08247860988423225), (2141, 0.08247860988423225), (2175, 0.08247860988423225), (2282, 0.08247860988423225), (2328, 0.08247860988423225), (2353, 0.08247860988423225), (2383, 0.08247860988423225), (2447, 0.08247860988423225), (2478, 0.08247860988423225), (2510, 0.08247860988423225), (2632, 0.08247860988423225), (2650, 0.08247860988423225), (2702, 0.08247860988423225), (2750, 0.08247860988423225), (2769, 0.08247860988423225), (2783, 0.08247860988423225), (2800, 0.08247860988423225), (2841, 0.08247860988423225), (2853, 0.08247860988423225), (2982, 0.08247860988423225), (3011, 0.08247860988423225), (3045, 0.08247860988423225), (3148, 0.08247860988423225), (3277, 0.08247860988423225), (3618, 0.08247860988423225), (3640, 0.08247860988423225), (3668, 0.08247860988423225), (3679, 0.08247860988423225), (3684, 0.08247860988423225), (3693, 0.08247860988423225), (3738, 0.08247860988423225), (3767, 0.08247860988423225), (3784, 0.08247860988423225), (3799, 0.08247860988423225), (3811, 0.08247860988423225), (3859, 0.08247860988423225), (3894, 0.08247860988423225), (3975, 0.08247860988423225), (4088, 0.08247860988423225), (4163, 0.08247860988423225), (4268, 0.08247860988423225), (4576, 0.08247860988423225), (4610, 0.08247860988423225), (4647, 0.08247860988423225), (4651, 0.08247860988423225), (4688, 0.08247860988423225), (4735, 0.08247860988423225), (204, 0.08058229640253801), (350, 0.08058229640253801), (384, 0.08058229640253801), (455, 0.08058229640253801), (468, 0.08058229640253801), (617, 0.08058229640253801), (659, 0.08058229640253801), (664, 0.08058229640253801), (739, 0.08058229640253801), (821, 0.08058229640253801), (871, 0.08058229640253801), (898, 0.08058229640253801), (995, 0.08058229640253801), (1057, 0.08058229640253801), (1058, 0.08058229640253801), (1076, 0.08058229640253801), (1098, 0.08058229640253801), (1124, 0.08058229640253801), (1125, 0.08058229640253801), (1190, 0.08058229640253801), (1291, 0.08058229640253801), (1320, 0.08058229640253801), (1458, 0.08058229640253801), (1485, 0.08058229640253801), (1537, 0.08058229640253801), (1553, 0.08058229640253801), (1589, 0.08058229640253801), (1624, 0.08058229640253801), (1653, 0.08058229640253801), (1724, 0.08058229640253801), (1768, 0.08058229640253801), (1785, 0.08058229640253801), (1839, 0.08058229640253801), (1894, 0.08058229640253801), (1997, 0.08058229640253801), (2012, 0.08058229640253801), (2024, 0.08058229640253801), (2027, 0.08058229640253801), (2050, 0.08058229640253801), (2087, 0.08058229640253801), (2167, 0.08058229640253801), (2275, 0.08058229640253801), (2313, 0.08058229640253801), (2324, 0.08058229640253801), (2356, 0.08058229640253801), (2395, 0.08058229640253801), (2412, 0.08058229640253801), (2438, 0.08058229640253801), (2533, 0.08058229640253801), (2537, 0.08058229640253801), (2573, 0.08058229640253801), (2607, 0.08058229640253801), (2809, 0.08058229640253801), (2855, 0.08058229640253801), (2935, 0.08058229640253801), (3090, 0.08058229640253801), (3106, 0.08058229640253801), (3123, 0.08058229640253801), (3156, 0.08058229640253801), (3259, 0.08058229640253801), (3260, 0.08058229640253801), (3345, 0.08058229640253801), (3372, 0.08058229640253801), (3703, 0.08058229640253801), (3758, 0.08058229640253801), (3878, 0.08058229640253801), (3905, 0.08058229640253801), (3923, 0.08058229640253801), (4033, 0.08058229640253801), (4087, 0.08058229640253801), (4190, 0.08058229640253801), (4196, 0.08058229640253801), (4308, 0.08058229640253801), (4356, 0.08058229640253801), (4472, 0.08058229640253801), (4565, 0.08058229640253801), (4620, 0.08058229640253801), (4725, 0.08058229640253801), (2, 0.07881104062391006), (60, 0.07881104062391006), (140, 0.07881104062391006), (257, 0.07881104062391006), (279, 0.07881104062391006), (299, 0.07881104062391006), (378, 0.07881104062391006), (388, 0.07881104062391006), (406, 0.07881104062391006), (414, 0.07881104062391006), (433, 0.07881104062391006), (446, 0.07881104062391006), (453, 0.07881104062391006), (465, 0.07881104062391006), (570, 0.07881104062391006), (583, 0.07881104062391006), (598, 0.07881104062391006), (633, 0.07881104062391006), (775, 0.07881104062391006), (777, 0.07881104062391006), (789, 0.07881104062391006), (815, 0.07881104062391006), (824, 0.07881104062391006), (953, 0.07881104062391006), (1004, 0.07881104062391006), (1013, 0.07881104062391006), (1041, 0.07881104062391006), (1045, 0.07881104062391006), (1090, 0.07881104062391006), (1120, 0.07881104062391006), (1129, 0.07881104062391006), (1182, 0.07881104062391006), (1251, 0.07881104062391006), (1252, 0.07881104062391006), (1329, 0.07881104062391006), (1340, 0.07881104062391006), (1366, 0.07881104062391006), (1387, 0.07881104062391006), (1445, 0.07881104062391006), (1478, 0.07881104062391006), (1484, 0.07881104062391006), (1533, 0.07881104062391006), (1582, 0.07881104062391006), (1687, 0.07881104062391006), (1699, 0.07881104062391006), (1751, 0.07881104062391006), (1806, 0.07881104062391006), (1837, 0.07881104062391006), (1841, 0.07881104062391006), (1849, 0.07881104062391006), (1859, 0.07881104062391006), (1928, 0.07881104062391006), (1964, 0.07881104062391006), (1991, 0.07881104062391006), (2029, 0.07881104062391006), (2071, 0.07881104062391006), (2074, 0.07881104062391006), (2295, 0.07881104062391006), (2375, 0.07881104062391006), (2413, 0.07881104062391006), (2501, 0.07881104062391006), (2508, 0.07881104062391006), (2539, 0.07881104062391006), (2541, 0.07881104062391006), (2594, 0.07881104062391006), (2603, 0.07881104062391006), (2797, 0.07881104062391006), (2821, 0.07881104062391006), (2845, 0.07881104062391006), (2905, 0.07881104062391006), (2926, 0.07881104062391006), (2958, 0.07881104062391006), (2977, 0.07881104062391006), (2996, 0.07881104062391006), (3061, 0.07881104062391006), (3064, 0.07881104062391006), (3183, 0.07881104062391006), (3196, 0.07881104062391006), (3245, 0.07881104062391006), (3311, 0.07881104062391006), (3342, 0.07881104062391006), (3362, 0.07881104062391006), (3410, 0.07881104062391006), (3411, 0.07881104062391006), (3427, 0.07881104062391006), (3538, 0.07881104062391006), (3566, 0.07881104062391006), (3584, 0.07881104062391006), (3622, 0.07881104062391006), (3766, 0.07881104062391006), (3822, 0.07881104062391006), (3886, 0.07881104062391006), (3914, 0.07881104062391006), (3952, 0.07881104062391006), (3990, 0.07881104062391006), (4225, 0.07881104062391006), (4232, 0.07881104062391006), (4675, 0.07881104062391006), (4788, 0.07881104062391006), (4792, 0.07881104062391006), (99, 0.07715167498104596), (172, 0.07715167498104596), (249, 0.07715167498104596), (256, 0.07715167498104596), (284, 0.07715167498104596), (312, 0.07715167498104596), (335, 0.07715167498104596), (370, 0.07715167498104596), (428, 0.07715167498104596), (611, 0.07715167498104596), (650, 0.07715167498104596), (660, 0.07715167498104596), (809, 0.07715167498104596), (812, 0.07715167498104596), (875, 0.07715167498104596), (1054, 0.07715167498104596), (1131, 0.07715167498104596), (1232, 0.07715167498104596), (1297, 0.07715167498104596), (1421, 0.07715167498104596), (1450, 0.07715167498104596), (1460, 0.07715167498104596), (1494, 0.07715167498104596), (1517, 0.07715167498104596), (1542, 0.07715167498104596), (1543, 0.07715167498104596), (1560, 0.07715167498104596), (1588, 0.07715167498104596), (1603, 0.07715167498104596), (1638, 0.07715167498104596), (1774, 0.07715167498104596), (1827, 0.07715167498104596), (1835, 0.07715167498104596), (1889, 0.07715167498104596), (1917, 0.07715167498104596), (1944, 0.07715167498104596), (2020, 0.07715167498104596), (2062, 0.07715167498104596), (2185, 0.07715167498104596), (2200, 0.07715167498104596), (2235, 0.07715167498104596), (2341, 0.07715167498104596), (2348, 0.07715167498104596), (2458, 0.07715167498104596), (2547, 0.07715167498104596), (2716, 0.07715167498104596), (2767, 0.07715167498104596), (2773, 0.07715167498104596), (2805, 0.07715167498104596), (2828, 0.07715167498104596), (2965, 0.07715167498104596), (3083, 0.07715167498104596), (3195, 0.07715167498104596), (3244, 0.07715167498104596), (3276, 0.07715167498104596), (3449, 0.07715167498104596), (3712, 0.07715167498104596), (3772, 0.07715167498104596), (3870, 0.07715167498104596), (3944, 0.07715167498104596), (4263, 0.07715167498104596), (4726, 0.07715167498104596), (4740, 0.07715167498104596), (11, 0.07559289460184544), (113, 0.07559289460184544), (135, 0.07559289460184544), (247, 0.07559289460184544), (267, 0.07559289460184544), (271, 0.07559289460184544), (285, 0.07559289460184544), (419, 0.07559289460184544), (506, 0.07559289460184544), (591, 0.07559289460184544), (738, 0.07559289460184544), (807, 0.07559289460184544), (868, 0.07559289460184544), (911, 0.07559289460184544), (942, 0.07559289460184544), (1000, 0.07559289460184544), (1050, 0.07559289460184544), (1063, 0.07559289460184544), (1073, 0.07559289460184544), (1100, 0.07559289460184544), (1137, 0.07559289460184544), (1359, 0.07559289460184544), (1367, 0.07559289460184544), (1462, 0.07559289460184544), (1625, 0.07559289460184544), (1805, 0.07559289460184544), (2111, 0.07559289460184544), (2156, 0.07559289460184544), (2221, 0.07559289460184544), (2224, 0.07559289460184544), (2306, 0.07559289460184544), (2314, 0.07559289460184544), (2354, 0.07559289460184544), (2402, 0.07559289460184544), (2493, 0.07559289460184544), (2536, 0.07559289460184544), (3035, 0.07559289460184544), (3050, 0.07559289460184544), (3262, 0.07559289460184544), (3303, 0.07559289460184544), (3387, 0.07559289460184544), (3430, 0.07559289460184544), (3477, 0.07559289460184544), (3614, 0.07559289460184544), (3739, 0.07559289460184544), (3751, 0.07559289460184544), (3918, 0.07559289460184544), (4103, 0.07559289460184544), (4152, 0.07559289460184544), (4166, 0.07559289460184544), (4267, 0.07559289460184544), (4292, 0.07559289460184544), (4394, 0.07559289460184544), (4594, 0.07559289460184544), (45, 0.07412493166611012), (77, 0.07412493166611012), (96, 0.07412493166611012), (102, 0.07412493166611012), (156, 0.07412493166611012), (186, 0.07412493166611012), (225, 0.07412493166611012), (608, 0.07412493166611012), (631, 0.07412493166611012), (665, 0.07412493166611012), (759, 0.07412493166611012), (778, 0.07412493166611012), (851, 0.07412493166611012), (873, 0.07412493166611012), (941, 0.07412493166611012), (1008, 0.07412493166611012), (1048, 0.07412493166611012), (1119, 0.07412493166611012), (1140, 0.07412493166611012), (1152, 0.07412493166611012), (1207, 0.07412493166611012), (1226, 0.07412493166611012), (1317, 0.07412493166611012), (1334, 0.07412493166611012), (1339, 0.07412493166611012), (1446, 0.07412493166611012), (1473, 0.07412493166611012), (1497, 0.07412493166611012), (1513, 0.07412493166611012), (1573, 0.07412493166611012), (1622, 0.07412493166611012), (1971, 0.07412493166611012), (2077, 0.07412493166611012), (2104, 0.07412493166611012), (2207, 0.07412493166611012), (2238, 0.07412493166611012), (2403, 0.07412493166611012), (2416, 0.07412493166611012), (2606, 0.07412493166611012), (2633, 0.07412493166611012), (2635, 0.07412493166611012), (2678, 0.07412493166611012), (2802, 0.07412493166611012), (2986, 0.07412493166611012), (3055, 0.07412493166611012), (3309, 0.07412493166611012), (3334, 0.07412493166611012), (3425, 0.07412493166611012), (3467, 0.07412493166611012), (3613, 0.07412493166611012), (3773, 0.07412493166611012), (3934, 0.07412493166611012), (3935, 0.07412493166611012), (4026, 0.07412493166611012), (4626, 0.07412493166611012), (72, 0.07273929674533079), (95, 0.07273929674533079), (527, 0.07273929674533079), (643, 0.07273929674533079), (681, 0.07273929674533079), (700, 0.07273929674533079), (752, 0.07273929674533079), (782, 0.07273929674533079), (795, 0.07273929674533079), (922, 0.07273929674533079), (1106, 0.07273929674533079), (1444, 0.07273929674533079), (1463, 0.07273929674533079), (1591, 0.07273929674533079), (1780, 0.07273929674533079), (2004, 0.07273929674533079), (2052, 0.07273929674533079), (2086, 0.07273929674533079), (2169, 0.07273929674533079), (2208, 0.07273929674533079), (2380, 0.07273929674533079), (2446, 0.07273929674533079), (2459, 0.07273929674533079), (2613, 0.07273929674533079), (2876, 0.07273929674533079), (2916, 0.07273929674533079), (3019, 0.07273929674533079), (3399, 0.07273929674533079), (3516, 0.07273929674533079), (3543, 0.07273929674533079), (3794, 0.07273929674533079), (4270, 0.07273929674533079), (4391, 0.07273929674533079), (4551, 0.07273929674533079), (176, 0.07142857142857141), (273, 0.07142857142857141), (308, 0.07142857142857141), (500, 0.07142857142857141), (545, 0.07142857142857141), (556, 0.07142857142857141), (621, 0.07142857142857141), (673, 0.07142857142857141), (1111, 0.07142857142857141), (1286, 0.07142857142857141), (1431, 0.07142857142857141), (1518, 0.07142857142857141), (1854, 0.07142857142857141), (1892, 0.07142857142857141), (2036, 0.07142857142857141), (2136, 0.07142857142857141), (2149, 0.07142857142857141), (2183, 0.07142857142857141), (2514, 0.07142857142857141), (2525, 0.07142857142857141), (2578, 0.07142857142857141), (2661, 0.07142857142857141), (2777, 0.07142857142857141), (2974, 0.07142857142857141), (3031, 0.07142857142857141), (4113, 0.07142857142857141), (4162, 0.07142857142857141), (4447, 0.07142857142857141), (4510, 0.07142857142857141), (73, 0.07018624063435963), (442, 0.07018624063435963), (536, 0.07018624063435963), (830, 0.07018624063435963), (1175, 0.07018624063435963), (1877, 0.07018624063435963), (2745, 0.07018624063435963), (2960, 0.07018624063435963), (3155, 0.07018624063435963), (3706, 0.07018624063435963), (1, 0.06900655593423541), (798, 0.06900655593423541), (1003, 0.06900655593423541), (1382, 0.06900655593423541), (2101, 0.06900655593423541), (2184, 0.06900655593423541), (2442, 0.06900655593423541), (3177, 0.06900655593423541), (4089, 0.06900655593423541), (239, 0.06788442333021306), (1715, 0.06788442333021306), (2884, 0.06788442333021306), (3837, 0.06788442333021306), (683, 0.06681531047810609), (725, 0.06681531047810609), (4574, 0.06681531047810609), (787, 0.0657951694959769), (2954, 0.0657951694959769), (642, 0.06482037235521643), (2068, 0.06482037235521643), (3753, 0.06482037235521643), (2542, 0.06388765649999398), (3178, 0.06388765649999398), (1480, 0.0629940788348712), (599, 0.06213697660012), (3140, 0.06213697660012), (4426, 0.05976143046671968), (2421, 0.05698028822981897), (3977, 0.05698028822981897), (4027, 0.05698028822981897), (4493, 0.05698028822981897), (4540, 0.05698028822981897), (4708, 0.05698028822981897), (2782, 0.055131784641997125), (2437, 0.0545544725589981), (3119, 0.0545544725589981), (3661, 0.0545544725589981), (3793, 0.0545544725589981), (3938, 0.0545544725589981), (4252, 0.0545544725589981), (4307, 0.0545544725589981), (4411, 0.0545544725589981), (4413, 0.0545544725589981), (4607, 0.0545544725589981), (4769, 0.0545544725589981), (4777, 0.0545544725589981), (436, 0.052414241836095915), (1934, 0.052414241836095915), (2174, 0.052414241836095915), (2292, 0.052414241836095915), (2646, 0.052414241836095915), (3103, 0.052414241836095915), (3781, 0.052414241836095915), (4057, 0.052414241836095915), (4142, 0.052414241836095915), (4179, 0.052414241836095915), (4233, 0.052414241836095915), (4236, 0.052414241836095915), (4285, 0.052414241836095915), (4369, 0.052414241836095915), (4416, 0.052414241836095915), (4618, 0.052414241836095915), (4658, 0.052414241836095915), (4662, 0.052414241836095915), (4771, 0.052414241836095915), (1775, 0.050507627227610534), (1919, 0.050507627227610534), (2079, 0.050507627227610534), (2081, 0.050507627227610534), (2242, 0.050507627227610534), (2436, 0.050507627227610534), (2538, 0.050507627227610534), (2574, 0.050507627227610534), (2631, 0.050507627227610534), (2634, 0.050507627227610534), (2658, 0.050507627227610534), (2770, 0.050507627227610534), (2789, 0.050507627227610534), (2908, 0.050507627227610534), (2933, 0.050507627227610534), (2970, 0.050507627227610534), (3020, 0.050507627227610534), (3021, 0.050507627227610534), (3037, 0.050507627227610534), (3076, 0.050507627227610534), (3078, 0.050507627227610534), (3121, 0.050507627227610534), (3166, 0.050507627227610534), (3185, 0.050507627227610534), (3225, 0.050507627227610534), (3319, 0.050507627227610534), (3354, 0.050507627227610534), (3432, 0.050507627227610534), (3500, 0.050507627227610534), (3598, 0.050507627227610534), (3610, 0.050507627227610534), (3649, 0.050507627227610534), (3798, 0.050507627227610534), (3911, 0.050507627227610534), (3967, 0.050507627227610534), (4086, 0.050507627227610534), (4125, 0.050507627227610534), (4198, 0.050507627227610534), (4212, 0.050507627227610534), (4318, 0.050507627227610534), (4430, 0.050507627227610534), (4523, 0.050507627227610534), (4543, 0.050507627227610534), (4655, 0.050507627227610534), (4667, 0.050507627227610534), (4690, 0.050507627227610534), (4751, 0.050507627227610534), (4784, 0.050507627227610534), (71, 0.04879500364742665), (357, 0.04879500364742665), (678, 0.04879500364742665), (881, 0.04879500364742665), (1072, 0.04879500364742665), (1258, 0.04879500364742665), (1597, 0.04879500364742665), (1692, 0.04879500364742665), (1701, 0.04879500364742665), (1901, 0.04879500364742665), (1913, 0.04879500364742665), (1962, 0.04879500364742665), (1979, 0.04879500364742665), (1983, 0.04879500364742665), (2001, 0.04879500364742665), (2005, 0.04879500364742665), (2011, 0.04879500364742665), (2614, 0.04879500364742665), (2629, 0.04879500364742665), (2709, 0.04879500364742665), (2779, 0.04879500364742665), (2872, 0.04879500364742665), (2963, 0.04879500364742665), (2976, 0.04879500364742665), (3022, 0.04879500364742665), (3080, 0.04879500364742665), (3154, 0.04879500364742665), (3164, 0.04879500364742665), (3223, 0.04879500364742665), (3280, 0.04879500364742665), (3287, 0.04879500364742665), (3292, 0.04879500364742665), (3302, 0.04879500364742665), (3393, 0.04879500364742665), (3487, 0.04879500364742665), (3501, 0.04879500364742665), (3517, 0.04879500364742665), (3528, 0.04879500364742665), (3544, 0.04879500364742665), (3590, 0.04879500364742665), (3632, 0.04879500364742665), (3669, 0.04879500364742665), (3674, 0.04879500364742665), (3718, 0.04879500364742665), (3729, 0.04879500364742665), (3756, 0.04879500364742665), (3796, 0.04879500364742665), (4038, 0.04879500364742665), (4047, 0.04879500364742665), (4055, 0.04879500364742665), (4111, 0.04879500364742665), (4143, 0.04879500364742665), (4168, 0.04879500364742665), (4208, 0.04879500364742665), (4255, 0.04879500364742665), (4342, 0.04879500364742665), (4409, 0.04879500364742665), (4417, 0.04879500364742665), (4421, 0.04879500364742665), (4422, 0.04879500364742665), (4462, 0.04879500364742665), (4490, 0.04879500364742665), (4590, 0.04879500364742665), (4612, 0.04879500364742665), (4614, 0.04879500364742665), (4660, 0.04879500364742665), (4746, 0.04879500364742665), (4754, 0.04879500364742665), (4775, 0.04879500364742665), (4790, 0.04879500364742665), (967, 0.0472455591261534), (1069, 0.0472455591261534), (1241, 0.0472455591261534), (1295, 0.0472455591261534), (1357, 0.0472455591261534), (1522, 0.0472455591261534), (1629, 0.0472455591261534), (1678, 0.0472455591261534), (1679, 0.0472455591261534), (1863, 0.0472455591261534), (1898, 0.0472455591261534), (1949, 0.0472455591261534), (2000, 0.0472455591261534), (2010, 0.0472455591261534), (2028, 0.0472455591261534), (2059, 0.0472455591261534), (2259, 0.0472455591261534), (2485, 0.0472455591261534), (2519, 0.0472455591261534), (2563, 0.0472455591261534), (2882, 0.0472455591261534), (2910, 0.0472455591261534), (2956, 0.0472455591261534), (3087, 0.0472455591261534), (3172, 0.0472455591261534), (3205, 0.0472455591261534), (3226, 0.0472455591261534), (3264, 0.0472455591261534), (3271, 0.0472455591261534), (3282, 0.0472455591261534), (3284, 0.0472455591261534), (3314, 0.0472455591261534), (3355, 0.0472455591261534), (3376, 0.0472455591261534), (3392, 0.0472455591261534), (3437, 0.0472455591261534), (3461, 0.0472455591261534), (3486, 0.0472455591261534), (3497, 0.0472455591261534), (3510, 0.0472455591261534), (3513, 0.0472455591261534), (3655, 0.0472455591261534), (3686, 0.0472455591261534), (3747, 0.0472455591261534), (3762, 0.0472455591261534), (3823, 0.0472455591261534), (3846, 0.0472455591261534), (3957, 0.0472455591261534), (3995, 0.0472455591261534), (4048, 0.0472455591261534), (4051, 0.0472455591261534), (4097, 0.0472455591261534), (4169, 0.0472455591261534), (4199, 0.0472455591261534), (4239, 0.0472455591261534), (4243, 0.0472455591261534), (4253, 0.0472455591261534), (4266, 0.0472455591261534), (4296, 0.0472455591261534), (4301, 0.0472455591261534), (4304, 0.0472455591261534), (4330, 0.0472455591261534), (4375, 0.0472455591261534), (4384, 0.0472455591261534), (4395, 0.0472455591261534), (4410, 0.0472455591261534), (4450, 0.0472455591261534), (4455, 0.0472455591261534), (4499, 0.0472455591261534), (4519, 0.0472455591261534), (4522, 0.0472455591261534), (4548, 0.0472455591261534), (4646, 0.0472455591261534), (4653, 0.0472455591261534), (4665, 0.0472455591261534), (4676, 0.0472455591261534), (4693, 0.0472455591261534), (4764, 0.0472455591261534), (4785, 0.0472455591261534), (162, 0.04583492485141056), (323, 0.04583492485141056), (530, 0.04583492485141056), (584, 0.04583492485141056), (600, 0.04583492485141056), (1173, 0.04583492485141056), (1248, 0.04583492485141056), (1264, 0.04583492485141056), (1273, 0.04583492485141056), (1276, 0.04583492485141056), (1383, 0.04583492485141056), (1466, 0.04583492485141056), (1474, 0.04583492485141056), (1601, 0.04583492485141056), (1628, 0.04583492485141056), (1631, 0.04583492485141056), (1732, 0.04583492485141056), (1779, 0.04583492485141056), (1824, 0.04583492485141056), (2188, 0.04583492485141056), (2205, 0.04583492485141056), (2272, 0.04583492485141056), (2302, 0.04583492485141056), (2364, 0.04583492485141056), (2369, 0.04583492485141056), (2410, 0.04583492485141056), (2464, 0.04583492485141056), (2498, 0.04583492485141056), (2652, 0.04583492485141056), (2663, 0.04583492485141056), (2703, 0.04583492485141056), (2723, 0.04583492485141056), (2869, 0.04583492485141056), (2883, 0.04583492485141056), (2903, 0.04583492485141056), (2973, 0.04583492485141056), (3092, 0.04583492485141056), (3130, 0.04583492485141056), (3186, 0.04583492485141056), (3361, 0.04583492485141056), (3396, 0.04583492485141056), (3508, 0.04583492485141056), (3525, 0.04583492485141056), (3542, 0.04583492485141056), (3736, 0.04583492485141056), (3921, 0.04583492485141056), (3926, 0.04583492485141056), (3953, 0.04583492485141056), (3961, 0.04583492485141056), (4004, 0.04583492485141056), (4060, 0.04583492485141056), (4091, 0.04583492485141056), (4122, 0.04583492485141056), (4257, 0.04583492485141056), (4275, 0.04583492485141056), (4280, 0.04583492485141056), (4309, 0.04583492485141056), (4354, 0.04583492485141056), (4362, 0.04583492485141056), (4386, 0.04583492485141056), (4459, 0.04583492485141056), (4494, 0.04583492485141056), (4505, 0.04583492485141056), (4652, 0.04583492485141056), (4678, 0.04583492485141056), (4683, 0.04583492485141056), (4699, 0.04583492485141056), (4702, 0.04583492485141056), (4703, 0.04583492485141056), (4734, 0.04583492485141056), (4750, 0.04583492485141056), (4768, 0.04583492485141056), (189, 0.0445435403187374), (250, 0.0445435403187374), (418, 0.0445435403187374), (476, 0.0445435403187374), (529, 0.0445435403187374), (843, 0.0445435403187374), (964, 0.0445435403187374), (1064, 0.0445435403187374), (1246, 0.0445435403187374), (1280, 0.0445435403187374), (1520, 0.0445435403187374), (1524, 0.0445435403187374), (1640, 0.0445435403187374), (1700, 0.0445435403187374), (1764, 0.0445435403187374), (1823, 0.0445435403187374), (2146, 0.0445435403187374), (2227, 0.0445435403187374), (2248, 0.0445435403187374), (2271, 0.0445435403187374), (2321, 0.0445435403187374), (2322, 0.0445435403187374), (2347, 0.0445435403187374), (2382, 0.0445435403187374), (2391, 0.0445435403187374), (2429, 0.0445435403187374), (2483, 0.0445435403187374), (2487, 0.0445435403187374), (2506, 0.0445435403187374), (2577, 0.0445435403187374), (2662, 0.0445435403187374), (2859, 0.0445435403187374), (2866, 0.0445435403187374), (2891, 0.0445435403187374), (2896, 0.0445435403187374), (2924, 0.0445435403187374), (2939, 0.0445435403187374), (2971, 0.0445435403187374), (3016, 0.0445435403187374), (3026, 0.0445435403187374), (3059, 0.0445435403187374), (3066, 0.0445435403187374), (3072, 0.0445435403187374), (3116, 0.0445435403187374), (3126, 0.0445435403187374), (3200, 0.0445435403187374), (3265, 0.0445435403187374), (3295, 0.0445435403187374), (3325, 0.0445435403187374), (3373, 0.0445435403187374), (3415, 0.0445435403187374), (3519, 0.0445435403187374), (3547, 0.0445435403187374), (3569, 0.0445435403187374), (3574, 0.0445435403187374), (3692, 0.0445435403187374), (3757, 0.0445435403187374), (3777, 0.0445435403187374), (3832, 0.0445435403187374), (3847, 0.0445435403187374), (3868, 0.0445435403187374), (3922, 0.0445435403187374), (3946, 0.0445435403187374), (4028, 0.0445435403187374), (4045, 0.0445435403187374), (4112, 0.0445435403187374), (4129, 0.0445435403187374), (4294, 0.0445435403187374), (4334, 0.0445435403187374), (4338, 0.0445435403187374), (4358, 0.0445435403187374), (4456, 0.0445435403187374), (4475, 0.0445435403187374), (4483, 0.0445435403187374), (4525, 0.0445435403187374), (4613, 0.0445435403187374), (4659, 0.0445435403187374), (4677, 0.0445435403187374), (4705, 0.0445435403187374), (4762, 0.0445435403187374), (4766, 0.0445435403187374), (22, 0.04335549847620599), (264, 0.04335549847620599), (327, 0.04335549847620599), (434, 0.04335549847620599), (457, 0.04335549847620599), (540, 0.04335549847620599), (832, 0.04335549847620599), (905, 0.04335549847620599), (948, 0.04335549847620599), (986, 0.04335549847620599), (1108, 0.04335549847620599), (1168, 0.04335549847620599), (1311, 0.04335549847620599), (1316, 0.04335549847620599), (1342, 0.04335549847620599), (1345, 0.04335549847620599), (1350, 0.04335549847620599), (1353, 0.04335549847620599), (1380, 0.04335549847620599), (1381, 0.04335549847620599), (1413, 0.04335549847620599), (1471, 0.04335549847620599), (1487, 0.04335549847620599), (1504, 0.04335549847620599), (1532, 0.04335549847620599), (1649, 0.04335549847620599), (1667, 0.04335549847620599), (1777, 0.04335549847620599), (1838, 0.04335549847620599), (1954, 0.04335549847620599), (1957, 0.04335549847620599), (2009, 0.04335549847620599), (2037, 0.04335549847620599), (2048, 0.04335549847620599), (2140, 0.04335549847620599), (2164, 0.04335549847620599), (2176, 0.04335549847620599), (2189, 0.04335549847620599), (2202, 0.04335549847620599), (2228, 0.04335549847620599), (2245, 0.04335549847620599), (2251, 0.04335549847620599), (2254, 0.04335549847620599), (2266, 0.04335549847620599), (2267, 0.04335549847620599), (2268, 0.04335549847620599), (2284, 0.04335549847620599), (2326, 0.04335549847620599), (2345, 0.04335549847620599), (2452, 0.04335549847620599), (2474, 0.04335549847620599), (2531, 0.04335549847620599), (2617, 0.04335549847620599), (2714, 0.04335549847620599), (2730, 0.04335549847620599), (2734, 0.04335549847620599), (2763, 0.04335549847620599), (2776, 0.04335549847620599), (2843, 0.04335549847620599), (2844, 0.04335549847620599), (2980, 0.04335549847620599), (2985, 0.04335549847620599), (3009, 0.04335549847620599), (3028, 0.04335549847620599), (3047, 0.04335549847620599), (3105, 0.04335549847620599), (3191, 0.04335549847620599), (3206, 0.04335549847620599), (3241, 0.04335549847620599), (3254, 0.04335549847620599), (3269, 0.04335549847620599), (3272, 0.04335549847620599), (3308, 0.04335549847620599), (3310, 0.04335549847620599), (3312, 0.04335549847620599), (3315, 0.04335549847620599), (3338, 0.04335549847620599), (3344, 0.04335549847620599), (3379, 0.04335549847620599), (3419, 0.04335549847620599), (3422, 0.04335549847620599), (3441, 0.04335549847620599), (3455, 0.04335549847620599), (3489, 0.04335549847620599), (3498, 0.04335549847620599), (3550, 0.04335549847620599), (3582, 0.04335549847620599), (3609, 0.04335549847620599), (3626, 0.04335549847620599), (3627, 0.04335549847620599), (3628, 0.04335549847620599), (3631, 0.04335549847620599), (3666, 0.04335549847620599), (3778, 0.04335549847620599), (3786, 0.04335549847620599), (3818, 0.04335549847620599), (3825, 0.04335549847620599), (3842, 0.04335549847620599), (3950, 0.04335549847620599), (3982, 0.04335549847620599), (4054, 0.04335549847620599), (4058, 0.04335549847620599), (4061, 0.04335549847620599), (4094, 0.04335549847620599), (4106, 0.04335549847620599), (4109, 0.04335549847620599), (4121, 0.04335549847620599), (4128, 0.04335549847620599), (4158, 0.04335549847620599), (4164, 0.04335549847620599), (4221, 0.04335549847620599), (4272, 0.04335549847620599), (4283, 0.04335549847620599), (4324, 0.04335549847620599), (4333, 0.04335549847620599), (4345, 0.04335549847620599), (4365, 0.04335549847620599), (4429, 0.04335549847620599), (4436, 0.04335549847620599), (4444, 0.04335549847620599), (4470, 0.04335549847620599), (4654, 0.04335549847620599), (4727, 0.04335549847620599), (4753, 0.04335549847620599), (4770, 0.04335549847620599), (4789, 0.04335549847620599), (4793, 0.04335549847620599), (37, 0.042257712736425826), (171, 0.042257712736425826), (192, 0.042257712736425826), (214, 0.042257712736425826), (216, 0.042257712736425826), (251, 0.042257712736425826), (277, 0.042257712736425826), (287, 0.042257712736425826), (387, 0.042257712736425826), (408, 0.042257712736425826), (438, 0.042257712736425826), (464, 0.042257712736425826), (475, 0.042257712736425826), (537, 0.042257712736425826), (553, 0.042257712736425826), (560, 0.042257712736425826), (563, 0.042257712736425826), (632, 0.042257712736425826), (635, 0.042257712736425826), (651, 0.042257712736425826), (663, 0.042257712736425826), (707, 0.042257712736425826), (772, 0.042257712736425826), (776, 0.042257712736425826), (811, 0.042257712736425826), (818, 0.042257712736425826), (852, 0.042257712736425826), (853, 0.042257712736425826), (884, 0.042257712736425826), (991, 0.042257712736425826), (1015, 0.042257712736425826), (1066, 0.042257712736425826), (1081, 0.042257712736425826), (1113, 0.042257712736425826), (1130, 0.042257712736425826), (1141, 0.042257712736425826), (1148, 0.042257712736425826), (1161, 0.042257712736425826), (1206, 0.042257712736425826), (1235, 0.042257712736425826), (1263, 0.042257712736425826), (1277, 0.042257712736425826), (1325, 0.042257712736425826), (1386, 0.042257712736425826), (1489, 0.042257712736425826), (1509, 0.042257712736425826), (1547, 0.042257712736425826), (1572, 0.042257712736425826), (1619, 0.042257712736425826), (1693, 0.042257712736425826), (1704, 0.042257712736425826), (1714, 0.042257712736425826), (1762, 0.042257712736425826), (1770, 0.042257712736425826), (1783, 0.042257712736425826), (1793, 0.042257712736425826), (1810, 0.042257712736425826), (1908, 0.042257712736425826), (1910, 0.042257712736425826), (1916, 0.042257712736425826), (1924, 0.042257712736425826), (1925, 0.042257712736425826), (1941, 0.042257712736425826), (2049, 0.042257712736425826), (2075, 0.042257712736425826), (2082, 0.042257712736425826), (2105, 0.042257712736425826), (2150, 0.042257712736425826), (2161, 0.042257712736425826), (2170, 0.042257712736425826), (2192, 0.042257712736425826), (2297, 0.042257712736425826), (2298, 0.042257712736425826), (2300, 0.042257712736425826), (2331, 0.042257712736425826), (2358, 0.042257712736425826), (2406, 0.042257712736425826), (2419, 0.042257712736425826), (2425, 0.042257712736425826), (2463, 0.042257712736425826), (2472, 0.042257712736425826), (2482, 0.042257712736425826), (2512, 0.042257712736425826), (2513, 0.042257712736425826), (2520, 0.042257712736425826), (2562, 0.042257712736425826), (2580, 0.042257712736425826), (2585, 0.042257712736425826), (2599, 0.042257712736425826), (2656, 0.042257712736425826), (2686, 0.042257712736425826), (2765, 0.042257712736425826), (2771, 0.042257712736425826), (2778, 0.042257712736425826), (2813, 0.042257712736425826), (2814, 0.042257712736425826), (2907, 0.042257712736425826), (2919, 0.042257712736425826), (2944, 0.042257712736425826), (2962, 0.042257712736425826), (2975, 0.042257712736425826), (3000, 0.042257712736425826), (3005, 0.042257712736425826), (3060, 0.042257712736425826), (3070, 0.042257712736425826), (3075, 0.042257712736425826), (3095, 0.042257712736425826), (3096, 0.042257712736425826), (3102, 0.042257712736425826), (3212, 0.042257712736425826), (3217, 0.042257712736425826), (3222, 0.042257712736425826), (3258, 0.042257712736425826), (3266, 0.042257712736425826), (3307, 0.042257712736425826), (3321, 0.042257712736425826), (3330, 0.042257712736425826), (3367, 0.042257712736425826), (3394, 0.042257712736425826), (3403, 0.042257712736425826), (3408, 0.042257712736425826), (3436, 0.042257712736425826), (3527, 0.042257712736425826), (3529, 0.042257712736425826), (3554, 0.042257712736425826), (3561, 0.042257712736425826), (3562, 0.042257712736425826), (3585, 0.042257712736425826), (3587, 0.042257712736425826), (3641, 0.042257712736425826), (3645, 0.042257712736425826), (3664, 0.042257712736425826), (3678, 0.042257712736425826), (3681, 0.042257712736425826), (3740, 0.042257712736425826), (3797, 0.042257712736425826), (3801, 0.042257712736425826), (3835, 0.042257712736425826), (3856, 0.042257712736425826), (3862, 0.042257712736425826), (3865, 0.042257712736425826), (3924, 0.042257712736425826), (4064, 0.042257712736425826), (4074, 0.042257712736425826), (4093, 0.042257712736425826), (4101, 0.042257712736425826), (4153, 0.042257712736425826), (4154, 0.042257712736425826), (4224, 0.042257712736425826), (4244, 0.042257712736425826), (4251, 0.042257712736425826), (4346, 0.042257712736425826), (4355, 0.042257712736425826), (4360, 0.042257712736425826), (4406, 0.042257712736425826), (4412, 0.042257712736425826), (4460, 0.042257712736425826), (4514, 0.042257712736425826), (4520, 0.042257712736425826), (4535, 0.042257712736425826), (4539, 0.042257712736425826), (4643, 0.042257712736425826), (4668, 0.042257712736425826), (4706, 0.042257712736425826), (4707, 0.042257712736425826), (4747, 0.042257712736425826), (4787, 0.042257712736425826), (44, 0.041239304942116126), (49, 0.041239304942116126), (80, 0.041239304942116126), (107, 0.041239304942116126), (157, 0.041239304942116126), (170, 0.041239304942116126), (213, 0.041239304942116126), (219, 0.041239304942116126), (227, 0.041239304942116126), (231, 0.041239304942116126), (244, 0.041239304942116126), (318, 0.041239304942116126), (382, 0.041239304942116126), (390, 0.041239304942116126), (396, 0.041239304942116126), (462, 0.041239304942116126), (474, 0.041239304942116126), (517, 0.041239304942116126), (526, 0.041239304942116126), (614, 0.041239304942116126), (637, 0.041239304942116126), (734, 0.041239304942116126), (771, 0.041239304942116126), (831, 0.041239304942116126), (834, 0.041239304942116126), (845, 0.041239304942116126), (860, 0.041239304942116126), (865, 0.041239304942116126), (880, 0.041239304942116126), (917, 0.041239304942116126), (928, 0.041239304942116126), (940, 0.041239304942116126), (945, 0.041239304942116126), (960, 0.041239304942116126), (993, 0.041239304942116126), (1109, 0.041239304942116126), (1143, 0.041239304942116126), (1162, 0.041239304942116126), (1172, 0.041239304942116126), (1187, 0.041239304942116126), (1204, 0.041239304942116126), (1205, 0.041239304942116126), (1211, 0.041239304942116126), (1221, 0.041239304942116126), (1227, 0.041239304942116126), (1283, 0.041239304942116126), (1302, 0.041239304942116126), (1314, 0.041239304942116126), (1321, 0.041239304942116126), (1330, 0.041239304942116126), (1336, 0.041239304942116126), (1362, 0.041239304942116126), (1391, 0.041239304942116126), (1411, 0.041239304942116126), (1427, 0.041239304942116126), (1433, 0.041239304942116126), (1476, 0.041239304942116126), (1492, 0.041239304942116126), (1516, 0.041239304942116126), (1571, 0.041239304942116126), (1577, 0.041239304942116126), (1734, 0.041239304942116126), (1760, 0.041239304942116126), (1769, 0.041239304942116126), (1776, 0.041239304942116126), (1807, 0.041239304942116126), (1809, 0.041239304942116126), (1820, 0.041239304942116126), (1843, 0.041239304942116126), (1866, 0.041239304942116126), (1869, 0.041239304942116126), (1903, 0.041239304942116126), (1918, 0.041239304942116126), (1920, 0.041239304942116126), (1935, 0.041239304942116126), (1953, 0.041239304942116126), (1958, 0.041239304942116126), (1973, 0.041239304942116126), (1998, 0.041239304942116126), (2041, 0.041239304942116126), (2078, 0.041239304942116126), (2080, 0.041239304942116126), (2088, 0.041239304942116126), (2123, 0.041239304942116126), (2128, 0.041239304942116126), (2246, 0.041239304942116126), (2276, 0.041239304942116126), (2287, 0.041239304942116126), (2288, 0.041239304942116126), (2289, 0.041239304942116126), (2308, 0.041239304942116126), (2317, 0.041239304942116126), (2343, 0.041239304942116126), (2350, 0.041239304942116126), (2385, 0.041239304942116126), (2386, 0.041239304942116126), (2423, 0.041239304942116126), (2432, 0.041239304942116126), (2473, 0.041239304942116126), (2532, 0.041239304942116126), (2581, 0.041239304942116126), (2586, 0.041239304942116126), (2608, 0.041239304942116126), (2620, 0.041239304942116126), (2643, 0.041239304942116126), (2668, 0.041239304942116126), (2697, 0.041239304942116126), (2721, 0.041239304942116126), (2724, 0.041239304942116126), (2733, 0.041239304942116126), (2748, 0.041239304942116126), (2752, 0.041239304942116126), (2760, 0.041239304942116126), (2788, 0.041239304942116126), (2849, 0.041239304942116126), (2870, 0.041239304942116126), (2879, 0.041239304942116126), (2920, 0.041239304942116126), (2922, 0.041239304942116126), (2942, 0.041239304942116126), (3034, 0.041239304942116126), (3039, 0.041239304942116126), (3071, 0.041239304942116126), (3118, 0.041239304942116126), (3153, 0.041239304942116126), (3160, 0.041239304942116126), (3161, 0.041239304942116126), (3169, 0.041239304942116126), (3220, 0.041239304942116126), (3285, 0.041239304942116126), (3341, 0.041239304942116126), (3347, 0.041239304942116126), (3426, 0.041239304942116126), (3452, 0.041239304942116126), (3457, 0.041239304942116126), (3465, 0.041239304942116126), (3490, 0.041239304942116126), (3545, 0.041239304942116126), (3549, 0.041239304942116126), (3570, 0.041239304942116126), (3629, 0.041239304942116126), (3651, 0.041239304942116126), (3659, 0.041239304942116126), (3663, 0.041239304942116126), (3710, 0.041239304942116126), (3719, 0.041239304942116126), (3745, 0.041239304942116126), (3782, 0.041239304942116126), (3783, 0.041239304942116126), (3805, 0.041239304942116126), (3824, 0.041239304942116126), (3838, 0.041239304942116126), (3892, 0.041239304942116126), (3899, 0.041239304942116126), (3900, 0.041239304942116126), (3927, 0.041239304942116126), (3941, 0.041239304942116126), (3999, 0.041239304942116126), (4013, 0.041239304942116126), (4032, 0.041239304942116126), (4114, 0.041239304942116126), (4115, 0.041239304942116126), (4132, 0.041239304942116126), (4150, 0.041239304942116126), (4155, 0.041239304942116126), (4189, 0.041239304942116126), (4191, 0.041239304942116126), (4192, 0.041239304942116126), (4218, 0.041239304942116126), (4222, 0.041239304942116126), (4228, 0.041239304942116126), (4231, 0.041239304942116126), (4306, 0.041239304942116126), (4348, 0.041239304942116126), (4351, 0.041239304942116126), (4359, 0.041239304942116126), (4380, 0.041239304942116126), (4388, 0.041239304942116126), (4427, 0.041239304942116126), (4438, 0.041239304942116126), (4443, 0.041239304942116126), (4542, 0.041239304942116126), (4695, 0.041239304942116126), (4700, 0.041239304942116126), (4720, 0.041239304942116126), (4738, 0.041239304942116126), (4744, 0.041239304942116126), (8, 0.04029114820126901), (19, 0.04029114820126901), (53, 0.04029114820126901), (85, 0.04029114820126901), (90, 0.04029114820126901), (98, 0.04029114820126901), (100, 0.04029114820126901), (101, 0.04029114820126901), (103, 0.04029114820126901), (155, 0.04029114820126901), (165, 0.04029114820126901), (222, 0.04029114820126901), (282, 0.04029114820126901), (288, 0.04029114820126901), (307, 0.04029114820126901), (310, 0.04029114820126901), (324, 0.04029114820126901), (360, 0.04029114820126901), (386, 0.04029114820126901), (391, 0.04029114820126901), (454, 0.04029114820126901), (460, 0.04029114820126901), (477, 0.04029114820126901), (501, 0.04029114820126901), (516, 0.04029114820126901), (521, 0.04029114820126901), (524, 0.04029114820126901), (552, 0.04029114820126901), (559, 0.04029114820126901), (562, 0.04029114820126901), (564, 0.04029114820126901), (567, 0.04029114820126901), (571, 0.04029114820126901), (592, 0.04029114820126901), (610, 0.04029114820126901), (647, 0.04029114820126901), (653, 0.04029114820126901), (675, 0.04029114820126901), (697, 0.04029114820126901), (698, 0.04029114820126901), (765, 0.04029114820126901), (770, 0.04029114820126901), (779, 0.04029114820126901), (808, 0.04029114820126901), (822, 0.04029114820126901), (827, 0.04029114820126901), (839, 0.04029114820126901), (896, 0.04029114820126901), (902, 0.04029114820126901), (904, 0.04029114820126901), (915, 0.04029114820126901), (926, 0.04029114820126901), (932, 0.04029114820126901), (951, 0.04029114820126901), (985, 0.04029114820126901), (1089, 0.04029114820126901), (1091, 0.04029114820126901), (1160, 0.04029114820126901), (1196, 0.04029114820126901), (1244, 0.04029114820126901), (1255, 0.04029114820126901), (1260, 0.04029114820126901), (1310, 0.04029114820126901), (1327, 0.04029114820126901), (1351, 0.04029114820126901), (1424, 0.04029114820126901), (1440, 0.04029114820126901), (1442, 0.04029114820126901), (1467, 0.04029114820126901), (1475, 0.04029114820126901), (1477, 0.04029114820126901), (1496, 0.04029114820126901), (1526, 0.04029114820126901), (1536, 0.04029114820126901), (1584, 0.04029114820126901), (1685, 0.04029114820126901), (1695, 0.04029114820126901), (1711, 0.04029114820126901), (1712, 0.04029114820126901), (1759, 0.04029114820126901), (1763, 0.04029114820126901), (1798, 0.04029114820126901), (1799, 0.04029114820126901), (1819, 0.04029114820126901), (1844, 0.04029114820126901), (1851, 0.04029114820126901), (1852, 0.04029114820126901), (1865, 0.04029114820126901), (1867, 0.04029114820126901), (1905, 0.04029114820126901), (1968, 0.04029114820126901), (1982, 0.04029114820126901), (2085, 0.04029114820126901), (2109, 0.04029114820126901), (2135, 0.04029114820126901), (2147, 0.04029114820126901), (2152, 0.04029114820126901), (2162, 0.04029114820126901), (2177, 0.04029114820126901), (2211, 0.04029114820126901), (2232, 0.04029114820126901), (2234, 0.04029114820126901), (2261, 0.04029114820126901), (2301, 0.04029114820126901), (2340, 0.04029114820126901), (2361, 0.04029114820126901), (2374, 0.04029114820126901), (2390, 0.04029114820126901), (2489, 0.04029114820126901), (2492, 0.04029114820126901), (2509, 0.04029114820126901), (2534, 0.04029114820126901), (2549, 0.04029114820126901), (2584, 0.04029114820126901), (2636, 0.04029114820126901), (2665, 0.04029114820126901), (2666, 0.04029114820126901), (2692, 0.04029114820126901), (2710, 0.04029114820126901), (2737, 0.04029114820126901), (2739, 0.04029114820126901), (2749, 0.04029114820126901), (2786, 0.04029114820126901), (2827, 0.04029114820126901), (2838, 0.04029114820126901), (2852, 0.04029114820126901), (2912, 0.04029114820126901), (2936, 0.04029114820126901), (2940, 0.04029114820126901), (2947, 0.04029114820126901), (2952, 0.04029114820126901), (2955, 0.04029114820126901), (2983, 0.04029114820126901), (2988, 0.04029114820126901), (2992, 0.04029114820126901), (2993, 0.04029114820126901), (2997, 0.04029114820126901), (3007, 0.04029114820126901), (3113, 0.04029114820126901), (3120, 0.04029114820126901), (3188, 0.04029114820126901), (3201, 0.04029114820126901), (3301, 0.04029114820126901), (3364, 0.04029114820126901), (3365, 0.04029114820126901), (3380, 0.04029114820126901), (3405, 0.04029114820126901), (3414, 0.04029114820126901), (3434, 0.04029114820126901), (3442, 0.04029114820126901), (3480, 0.04029114820126901), (3483, 0.04029114820126901), (3496, 0.04029114820126901), (3499, 0.04029114820126901), (3512, 0.04029114820126901), (3534, 0.04029114820126901), (3536, 0.04029114820126901), (3540, 0.04029114820126901), (3579, 0.04029114820126901), (3608, 0.04029114820126901), (3612, 0.04029114820126901), (3621, 0.04029114820126901), (3633, 0.04029114820126901), (3654, 0.04029114820126901), (3690, 0.04029114820126901), (3717, 0.04029114820126901), (3748, 0.04029114820126901), (3761, 0.04029114820126901), (3769, 0.04029114820126901), (3795, 0.04029114820126901), (3802, 0.04029114820126901), (3810, 0.04029114820126901), (3867, 0.04029114820126901), (3872, 0.04029114820126901), (3874, 0.04029114820126901), (3965, 0.04029114820126901), (3983, 0.04029114820126901), (3989, 0.04029114820126901), (4008, 0.04029114820126901), (4023, 0.04029114820126901), (4067, 0.04029114820126901), (4130, 0.04029114820126901), (4145, 0.04029114820126901), (4177, 0.04029114820126901), (4194, 0.04029114820126901), (4201, 0.04029114820126901), (4264, 0.04029114820126901), (4295, 0.04029114820126901), (4303, 0.04029114820126901), (4331, 0.04029114820126901), (4379, 0.04029114820126901), (4434, 0.04029114820126901), (4518, 0.04029114820126901), (4588, 0.04029114820126901), (4591, 0.04029114820126901), (4595, 0.04029114820126901), (4624, 0.04029114820126901), (4636, 0.04029114820126901), (4719, 0.04029114820126901), (4795, 0.04029114820126901), (76, 0.03940552031195503), (78, 0.03940552031195503), (82, 0.03940552031195503), (105, 0.03940552031195503), (112, 0.03940552031195503), (144, 0.03940552031195503), (180, 0.03940552031195503), (197, 0.03940552031195503), (211, 0.03940552031195503), (237, 0.03940552031195503), (265, 0.03940552031195503), (317, 0.03940552031195503), (362, 0.03940552031195503), (439, 0.03940552031195503), (459, 0.03940552031195503), (470, 0.03940552031195503), (484, 0.03940552031195503), (508, 0.03940552031195503), (528, 0.03940552031195503), (544, 0.03940552031195503), (585, 0.03940552031195503), (589, 0.03940552031195503), (597, 0.03940552031195503), (648, 0.03940552031195503), (662, 0.03940552031195503), (671, 0.03940552031195503), (676, 0.03940552031195503), (749, 0.03940552031195503), (823, 0.03940552031195503), (907, 0.03940552031195503), (924, 0.03940552031195503), (929, 0.03940552031195503), (947, 0.03940552031195503), (961, 0.03940552031195503), (987, 0.03940552031195503), (1006, 0.03940552031195503), (1026, 0.03940552031195503), (1030, 0.03940552031195503), (1055, 0.03940552031195503), (1074, 0.03940552031195503), (1095, 0.03940552031195503), (1116, 0.03940552031195503), (1123, 0.03940552031195503), (1284, 0.03940552031195503), (1318, 0.03940552031195503), (1360, 0.03940552031195503), (1401, 0.03940552031195503), (1449, 0.03940552031195503), (1500, 0.03940552031195503), (1507, 0.03940552031195503), (1508, 0.03940552031195503), (1545, 0.03940552031195503), (1546, 0.03940552031195503), (1565, 0.03940552031195503), (1570, 0.03940552031195503), (1575, 0.03940552031195503), (1611, 0.03940552031195503), (1636, 0.03940552031195503), (1677, 0.03940552031195503), (1689, 0.03940552031195503), (1694, 0.03940552031195503), (1697, 0.03940552031195503), (1710, 0.03940552031195503), (1737, 0.03940552031195503), (1784, 0.03940552031195503), (1811, 0.03940552031195503), (1813, 0.03940552031195503), (1832, 0.03940552031195503), (1842, 0.03940552031195503), (1885, 0.03940552031195503), (1886, 0.03940552031195503), (1922, 0.03940552031195503), (1956, 0.03940552031195503), (1972, 0.03940552031195503), (1984, 0.03940552031195503), (2025, 0.03940552031195503), (2030, 0.03940552031195503), (2044, 0.03940552031195503), (2051, 0.03940552031195503), (2155, 0.03940552031195503), (2166, 0.03940552031195503), (2179, 0.03940552031195503), (2210, 0.03940552031195503), (2233, 0.03940552031195503), (2257, 0.03940552031195503), (2316, 0.03940552031195503), (2338, 0.03940552031195503), (2362, 0.03940552031195503), (2368, 0.03940552031195503), (2397, 0.03940552031195503), (2404, 0.03940552031195503), (2407, 0.03940552031195503), (2431, 0.03940552031195503), (2449, 0.03940552031195503), (2465, 0.03940552031195503), (2499, 0.03940552031195503), (2518, 0.03940552031195503), (2552, 0.03940552031195503), (2595, 0.03940552031195503), (2605, 0.03940552031195503), (2630, 0.03940552031195503), (2675, 0.03940552031195503), (2701, 0.03940552031195503), (2711, 0.03940552031195503), (2719, 0.03940552031195503), (2766, 0.03940552031195503), (2794, 0.03940552031195503), (2811, 0.03940552031195503), (2824, 0.03940552031195503), (2881, 0.03940552031195503), (2887, 0.03940552031195503), (2901, 0.03940552031195503), (2917, 0.03940552031195503), (2927, 0.03940552031195503), (2934, 0.03940552031195503), (2967, 0.03940552031195503), (2969, 0.03940552031195503), (2984, 0.03940552031195503), (3041, 0.03940552031195503), (3085, 0.03940552031195503), (3104, 0.03940552031195503), (3145, 0.03940552031195503), (3198, 0.03940552031195503), (3204, 0.03940552031195503), (3323, 0.03940552031195503), (3384, 0.03940552031195503), (3385, 0.03940552031195503), (3404, 0.03940552031195503), (3433, 0.03940552031195503), (3462, 0.03940552031195503), (3514, 0.03940552031195503), (3552, 0.03940552031195503), (3588, 0.03940552031195503), (3602, 0.03940552031195503), (3624, 0.03940552031195503), (3667, 0.03940552031195503), (3689, 0.03940552031195503), (3695, 0.03940552031195503), (3764, 0.03940552031195503), (3780, 0.03940552031195503), (3788, 0.03940552031195503), (3844, 0.03940552031195503), (3876, 0.03940552031195503), (3877, 0.03940552031195503), (3879, 0.03940552031195503), (3973, 0.03940552031195503), (4021, 0.03940552031195503), (4030, 0.03940552031195503), (4053, 0.03940552031195503), (4127, 0.03940552031195503), (4170, 0.03940552031195503), (4204, 0.03940552031195503), (4281, 0.03940552031195503), (4312, 0.03940552031195503), (4402, 0.03940552031195503), (4403, 0.03940552031195503), (4437, 0.03940552031195503), (4463, 0.03940552031195503), (4485, 0.03940552031195503), (4498, 0.03940552031195503), (4533, 0.03940552031195503), (4549, 0.03940552031195503), (4567, 0.03940552031195503), (4572, 0.03940552031195503), (4603, 0.03940552031195503), (4605, 0.03940552031195503), (4637, 0.03940552031195503), (4648, 0.03940552031195503), (4758, 0.03940552031195503), (69, 0.03857583749052298), (106, 0.03857583749052298), (151, 0.03857583749052298), (200, 0.03857583749052298), (270, 0.03857583749052298), (276, 0.03857583749052298), (320, 0.03857583749052298), (328, 0.03857583749052298), (376, 0.03857583749052298), (379, 0.03857583749052298), (383, 0.03857583749052298), (413, 0.03857583749052298), (416, 0.03857583749052298), (510, 0.03857583749052298), (542, 0.03857583749052298), (557, 0.03857583749052298), (558, 0.03857583749052298), (596, 0.03857583749052298), (625, 0.03857583749052298), (639, 0.03857583749052298), (645, 0.03857583749052298), (656, 0.03857583749052298), (685, 0.03857583749052298), (686, 0.03857583749052298), (688, 0.03857583749052298), (703, 0.03857583749052298), (720, 0.03857583749052298), (735, 0.03857583749052298), (766, 0.03857583749052298), (794, 0.03857583749052298), (814, 0.03857583749052298), (816, 0.03857583749052298), (909, 0.03857583749052298), (979, 0.03857583749052298), (1022, 0.03857583749052298), (1027, 0.03857583749052298), (1035, 0.03857583749052298), (1094, 0.03857583749052298), (1210, 0.03857583749052298), (1240, 0.03857583749052298), (1292, 0.03857583749052298), (1307, 0.03857583749052298), (1406, 0.03857583749052298), (1461, 0.03857583749052298), (1472, 0.03857583749052298), (1539, 0.03857583749052298), (1566, 0.03857583749052298), (1613, 0.03857583749052298), (1652, 0.03857583749052298), (1669, 0.03857583749052298), (1705, 0.03857583749052298), (1706, 0.03857583749052298), (1717, 0.03857583749052298), (1736, 0.03857583749052298), (1744, 0.03857583749052298), (1750, 0.03857583749052298), (1761, 0.03857583749052298), (1831, 0.03857583749052298), (1906, 0.03857583749052298), (1975, 0.03857583749052298), (1990, 0.03857583749052298), (1993, 0.03857583749052298), (2115, 0.03857583749052298), (2117, 0.03857583749052298), (2121, 0.03857583749052298), (2126, 0.03857583749052298), (2186, 0.03857583749052298), (2198, 0.03857583749052298), (2204, 0.03857583749052298), (2236, 0.03857583749052298), (2285, 0.03857583749052298), (2330, 0.03857583749052298), (2405, 0.03857583749052298), (2504, 0.03857583749052298), (2516, 0.03857583749052298), (2550, 0.03857583749052298), (2557, 0.03857583749052298), (2615, 0.03857583749052298), (2654, 0.03857583749052298), (2664, 0.03857583749052298), (2671, 0.03857583749052298), (2685, 0.03857583749052298), (2694, 0.03857583749052298), (2704, 0.03857583749052298), (2713, 0.03857583749052298), (2718, 0.03857583749052298), (2751, 0.03857583749052298), (2796, 0.03857583749052298), (2808, 0.03857583749052298), (2826, 0.03857583749052298), (2863, 0.03857583749052298), (2894, 0.03857583749052298), (2913, 0.03857583749052298), (2950, 0.03857583749052298), (2981, 0.03857583749052298), (3109, 0.03857583749052298), (3138, 0.03857583749052298), (3219, 0.03857583749052298), (3221, 0.03857583749052298), (3231, 0.03857583749052298), (3253, 0.03857583749052298), (3298, 0.03857583749052298), (3328, 0.03857583749052298), (3333, 0.03857583749052298), (3339, 0.03857583749052298), (3343, 0.03857583749052298), (3421, 0.03857583749052298), (3435, 0.03857583749052298), (3439, 0.03857583749052298), (3445, 0.03857583749052298), (3520, 0.03857583749052298), (3522, 0.03857583749052298), (3532, 0.03857583749052298), (3535, 0.03857583749052298), (3560, 0.03857583749052298), (3571, 0.03857583749052298), (3593, 0.03857583749052298), (3705, 0.03857583749052298), (3711, 0.03857583749052298), (3713, 0.03857583749052298), (3864, 0.03857583749052298), (3895, 0.03857583749052298), (3920, 0.03857583749052298), (3994, 0.03857583749052298), (4071, 0.03857583749052298), (4104, 0.03857583749052298), (4157, 0.03857583749052298), (4165, 0.03857583749052298), (4175, 0.03857583749052298), (4238, 0.03857583749052298), (4373, 0.03857583749052298), (4398, 0.03857583749052298), (4423, 0.03857583749052298), (4439, 0.03857583749052298), (4497, 0.03857583749052298), (4507, 0.03857583749052298), (4527, 0.03857583749052298), (4532, 0.03857583749052298), (4615, 0.03857583749052298), (4715, 0.03857583749052298), (4724, 0.03857583749052298), (10, 0.03779644730092272), (13, 0.03779644730092272), (31, 0.03779644730092272), (68, 0.03779644730092272), (94, 0.03779644730092272), (114, 0.03779644730092272), (133, 0.03779644730092272), (183, 0.03779644730092272), (232, 0.03779644730092272), (248, 0.03779644730092272), (260, 0.03779644730092272), (263, 0.03779644730092272), (266, 0.03779644730092272), (301, 0.03779644730092272), (349, 0.03779644730092272), (400, 0.03779644730092272), (469, 0.03779644730092272), (482, 0.03779644730092272), (483, 0.03779644730092272), (622, 0.03779644730092272), (694, 0.03779644730092272), (710, 0.03779644730092272), (737, 0.03779644730092272), (850, 0.03779644730092272), (920, 0.03779644730092272), (925, 0.03779644730092272), (1080, 0.03779644730092272), (1117, 0.03779644730092272), (1150, 0.03779644730092272), (1154, 0.03779644730092272), (1155, 0.03779644730092272), (1158, 0.03779644730092272), (1165, 0.03779644730092272), (1181, 0.03779644730092272), (1323, 0.03779644730092272), (1333, 0.03779644730092272), (1373, 0.03779644730092272), (1422, 0.03779644730092272), (1459, 0.03779644730092272), (1511, 0.03779644730092272), (1515, 0.03779644730092272), (1671, 0.03779644730092272), (1756, 0.03779644730092272), (1786, 0.03779644730092272), (1818, 0.03779644730092272), (1836, 0.03779644730092272), (1840, 0.03779644730092272), (1864, 0.03779644730092272), (1888, 0.03779644730092272), (1895, 0.03779644730092272), (1940, 0.03779644730092272), (2013, 0.03779644730092272), (2053, 0.03779644730092272), (2129, 0.03779644730092272), (2241, 0.03779644730092272), (2243, 0.03779644730092272), (2296, 0.03779644730092272), (2310, 0.03779644730092272), (2335, 0.03779644730092272), (2359, 0.03779644730092272), (2365, 0.03779644730092272), (2377, 0.03779644730092272), (2517, 0.03779644730092272), (2522, 0.03779644730092272), (2564, 0.03779644730092272), (2568, 0.03779644730092272), (2641, 0.03779644730092272), (2645, 0.03779644730092272), (2651, 0.03779644730092272), (2696, 0.03779644730092272), (2726, 0.03779644730092272), (2732, 0.03779644730092272), (2753, 0.03779644730092272), (2798, 0.03779644730092272), (2815, 0.03779644730092272), (2829, 0.03779644730092272), (2835, 0.03779644730092272), (2847, 0.03779644730092272), (2906, 0.03779644730092272), (2949, 0.03779644730092272), (2951, 0.03779644730092272), (3006, 0.03779644730092272), (3044, 0.03779644730092272), (3057, 0.03779644730092272), (3100, 0.03779644730092272), (3131, 0.03779644730092272), (3184, 0.03779644730092272), (3208, 0.03779644730092272), (3209, 0.03779644730092272), (3252, 0.03779644730092272), (3375, 0.03779644730092272), (3388, 0.03779644730092272), (3481, 0.03779644730092272), (3482, 0.03779644730092272), (3556, 0.03779644730092272), (3576, 0.03779644730092272), (3599, 0.03779644730092272), (3619, 0.03779644730092272), (3635, 0.03779644730092272), (3673, 0.03779644730092272), (3722, 0.03779644730092272), (3821, 0.03779644730092272), (3896, 0.03779644730092272), (3962, 0.03779644730092272), (4202, 0.03779644730092272), (4271, 0.03779644730092272), (4332, 0.03779644730092272), (4563, 0.03779644730092272), (4687, 0.03779644730092272), (4717, 0.03779644730092272), (64, 0.03706246583305506), (97, 0.03706246583305506), (223, 0.03706246583305506), (234, 0.03706246583305506), (293, 0.03706246583305506), (404, 0.03706246583305506), (409, 0.03706246583305506), (410, 0.03706246583305506), (412, 0.03706246583305506), (471, 0.03706246583305506), (532, 0.03706246583305506), (575, 0.03706246583305506), (587, 0.03706246583305506), (680, 0.03706246583305506), (693, 0.03706246583305506), (806, 0.03706246583305506), (1036, 0.03706246583305506), (1102, 0.03706246583305506), (1112, 0.03706246583305506), (1126, 0.03706246583305506), (1128, 0.03706246583305506), (1298, 0.03706246583305506), (1332, 0.03706246583305506), (1540, 0.03706246583305506), (1551, 0.03706246583305506), (1557, 0.03706246583305506), (1608, 0.03706246583305506), (1686, 0.03706246583305506), (1754, 0.03706246583305506), (1814, 0.03706246583305506), (1870, 0.03706246583305506), (1948, 0.03706246583305506), (1965, 0.03706246583305506), (1994, 0.03706246583305506), (2019, 0.03706246583305506), (2099, 0.03706246583305506), (2103, 0.03706246583305506), (2173, 0.03706246583305506), (2178, 0.03706246583305506), (2203, 0.03706246583305506), (2213, 0.03706246583305506), (2334, 0.03706246583305506), (2488, 0.03706246583305506), (2515, 0.03706246583305506), (2524, 0.03706246583305506), (2572, 0.03706246583305506), (2659, 0.03706246583305506), (2680, 0.03706246583305506), (2700, 0.03706246583305506), (2742, 0.03706246583305506), (2759, 0.03706246583305506), (2810, 0.03706246583305506), (2860, 0.03706246583305506), (2946, 0.03706246583305506), (3063, 0.03706246583305506), (3068, 0.03706246583305506), (3283, 0.03706246583305506), (3288, 0.03706246583305506), (3382, 0.03706246583305506), (3407, 0.03706246583305506), (3424, 0.03706246583305506), (3466, 0.03706246583305506), (3472, 0.03706246583305506), (3474, 0.03706246583305506), (3511, 0.03706246583305506), (3558, 0.03706246583305506), (3605, 0.03706246583305506), (3776, 0.03706246583305506), (3974, 0.03706246583305506), (4081, 0.03706246583305506), (4367, 0.03706246583305506), (4448, 0.03706246583305506), (4465, 0.03706246583305506), (4582, 0.03706246583305506), (4593, 0.03706246583305506), (4686, 0.03706246583305506), (4696, 0.03706246583305506), (0, 0.036369648372665396), (59, 0.036369648372665396), (84, 0.036369648372665396), (117, 0.036369648372665396), (145, 0.036369648372665396), (236, 0.036369648372665396), (333, 0.036369648372665396), (353, 0.036369648372665396), (358, 0.036369648372665396), (491, 0.036369648372665396), (889, 0.036369648372665396), (999, 0.036369648372665396), (1138, 0.036369648372665396), (1300, 0.036369648372665396), (1308, 0.036369648372665396), (1315, 0.036369648372665396), (1483, 0.036369648372665396), (1563, 0.036369648372665396), (1923, 0.036369648372665396), (1938, 0.036369648372665396), (2017, 0.036369648372665396), (2043, 0.036369648372665396), (2096, 0.036369648372665396), (2381, 0.036369648372665396), (2479, 0.036369648372665396), (2624, 0.036369648372665396), (2638, 0.036369648372665396), (2725, 0.036369648372665396), (2727, 0.036369648372665396), (2807, 0.036369648372665396), (2825, 0.036369648372665396), (2893, 0.036369648372665396), (2904, 0.036369648372665396), (2925, 0.036369648372665396), (3054, 0.036369648372665396), (3084, 0.036369648372665396), (3149, 0.036369648372665396), (3369, 0.036369648372665396), (3370, 0.036369648372665396), (3446, 0.036369648372665396), (3494, 0.036369648372665396), (3708, 0.036369648372665396), (4049, 0.036369648372665396), (4173, 0.036369648372665396), (4178, 0.036369648372665396), (4182, 0.036369648372665396), (4197, 0.036369648372665396), (4260, 0.036369648372665396), (4350, 0.036369648372665396), (4486, 0.036369648372665396), (4487, 0.036369648372665396), (4635, 0.036369648372665396), (4661, 0.036369648372665396), (26, 0.035714285714285705), (79, 0.035714285714285705), (160, 0.035714285714285705), (292, 0.035714285714285705), (380, 0.035714285714285705), (411, 0.035714285714285705), (576, 0.035714285714285705), (744, 0.035714285714285705), (870, 0.035714285714285705), (1065, 0.035714285714285705), (1086, 0.035714285714285705), (1188, 0.035714285714285705), (1223, 0.035714285714285705), (1454, 0.035714285714285705), (1561, 0.035714285714285705), (1731, 0.035714285714285705), (1921, 0.035714285714285705), (1932, 0.035714285714285705), (2190, 0.035714285714285705), (2565, 0.035714285714285705), (2667, 0.035714285714285705), (3027, 0.035714285714285705), (3238, 0.035714285714285705), (3448, 0.035714285714285705), (3476, 0.035714285714285705), (3596, 0.035714285714285705), (3675, 0.035714285714285705), (3759, 0.035714285714285705), (4019, 0.035714285714285705), (4062, 0.035714285714285705), (4084, 0.035714285714285705), (4085, 0.035714285714285705), (4249, 0.035714285714285705), (4453, 0.035714285714285705), (4512, 0.035714285714285705), (46, 0.035093120317179816), (742, 0.035093120317179816), (800, 0.035093120317179816), (903, 0.035093120317179816), (1007, 0.035093120317179816), (1531, 0.035093120317179816), (1735, 0.035093120317179816), (1817, 0.035093120317179816), (1855, 0.035093120317179816), (1959, 0.035093120317179816), (2148, 0.035093120317179816), (2262, 0.035093120317179816), (2757, 0.035093120317179816), (2758, 0.035093120317179816), (2840, 0.035093120317179816), (2953, 0.035093120317179816), (3124, 0.035093120317179816), (3350, 0.035093120317179816), (3473, 0.035093120317179816), (3906, 0.035093120317179816), (3937, 0.035093120317179816), (4171, 0.035093120317179816), (4672, 0.035093120317179816), (7, 0.034503277967117704), (456, 0.034503277967117704), (878, 0.034503277967117704), (977, 0.034503277967117704), (1200, 0.034503277967117704), (1745, 0.034503277967117704), (1878, 0.034503277967117704), (2138, 0.034503277967117704), (2503, 0.034503277967117704), (3023, 0.034503277967117704), (3227, 0.034503277967117704), (3289, 0.034503277967117704), (3940, 0.034503277967117704), (4078, 0.034503277967117704), (4095, 0.034503277967117704), (4220, 0.034503277967117704), (4378, 0.034503277967117704), (4454, 0.034503277967117704), (4796, 0.034503277967117704), (16, 0.03394221166510653), (452, 0.03394221166510653), (1672, 0.03394221166510653), (2628, 0.03394221166510653), (2660, 0.03394221166510653), (2877, 0.03394221166510653), (3731, 0.03394221166510653), (4107, 0.03394221166510653), (4250, 0.03394221166510653), (24, 0.03340765523905304), (658, 0.03340765523905304), (1274, 0.03340765523905304), (1696, 0.03340765523905304), (2016, 0.03340765523905304), (2106, 0.03340765523905304), (2399, 0.03340765523905304), (2832, 0.03340765523905304), (2871, 0.03340765523905304), (3583, 0.03340765523905304), (4452, 0.03340765523905304), (1304, 0.03289758474798845), (2787, 0.03289758474798845), (3413, 0.03289758474798845), (4010, 0.03289758474798845), (4134, 0.03289758474798845), (4742, 0.03289758474798845), (81, 0.03241018617760821), (2039, 0.03241018617760821), (3530, 0.03241018617760821), (503, 0.03194382824999699), (1564, 0.03194382824999699), (2806, 0.03194382824999699), (393, 0.0314970394174356), (1404, 0.0314970394174356), (2677, 0.0314970394174356), (2898, 0.03106848830006), (3125, 0.03106848830006), (586, 0.02988071523335984), (4701, 0.029160592175990215), (2784, 0.028819520885211745), (4752, 0.028819520885211745), (2570, 0.028490144114909487), (628, 0.02727723627949905), (4, 0.0), (6, 0.0), (9, 0.0), (12, 0.0), (14, 0.0), (15, 0.0), (17, 0.0), (18, 0.0), (21, 0.0), (23, 0.0), (27, 0.0), (28, 0.0), (29, 0.0), (32, 0.0), (33, 0.0), (34, 0.0), (35, 0.0), (36, 0.0), (38, 0.0), (39, 0.0), (40, 0.0), (41, 0.0), (42, 0.0), (43, 0.0), (47, 0.0), (48, 0.0), (50, 0.0), (51, 0.0), (52, 0.0), (54, 0.0), (55, 0.0), (56, 0.0), (57, 0.0), (61, 0.0), (62, 0.0), (63, 0.0), (66, 0.0), (67, 0.0), (70, 0.0), (74, 0.0), (75, 0.0), (83, 0.0), (86, 0.0), (87, 0.0), (88, 0.0), (89, 0.0), (91, 0.0), (92, 0.0), (93, 0.0), (108, 0.0), (109, 0.0), (110, 0.0), (111, 0.0), (118, 0.0), (120, 0.0), (121, 0.0), (122, 0.0), (123, 0.0), (124, 0.0), (125, 0.0), (126, 0.0), (127, 0.0), (128, 0.0), (129, 0.0), (130, 0.0), (131, 0.0), (132, 0.0), (134, 0.0), (136, 0.0), (137, 0.0), (138, 0.0), (139, 0.0), (141, 0.0), (142, 0.0), (143, 0.0), (146, 0.0), (147, 0.0), (148, 0.0), (149, 0.0), (150, 0.0), (152, 0.0), (153, 0.0), (154, 0.0), (158, 0.0), (161, 0.0), (163, 0.0), (166, 0.0), (168, 0.0), (169, 0.0), (173, 0.0), (174, 0.0), (175, 0.0), (177, 0.0), (178, 0.0), (179, 0.0), (181, 0.0), (182, 0.0), (184, 0.0), (185, 0.0), (187, 0.0), (188, 0.0), (190, 0.0), (191, 0.0), (193, 0.0), (194, 0.0), (195, 0.0), (196, 0.0), (199, 0.0), (201, 0.0), (202, 0.0), (203, 0.0), (206, 0.0), (207, 0.0), (208, 0.0), (209, 0.0), (212, 0.0), (215, 0.0), (217, 0.0), (218, 0.0), (220, 0.0), (221, 0.0), (224, 0.0), (228, 0.0), (229, 0.0), (230, 0.0), (233, 0.0), (235, 0.0), (238, 0.0), (240, 0.0), (241, 0.0), (242, 0.0), (243, 0.0), (245, 0.0), (253, 0.0), (254, 0.0), (255, 0.0), (258, 0.0), (259, 0.0), (261, 0.0), (262, 0.0), (268, 0.0), (269, 0.0), (272, 0.0), (275, 0.0), (278, 0.0), (289, 0.0), (290, 0.0), (291, 0.0), (294, 0.0), (295, 0.0), (296, 0.0), (300, 0.0), (302, 0.0), (304, 0.0), (306, 0.0), (309, 0.0), (311, 0.0), (313, 0.0), (315, 0.0), (319, 0.0), (321, 0.0), (322, 0.0), (325, 0.0), (329, 0.0), (330, 0.0), (331, 0.0), (332, 0.0), (334, 0.0), (336, 0.0), (337, 0.0), (338, 0.0), (339, 0.0), (340, 0.0), (341, 0.0), (342, 0.0), (343, 0.0), (344, 0.0), (348, 0.0), (352, 0.0), (355, 0.0), (359, 0.0), (361, 0.0), (364, 0.0), (366, 0.0), (368, 0.0), (369, 0.0), (371, 0.0), (373, 0.0), (374, 0.0), (375, 0.0), (381, 0.0), (385, 0.0), (389, 0.0), (392, 0.0), (394, 0.0), (395, 0.0), (397, 0.0), (399, 0.0), (401, 0.0), (402, 0.0), (403, 0.0), (417, 0.0), (420, 0.0), (422, 0.0), (423, 0.0), (424, 0.0), (425, 0.0), (426, 0.0), (427, 0.0), (429, 0.0), (430, 0.0), (431, 0.0), (435, 0.0), (437, 0.0), (441, 0.0), (443, 0.0), (445, 0.0), (447, 0.0), (449, 0.0), (450, 0.0), (451, 0.0), (458, 0.0), (461, 0.0), (466, 0.0), (467, 0.0), (472, 0.0), (473, 0.0), (478, 0.0), (479, 0.0), (480, 0.0), (481, 0.0), (486, 0.0), (487, 0.0), (488, 0.0), (489, 0.0), (490, 0.0), (492, 0.0), (495, 0.0), (498, 0.0), (502, 0.0), (504, 0.0), (505, 0.0), (507, 0.0), (509, 0.0), (511, 0.0), (513, 0.0), (514, 0.0), (515, 0.0), (518, 0.0), (520, 0.0), (522, 0.0), (523, 0.0), (531, 0.0), (533, 0.0), (539, 0.0), (541, 0.0), (543, 0.0), (546, 0.0), (547, 0.0), (549, 0.0), (550, 0.0), (551, 0.0), (554, 0.0), (555, 0.0), (565, 0.0), (566, 0.0), (568, 0.0), (569, 0.0), (572, 0.0), (573, 0.0), (577, 0.0), (578, 0.0), (579, 0.0), (580, 0.0), (581, 0.0), (582, 0.0), (594, 0.0), (595, 0.0), (601, 0.0), (603, 0.0), (604, 0.0), (605, 0.0), (607, 0.0), (609, 0.0), (616, 0.0), (618, 0.0), (619, 0.0), (623, 0.0), (624, 0.0), (626, 0.0), (627, 0.0), (630, 0.0), (634, 0.0), (636, 0.0), (638, 0.0), (640, 0.0), (644, 0.0), (646, 0.0), (649, 0.0), (654, 0.0), (655, 0.0), (657, 0.0), (661, 0.0), (666, 0.0), (668, 0.0), (674, 0.0), (682, 0.0), (687, 0.0), (689, 0.0), (691, 0.0), (692, 0.0), (695, 0.0), (699, 0.0), (701, 0.0), (704, 0.0), (705, 0.0), (708, 0.0), (715, 0.0), (718, 0.0), (719, 0.0), (722, 0.0), (723, 0.0), (727, 0.0), (728, 0.0), (730, 0.0), (732, 0.0), (736, 0.0), (740, 0.0), (745, 0.0), (746, 0.0), (748, 0.0), (750, 0.0), (754, 0.0), (755, 0.0), (768, 0.0), (769, 0.0), (780, 0.0), (781, 0.0), (783, 0.0), (786, 0.0), (788, 0.0), (790, 0.0), (791, 0.0), (792, 0.0), (793, 0.0), (796, 0.0), (797, 0.0), (799, 0.0), (802, 0.0), (803, 0.0), (805, 0.0), (810, 0.0), (817, 0.0), (819, 0.0), (820, 0.0), (829, 0.0), (833, 0.0), (835, 0.0), (836, 0.0), (837, 0.0), (838, 0.0), (841, 0.0), (842, 0.0), (846, 0.0), (847, 0.0), (848, 0.0), (854, 0.0), (857, 0.0), (859, 0.0), (863, 0.0), (864, 0.0), (874, 0.0), (885, 0.0), (886, 0.0), (887, 0.0), (888, 0.0), (890, 0.0), (894, 0.0), (897, 0.0), (899, 0.0), (900, 0.0), (901, 0.0), (906, 0.0), (908, 0.0), (910, 0.0), (912, 0.0), (913, 0.0), (914, 0.0), (916, 0.0), (923, 0.0), (927, 0.0), (930, 0.0), (931, 0.0), (933, 0.0), (934, 0.0), (935, 0.0), (936, 0.0), (937, 0.0), (939, 0.0), (949, 0.0), (955, 0.0), (956, 0.0), (957, 0.0), (959, 0.0), (966, 0.0), (972, 0.0), (976, 0.0), (981, 0.0), (989, 0.0), (994, 0.0), (997, 0.0), (1001, 0.0), (1011, 0.0), (1012, 0.0), (1014, 0.0), (1020, 0.0), (1029, 0.0), (1032, 0.0), (1034, 0.0), (1037, 0.0), (1040, 0.0), (1042, 0.0), (1044, 0.0), (1053, 0.0), (1056, 0.0), (1059, 0.0), (1060, 0.0), (1062, 0.0), (1068, 0.0), (1070, 0.0), (1071, 0.0), (1077, 0.0), (1078, 0.0), (1079, 0.0), (1083, 0.0), (1085, 0.0), (1088, 0.0), (1092, 0.0), (1093, 0.0), (1097, 0.0), (1099, 0.0), (1101, 0.0), (1104, 0.0), (1110, 0.0), (1115, 0.0), (1121, 0.0), (1122, 0.0), (1132, 0.0), (1134, 0.0), (1139, 0.0), (1142, 0.0), (1144, 0.0), (1147, 0.0), (1153, 0.0), (1157, 0.0), (1159, 0.0), (1163, 0.0), (1164, 0.0), (1166, 0.0), (1171, 0.0), (1174, 0.0), (1179, 0.0), (1180, 0.0), (1184, 0.0), (1185, 0.0), (1186, 0.0), (1189, 0.0), (1191, 0.0), (1192, 0.0), (1195, 0.0), (1197, 0.0), (1198, 0.0), (1201, 0.0), (1203, 0.0), (1212, 0.0), (1213, 0.0), (1214, 0.0), (1216, 0.0), (1217, 0.0), (1218, 0.0), (1219, 0.0), (1222, 0.0), (1224, 0.0), (1228, 0.0), (1229, 0.0), (1230, 0.0), (1237, 0.0), (1242, 0.0), (1249, 0.0), (1256, 0.0), (1257, 0.0), (1259, 0.0), (1261, 0.0), (1262, 0.0), (1265, 0.0), (1266, 0.0), (1267, 0.0), (1268, 0.0), (1270, 0.0), (1271, 0.0), (1272, 0.0), (1275, 0.0), (1279, 0.0), (1285, 0.0), (1287, 0.0), (1288, 0.0), (1289, 0.0), (1290, 0.0), (1293, 0.0), (1294, 0.0), (1299, 0.0), (1301, 0.0), (1303, 0.0), (1306, 0.0), (1312, 0.0), (1313, 0.0), (1319, 0.0), (1322, 0.0), (1324, 0.0), (1326, 0.0), (1331, 0.0), (1335, 0.0), (1341, 0.0), (1343, 0.0), (1344, 0.0), (1346, 0.0), (1352, 0.0), (1354, 0.0), (1355, 0.0), (1356, 0.0), (1371, 0.0), (1372, 0.0), (1375, 0.0), (1376, 0.0), (1377, 0.0), (1378, 0.0), (1379, 0.0), (1384, 0.0), (1385, 0.0), (1388, 0.0), (1389, 0.0), (1390, 0.0), (1392, 0.0), (1393, 0.0), (1395, 0.0), (1396, 0.0), (1398, 0.0), (1399, 0.0), (1400, 0.0), (1402, 0.0), (1403, 0.0), (1407, 0.0), (1410, 0.0), (1412, 0.0), (1414, 0.0), (1415, 0.0), (1420, 0.0), (1423, 0.0), (1425, 0.0), (1426, 0.0), (1428, 0.0), (1430, 0.0), (1436, 0.0), (1437, 0.0), (1438, 0.0), (1441, 0.0), (1447, 0.0), (1451, 0.0), (1453, 0.0), (1465, 0.0), (1469, 0.0), (1481, 0.0), (1482, 0.0), (1491, 0.0), (1493, 0.0), (1498, 0.0), (1499, 0.0), (1501, 0.0), (1506, 0.0), (1510, 0.0), (1514, 0.0), (1519, 0.0), (1521, 0.0), (1528, 0.0), (1534, 0.0), (1541, 0.0), (1548, 0.0), (1549, 0.0), (1552, 0.0), (1554, 0.0), (1555, 0.0), (1562, 0.0), (1567, 0.0), (1568, 0.0), (1569, 0.0), (1574, 0.0), (1576, 0.0), (1578, 0.0), (1579, 0.0), (1580, 0.0), (1586, 0.0), (1587, 0.0), (1593, 0.0), (1594, 0.0), (1598, 0.0), (1602, 0.0), (1604, 0.0), (1605, 0.0), (1606, 0.0), (1609, 0.0), (1610, 0.0), (1614, 0.0), (1616, 0.0), (1617, 0.0), (1620, 0.0), (1621, 0.0), (1630, 0.0), (1633, 0.0), (1634, 0.0), (1637, 0.0), (1642, 0.0), (1643, 0.0), (1645, 0.0), (1646, 0.0), (1648, 0.0), (1650, 0.0), (1655, 0.0), (1656, 0.0), (1658, 0.0), (1662, 0.0), (1670, 0.0), (1673, 0.0), (1676, 0.0), (1680, 0.0), (1682, 0.0), (1683, 0.0), (1690, 0.0), (1698, 0.0), (1702, 0.0), (1703, 0.0), (1707, 0.0), (1709, 0.0), (1713, 0.0), (1716, 0.0), (1718, 0.0), (1721, 0.0), (1722, 0.0), (1723, 0.0), (1726, 0.0), (1729, 0.0), (1730, 0.0), (1733, 0.0), (1741, 0.0), (1743, 0.0), (1755, 0.0), (1757, 0.0), (1766, 0.0), (1778, 0.0), (1788, 0.0), (1789, 0.0), (1790, 0.0), (1791, 0.0), (1794, 0.0), (1797, 0.0), (1801, 0.0), (1802, 0.0), (1804, 0.0), (1808, 0.0), (1815, 0.0), (1821, 0.0), (1822, 0.0), (1825, 0.0), (1826, 0.0), (1830, 0.0), (1834, 0.0), (1846, 0.0), (1848, 0.0), (1856, 0.0), (1857, 0.0), (1858, 0.0), (1861, 0.0), (1862, 0.0), (1871, 0.0), (1872, 0.0), (1876, 0.0), (1879, 0.0), (1880, 0.0), (1882, 0.0), (1883, 0.0), (1887, 0.0), (1893, 0.0), (1896, 0.0), (1904, 0.0), (1907, 0.0), (1911, 0.0), (1914, 0.0), (1926, 0.0), (1933, 0.0), (1936, 0.0), (1939, 0.0), (1942, 0.0), (1947, 0.0), (1950, 0.0), (1951, 0.0), (1961, 0.0), (1963, 0.0), (1966, 0.0), (1976, 0.0), (1977, 0.0), (1980, 0.0), (1981, 0.0), (1987, 0.0), (1988, 0.0), (1989, 0.0), (1995, 0.0), (1996, 0.0), (1999, 0.0), (2002, 0.0), (2003, 0.0), (2007, 0.0), (2014, 0.0), (2015, 0.0), (2018, 0.0), (2021, 0.0), (2023, 0.0), (2033, 0.0), (2034, 0.0), (2035, 0.0), (2042, 0.0), (2045, 0.0), (2047, 0.0), (2054, 0.0), (2056, 0.0), (2057, 0.0), (2064, 0.0), (2065, 0.0), (2066, 0.0), (2067, 0.0), (2069, 0.0), (2070, 0.0), (2076, 0.0), (2083, 0.0), (2084, 0.0), (2090, 0.0), (2092, 0.0), (2093, 0.0), (2094, 0.0), (2095, 0.0), (2097, 0.0), (2098, 0.0), (2100, 0.0), (2107, 0.0), (2112, 0.0), (2113, 0.0), (2114, 0.0), (2116, 0.0), (2119, 0.0), (2120, 0.0), (2122, 0.0), (2125, 0.0), (2127, 0.0), (2132, 0.0), (2137, 0.0), (2139, 0.0), (2142, 0.0), (2143, 0.0), (2144, 0.0), (2153, 0.0), (2157, 0.0), (2158, 0.0), (2159, 0.0), (2160, 0.0), (2163, 0.0), (2171, 0.0), (2180, 0.0), (2182, 0.0), (2191, 0.0), (2194, 0.0), (2197, 0.0), (2199, 0.0), (2201, 0.0), (2206, 0.0), (2209, 0.0), (2212, 0.0), (2214, 0.0), (2217, 0.0), (2220, 0.0), (2223, 0.0), (2226, 0.0), (2230, 0.0), (2231, 0.0), (2237, 0.0), (2244, 0.0), (2247, 0.0), (2249, 0.0), (2253, 0.0), (2256, 0.0), (2258, 0.0), (2263, 0.0), (2264, 0.0), (2270, 0.0), (2279, 0.0), (2281, 0.0), (2283, 0.0), (2286, 0.0), (2290, 0.0), (2293, 0.0), (2294, 0.0), (2299, 0.0), (2303, 0.0), (2309, 0.0), (2311, 0.0), (2312, 0.0), (2315, 0.0), (2319, 0.0), (2320, 0.0), (2325, 0.0), (2327, 0.0), (2337, 0.0), (2339, 0.0), (2351, 0.0), (2352, 0.0), (2355, 0.0), (2357, 0.0), (2363, 0.0), (2366, 0.0), (2370, 0.0), (2372, 0.0), (2376, 0.0), (2379, 0.0), (2387, 0.0), (2389, 0.0), (2392, 0.0), (2394, 0.0), (2396, 0.0), (2400, 0.0), (2408, 0.0), (2409, 0.0), (2411, 0.0), (2414, 0.0), (2415, 0.0), (2417, 0.0), (2418, 0.0), (2420, 0.0), (2422, 0.0), (2426, 0.0), (2427, 0.0), (2430, 0.0), (2433, 0.0), (2439, 0.0), (2441, 0.0), (2443, 0.0), (2444, 0.0), (2445, 0.0), (2451, 0.0), (2454, 0.0), (2457, 0.0), (2460, 0.0), (2462, 0.0), (2466, 0.0), (2477, 0.0), (2484, 0.0), (2486, 0.0), (2490, 0.0), (2496, 0.0), (2497, 0.0), (2511, 0.0), (2526, 0.0), (2527, 0.0), (2528, 0.0), (2530, 0.0), (2535, 0.0), (2540, 0.0), (2544, 0.0), (2551, 0.0), (2554, 0.0), (2555, 0.0), (2556, 0.0), (2559, 0.0), (2566, 0.0), (2567, 0.0), (2575, 0.0), (2576, 0.0), (2579, 0.0), (2588, 0.0), (2589, 0.0), (2590, 0.0), (2591, 0.0), (2598, 0.0), (2601, 0.0), (2602, 0.0), (2604, 0.0), (2612, 0.0), (2618, 0.0), (2619, 0.0), (2622, 0.0), (2626, 0.0), (2639, 0.0), (2644, 0.0), (2653, 0.0), (2655, 0.0), (2669, 0.0), (2672, 0.0), (2673, 0.0), (2676, 0.0), (2679, 0.0), (2681, 0.0), (2683, 0.0), (2684, 0.0), (2687, 0.0), (2688, 0.0), (2689, 0.0), (2690, 0.0), (2695, 0.0), (2698, 0.0), (2699, 0.0), (2705, 0.0), (2707, 0.0), (2712, 0.0), (2715, 0.0), (2720, 0.0), (2728, 0.0), (2729, 0.0), (2735, 0.0), (2738, 0.0), (2740, 0.0), (2741, 0.0), (2743, 0.0), (2744, 0.0), (2746, 0.0), (2747, 0.0), (2754, 0.0), (2755, 0.0), (2761, 0.0), (2768, 0.0), (2780, 0.0), (2781, 0.0), (2785, 0.0), (2791, 0.0), (2795, 0.0), (2812, 0.0), (2816, 0.0), (2817, 0.0), (2819, 0.0), (2823, 0.0), (2830, 0.0), (2831, 0.0), (2833, 0.0), (2834, 0.0), (2837, 0.0), (2842, 0.0), (2846, 0.0), (2848, 0.0), (2850, 0.0), (2851, 0.0), (2854, 0.0), (2861, 0.0), (2865, 0.0), (2867, 0.0), (2868, 0.0), (2873, 0.0), (2874, 0.0), (2889, 0.0), (2895, 0.0), (2897, 0.0), (2899, 0.0), (2900, 0.0), (2902, 0.0), (2911, 0.0), (2918, 0.0), (2923, 0.0), (2928, 0.0), (2929, 0.0), (2930, 0.0), (2937, 0.0), (2938, 0.0), (2945, 0.0), (2964, 0.0), (2966, 0.0), (2978, 0.0), (2979, 0.0), (2987, 0.0), (2990, 0.0), (2991, 0.0), (2994, 0.0), (2995, 0.0), (2998, 0.0), (2999, 0.0), (3001, 0.0), (3002, 0.0), (3003, 0.0), (3004, 0.0), (3010, 0.0), (3013, 0.0), (3014, 0.0), (3017, 0.0), (3018, 0.0), (3024, 0.0), (3030, 0.0), (3036, 0.0), (3038, 0.0), (3042, 0.0), (3046, 0.0), (3049, 0.0), (3051, 0.0), (3053, 0.0), (3056, 0.0), (3058, 0.0), (3065, 0.0), (3077, 0.0), (3079, 0.0), (3081, 0.0), (3082, 0.0), (3086, 0.0), (3089, 0.0), (3094, 0.0), (3097, 0.0), (3098, 0.0), (3099, 0.0), (3107, 0.0), (3108, 0.0), (3114, 0.0), (3115, 0.0), (3117, 0.0), (3122, 0.0), (3128, 0.0), (3129, 0.0), (3132, 0.0), (3133, 0.0), (3135, 0.0), (3136, 0.0), (3137, 0.0), (3139, 0.0), (3141, 0.0), (3142, 0.0), (3143, 0.0), (3146, 0.0), (3147, 0.0), (3150, 0.0), (3151, 0.0), (3158, 0.0), (3159, 0.0), (3162, 0.0), (3163, 0.0), (3167, 0.0), (3168, 0.0), (3171, 0.0), (3174, 0.0), (3175, 0.0), (3176, 0.0), (3179, 0.0), (3182, 0.0), (3187, 0.0), (3189, 0.0), (3190, 0.0), (3192, 0.0), (3193, 0.0), (3202, 0.0), (3203, 0.0), (3210, 0.0), (3213, 0.0), (3214, 0.0), (3215, 0.0), (3216, 0.0), (3218, 0.0), (3228, 0.0), (3230, 0.0), (3235, 0.0), (3237, 0.0), (3240, 0.0), (3243, 0.0), (3246, 0.0), (3247, 0.0), (3248, 0.0), (3249, 0.0), (3251, 0.0), (3256, 0.0), (3263, 0.0), (3267, 0.0), (3268, 0.0), (3274, 0.0), (3281, 0.0), (3290, 0.0), (3296, 0.0), (3300, 0.0), (3305, 0.0), (3317, 0.0), (3320, 0.0), (3324, 0.0), (3327, 0.0), (3329, 0.0), (3331, 0.0), (3335, 0.0), (3336, 0.0), (3346, 0.0), (3351, 0.0), (3353, 0.0), (3356, 0.0), (3360, 0.0), (3371, 0.0), (3383, 0.0), (3386, 0.0), (3389, 0.0), (3395, 0.0), (3402, 0.0), (3418, 0.0), (3423, 0.0), (3428, 0.0), (3443, 0.0), (3444, 0.0), (3451, 0.0), (3456, 0.0), (3458, 0.0), (3459, 0.0), (3460, 0.0), (3464, 0.0), (3469, 0.0), (3471, 0.0), (3478, 0.0), (3484, 0.0), (3485, 0.0), (3502, 0.0), (3503, 0.0), (3505, 0.0), (3509, 0.0), (3515, 0.0), (3523, 0.0), (3524, 0.0), (3531, 0.0), (3546, 0.0), (3555, 0.0), (3557, 0.0), (3559, 0.0), (3563, 0.0), (3565, 0.0), (3572, 0.0), (3573, 0.0), (3575, 0.0), (3578, 0.0), (3580, 0.0), (3586, 0.0), (3592, 0.0), (3595, 0.0), (3597, 0.0), (3600, 0.0), (3601, 0.0), (3604, 0.0), (3606, 0.0), (3607, 0.0), (3617, 0.0), (3620, 0.0), (3623, 0.0), (3625, 0.0), (3630, 0.0), (3646, 0.0), (3648, 0.0), (3652, 0.0), (3653, 0.0), (3656, 0.0), (3657, 0.0), (3660, 0.0), (3670, 0.0), (3671, 0.0), (3672, 0.0), (3676, 0.0), (3677, 0.0), (3680, 0.0), (3682, 0.0), (3683, 0.0), (3687, 0.0), (3697, 0.0), (3702, 0.0), (3707, 0.0), (3715, 0.0), (3720, 0.0), (3721, 0.0), (3724, 0.0), (3730, 0.0), (3733, 0.0), (3735, 0.0), (3742, 0.0), (3744, 0.0), (3746, 0.0), (3749, 0.0), (3752, 0.0), (3754, 0.0), (3755, 0.0), (3768, 0.0), (3770, 0.0), (3771, 0.0), (3774, 0.0), (3775, 0.0), (3787, 0.0), (3800, 0.0), (3803, 0.0), (3806, 0.0), (3807, 0.0), (3808, 0.0), (3809, 0.0), (3816, 0.0), (3820, 0.0), (3826, 0.0), (3827, 0.0), (3829, 0.0), (3830, 0.0), (3836, 0.0), (3840, 0.0), (3841, 0.0), (3843, 0.0), (3845, 0.0), (3848, 0.0), (3853, 0.0), (3854, 0.0), (3855, 0.0), (3860, 0.0), (3861, 0.0), (3871, 0.0), (3882, 0.0), (3883, 0.0), (3884, 0.0), (3885, 0.0), (3888, 0.0), (3889, 0.0), (3890, 0.0), (3891, 0.0), (3897, 0.0), (3901, 0.0), (3902, 0.0), (3904, 0.0), (3907, 0.0), (3908, 0.0), (3909, 0.0), (3910, 0.0), (3915, 0.0), (3916, 0.0), (3917, 0.0), (3919, 0.0), (3925, 0.0), (3928, 0.0), (3929, 0.0), (3933, 0.0), (3939, 0.0), (3942, 0.0), (3943, 0.0), (3947, 0.0), (3948, 0.0), (3949, 0.0), (3951, 0.0), (3954, 0.0), (3956, 0.0), (3958, 0.0), (3959, 0.0), (3960, 0.0), (3963, 0.0), (3964, 0.0), (3968, 0.0), (3970, 0.0), (3971, 0.0), (3979, 0.0), (3980, 0.0), (3984, 0.0), (3985, 0.0), (3986, 0.0), (3987, 0.0), (3988, 0.0), (3991, 0.0), (3992, 0.0), (3993, 0.0), (3997, 0.0), (3998, 0.0), (4001, 0.0), (4002, 0.0), (4003, 0.0), (4005, 0.0), (4006, 0.0), (4007, 0.0), (4009, 0.0), (4011, 0.0), (4012, 0.0), (4014, 0.0), (4018, 0.0), (4020, 0.0), (4025, 0.0), (4029, 0.0), (4031, 0.0), (4034, 0.0), (4035, 0.0), (4036, 0.0), (4039, 0.0), (4042, 0.0), (4043, 0.0), (4046, 0.0), (4050, 0.0), (4052, 0.0), (4056, 0.0), (4059, 0.0), (4066, 0.0), (4068, 0.0), (4069, 0.0), (4072, 0.0), (4073, 0.0), (4075, 0.0), (4077, 0.0), (4080, 0.0), (4096, 0.0), (4102, 0.0), (4105, 0.0), (4108, 0.0), (4110, 0.0), (4116, 0.0), (4117, 0.0), (4118, 0.0), (4120, 0.0), (4123, 0.0), (4131, 0.0), (4133, 0.0), (4137, 0.0), (4138, 0.0), (4140, 0.0), (4141, 0.0), (4148, 0.0), (4149, 0.0), (4151, 0.0), (4156, 0.0), (4161, 0.0), (4176, 0.0), (4180, 0.0), (4181, 0.0), (4183, 0.0), (4185, 0.0), (4186, 0.0), (4187, 0.0), (4188, 0.0), (4193, 0.0), (4207, 0.0), (4210, 0.0), (4213, 0.0), (4214, 0.0), (4215, 0.0), (4219, 0.0), (4227, 0.0), (4229, 0.0), (4234, 0.0), (4235, 0.0), (4237, 0.0), (4240, 0.0), (4241, 0.0), (4242, 0.0), (4245, 0.0), (4248, 0.0), (4254, 0.0), (4258, 0.0), (4259, 0.0), (4261, 0.0), (4262, 0.0), (4274, 0.0), (4276, 0.0), (4277, 0.0), (4278, 0.0), (4279, 0.0), (4282, 0.0), (4284, 0.0), (4286, 0.0), (4289, 0.0), (4293, 0.0), (4297, 0.0), (4298, 0.0), (4302, 0.0), (4305, 0.0), (4311, 0.0), (4313, 0.0), (4314, 0.0), (4315, 0.0), (4316, 0.0), (4317, 0.0), (4319, 0.0), (4321, 0.0), (4322, 0.0), (4323, 0.0), (4325, 0.0), (4327, 0.0), (4328, 0.0), (4335, 0.0), (4336, 0.0), (4339, 0.0), (4340, 0.0), (4341, 0.0), (4343, 0.0), (4344, 0.0), (4347, 0.0), (4352, 0.0), (4353, 0.0), (4361, 0.0), (4363, 0.0), (4366, 0.0), (4368, 0.0), (4372, 0.0), (4374, 0.0), (4381, 0.0), (4382, 0.0), (4383, 0.0), (4385, 0.0), (4387, 0.0), (4389, 0.0), (4390, 0.0), (4396, 0.0), (4400, 0.0), (4401, 0.0), (4405, 0.0), (4414, 0.0), (4415, 0.0), (4418, 0.0), (4419, 0.0), (4420, 0.0), (4425, 0.0), (4428, 0.0), (4431, 0.0), (4433, 0.0), (4435, 0.0), (4440, 0.0), (4442, 0.0), (4446, 0.0), (4451, 0.0), (4458, 0.0), (4464, 0.0), (4466, 0.0), (4469, 0.0), (4471, 0.0), (4473, 0.0), (4477, 0.0), (4478, 0.0), (4479, 0.0), (4481, 0.0), (4489, 0.0), (4491, 0.0), (4492, 0.0), (4495, 0.0), (4496, 0.0), (4500, 0.0), (4503, 0.0), (4504, 0.0), (4506, 0.0), (4508, 0.0), (4513, 0.0), (4515, 0.0), (4516, 0.0), (4517, 0.0), (4521, 0.0), (4524, 0.0), (4530, 0.0), (4534, 0.0), (4536, 0.0), (4537, 0.0), (4538, 0.0), (4544, 0.0), (4545, 0.0), (4546, 0.0), (4547, 0.0), (4550, 0.0), (4552, 0.0), (4553, 0.0), (4554, 0.0), (4555, 0.0), (4557, 0.0), (4558, 0.0), (4559, 0.0), (4560, 0.0), (4561, 0.0), (4562, 0.0), (4566, 0.0), (4568, 0.0), (4569, 0.0), (4570, 0.0), (4571, 0.0), (4575, 0.0), (4577, 0.0), (4578, 0.0), (4579, 0.0), (4581, 0.0), (4583, 0.0), (4584, 0.0), (4585, 0.0), (4586, 0.0), (4587, 0.0), (4596, 0.0), (4597, 0.0), (4598, 0.0), (4600, 0.0), (4601, 0.0), (4604, 0.0), (4606, 0.0), (4608, 0.0), (4609, 0.0), (4611, 0.0), (4616, 0.0), (4617, 0.0), (4621, 0.0), (4622, 0.0), (4623, 0.0), (4625, 0.0), (4628, 0.0), (4629, 0.0), (4633, 0.0), (4639, 0.0), (4640, 0.0), (4644, 0.0), (4645, 0.0), (4650, 0.0), (4657, 0.0), (4663, 0.0), (4666, 0.0), (4669, 0.0), (4670, 0.0), (4671, 0.0), (4673, 0.0), (4674, 0.0), (4679, 0.0), (4681, 0.0), (4682, 0.0), (4684, 0.0), (4685, 0.0), (4689, 0.0), (4697, 0.0), (4698, 0.0), (4709, 0.0), (4710, 0.0), (4711, 0.0), (4712, 0.0), (4713, 0.0), (4716, 0.0), (4718, 0.0), (4721, 0.0), (4723, 0.0), (4728, 0.0), (4729, 0.0), (4731, 0.0), (4732, 0.0), (4736, 0.0), (4737, 0.0), (4739, 0.0), (4741, 0.0), (4743, 0.0), (4745, 0.0), (4748, 0.0), (4755, 0.0), (4756, 0.0), (4757, 0.0), (4759, 0.0), (4761, 0.0), (4763, 0.0), (4765, 0.0), (4767, 0.0), (4773, 0.0), (4781, 0.0), (4783, 0.0), (4786, 0.0), (4791, 0.0), (4794, 0.0), (4797, 0.0), (4799, 0.0), (4801, 0.0), (4802, 0.0)]\n"
     ]
    }
   ],
   "source": [
    "# sorting the movies based on their similarity score\n",
    "sorted_similar_movies = sorted(similarity_score, key = lambda x : x[1], reverse = True) \n",
    "print(sorted_similar_movies)"
   ]
  },
  {
   "cell_type": "code",
   "execution_count": 84,
   "metadata": {
    "colab": {
     "base_uri": "https://localhost:8080/"
    },
    "id": "GXbqECJzwu5N",
    "outputId": "70794516-bedc-4135-9ff6-1e04a8db31d9"
   },
   "outputs": [
    {
     "name": "stdout",
     "output_type": "stream",
     "text": [
      "How many Movies would you wish to be recommended?5\n"
     ]
    }
   ],
   "source": [
    "while True:\n",
    "    try:\n",
    "        n = int(input('How many Movies would you wish to be recommended?'))\n",
    "        break\n",
    "    except:\n",
    "        print(\"Please! Enter a Number\")"
   ]
  },
  {
   "cell_type": "code",
   "execution_count": 85,
   "metadata": {
    "colab": {
     "base_uri": "https://localhost:8080/"
    },
    "id": "_Zh2dWJ-4Hq9",
    "outputId": "0328f7bd-0f8c-4cb8-dcc6-1edc7b8d812a",
    "scrolled": true
   },
   "outputs": [
    {
     "name": "stdout",
     "output_type": "stream",
     "text": [
      "Movies Recommended For You: \n",
      "\n",
      "1 .  the godfather (100.0 %)\n",
      "2 .  the godfather: part ii (42.43 %)\n",
      "3 .  the godfather: part iii (37.06 %)\n",
      "4 .  west side story (34.02 %)\n",
      "5 .  apocalypse now (33.81 %)\n"
     ]
    }
   ],
   "source": [
    "# Recommending the Movies\n",
    "print(\"Movies Recommended For You: \\n\")\n",
    "i = 1\n",
    "\n",
    "for value in sorted_similar_movies[0:n]:\n",
    "    index = value[0]\n",
    "    selected_movie = df.title.loc[index]\n",
    "    similarity_value = value[1]\n",
    "    percent = \"(\"+str(round(similarity_value*100, 2))+\" %)\"\n",
    "\n",
    "    print(i,\". \",selected_movie,percent)\n",
    "    i+=1"
   ]
  },
  {
   "cell_type": "markdown",
   "metadata": {
    "id": "8NkmOY2165nx"
   },
   "source": [
    "# Finalized/Developed Movie Recommended System"
   ]
  },
  {
   "cell_type": "code",
   "execution_count": 86,
   "metadata": {
    "colab": {
     "base_uri": "https://localhost:8080/"
    },
    "id": "i1bBWjYM6Mde",
    "outputId": "86225a2a-8a86-4c88-a85f-d43b77d7f209"
   },
   "outputs": [
    {
     "name": "stdout",
     "output_type": "stream",
     "text": [
      "Enter the Name of your Favourite Movie: the departed\n",
      "\n",
      "How many Movies would you wish to be recommended?5\n",
      "\n",
      "Movies Recommended For You:\n",
      "(It is generally recommended to priotize movies with atleast similarity/accuracy around 40 % due to limitations of model and Dataset)\n",
      "\n",
      "1 .  Shutter Island (35.56 %)\n",
      "2 .  The Wolf of Wall Street (33.37 %)\n",
      "3 .  Gangs of New York (31.12 %)\n",
      "4 .  Catch Me If You Can (30.46 %)\n",
      "5 .  The Aviator (30.15 %)\n"
     ]
    }
   ],
   "source": [
    "# Importing the Dependencies\n",
    "import pandas as pd\n",
    "from sklearn.feature_extraction.text import CountVectorizer\n",
    "from sklearn.metrics.pairwise import cosine_similarity\n",
    "\n",
    "# Reading and Loading the csv file into pandas dataframe \n",
    "df = pd.read_csv('movies.csv')\n",
    "df.drop_duplicates(inplace = True)\n",
    "\n",
    "# Selecting Certain Features\n",
    "selected_features = ['genres','keywords','cast','director']\n",
    "\n",
    "# FIlling Null values in the selected columns in the df dataframe\n",
    "for i in selected_features:\n",
    "    df[i].fillna('', inplace = True)\n",
    "\n",
    "# Creating and converting a Combined Features\n",
    "combined_features = df[selected_features[0]]+\" \"+df[selected_features[1]]+\" \"+df[selected_features[2]]+\" \"+df[selected_features[3]]#+\" \"+df[selected_features[4]]+\" \"+df[selected_features[5]]\n",
    "combined_features = combined_features.str.lower()\n",
    "\n",
    "# Using CountVectorier to Learn Vocabulary for different Features\n",
    "vect = CountVectorizer()\n",
    "feature_vectors = vect.fit_transform(combined_features)\n",
    "\n",
    "# Using cosine_similarity to get similarity scores\n",
    "similarity = cosine_similarity(feature_vectors)\n",
    "\n",
    "# Asking user for their Favourite Movie for making Recommendations\n",
    "movie = input(\"Enter the Name of your Favourite Movie: \")\n",
    "movie = movie.lower()\n",
    "\n",
    "# Filling Null values and Converting whole title Feature column into lowercase\n",
    "df['title'].fillna('', inplace = True)\n",
    "df['titlelower'] = df.title.str.lower()\n",
    "\n",
    "# Getting all movies into a list\n",
    "all_movies = df['titlelower'].tolist()\n",
    "\n",
    "#  Calculating the index of the Movie \n",
    "index_of_the_movie = df[df.titlelower == movie].index[0]\n",
    "\n",
    "# Calculating the similar movies' indexes and their similarity values in a tuple inside another list\n",
    "similarity_score = list(enumerate(similarity[index_of_the_movie]))\n",
    "\n",
    "# Sorting the previous List in accordance to their similarity score using Scored Function\n",
    "sorted_similar_movies = sorted(similarity_score, key = lambda x : x[1], reverse = True) \n",
    "sorted_similar_movies.remove(sorted_similar_movies[0])\n",
    "\n",
    "# Asking user How Many Movies do You wish to be Recommended?\n",
    "while True:\n",
    "    try:\n",
    "        n = int(input('\\nHow many Movies would you wish to be recommended?'))\n",
    "        break\n",
    "    except:\n",
    "        print(\"Please! Enter a Number\")\n",
    "\n",
    "# Recommending the Movies\n",
    "print(\"\\nMovies Recommended For You:\")\n",
    "print(\"(It is generally recommended to priotize movies with atleast similarity/accuracy around 40 % due to limitations of model and Dataset)\\n\")\n",
    "i = 1\n",
    "\n",
    "for value in sorted_similar_movies[0:n]:\n",
    "    index = value[0]\n",
    "    selected_movie = df.title.loc[index]\n",
    "    similarity_value = value[1]\n",
    "    percent = \"(\"+str(round(similarity_value*100, 2))+\" %)\"\n",
    "    print(i,\". \",selected_movie,percent)\n",
    "    i+=1"
   ]
  },
  {
   "cell_type": "markdown",
   "metadata": {
    "id": "Bkt49FJ4eYfY"
   },
   "source": [
    "# Steps"
   ]
  },
  {
   "cell_type": "markdown",
   "metadata": {
    "id": "6OzDNHlNgClA"
   },
   "source": [
    "Pipeline:\n",
    "    \n",
    "    1.  Removing duplicates from the dataframe\n",
    "    2.  combining selected features in lowercase\n",
    "    3.  Using CountVectorizer to tokenize  and learn vocabulary form combined features\n",
    "    4.  Using CosineSimilarity for calculating the similaraties of the array of vocabulary created through vectorizer, and               storing the array containing similarities in a variable\n",
    "    5.  Asking user for their favourite movie, and converting the input into a lowercase\n",
    "    6.  Creating a list containing all titles from the dataframe\n",
    "    7.  Getting index value of the movie user entered from the dataframe\n",
    "    8.  Sorting the list created from step 7 by the similarity value in descending order\n",
    "    9.  Asking user how many number of movies to be recommended\n",
    "    10. Performing final operation\n",
    "    "
   ]
  },
  {
   "cell_type": "code",
   "execution_count": 88,
   "metadata": {},
   "outputs": [],
   "source": [
    "import pickle"
   ]
  },
  {
   "cell_type": "code",
   "execution_count": 89,
   "metadata": {},
   "outputs": [],
   "source": [
    "pickle.dump(df,open('movies.pkl','wb'))"
   ]
  },
  {
   "cell_type": "code",
   "execution_count": 90,
   "metadata": {},
   "outputs": [],
   "source": [
    "pickle.dump(df.to_dict(),open('movie_dict.pkl', 'wb')) "
   ]
  },
  {
   "cell_type": "code",
   "execution_count": 91,
   "metadata": {},
   "outputs": [],
   "source": [
    "pickle.dump(similarity, open('similarity.pkl', 'wb'))"
   ]
  },
  {
   "cell_type": "markdown",
   "metadata": {},
   "source": [
    "# Thank you\n",
    "\n",
    "### Please Check my other projects as well"
   ]
  }
 ],
 "metadata": {
  "colab": {
   "collapsed_sections": [],
   "name": "M_R_S by Sujan Neupane.ipynb",
   "provenance": []
  },
  "kernelspec": {
   "display_name": "Python 3",
   "language": "python",
   "name": "python3"
  },
  "language_info": {
   "codemirror_mode": {
    "name": "ipython",
    "version": 3
   },
   "file_extension": ".py",
   "mimetype": "text/x-python",
   "name": "python",
   "nbconvert_exporter": "python",
   "pygments_lexer": "ipython3",
   "version": "3.8.8"
  }
 },
 "nbformat": 4,
 "nbformat_minor": 1
}
